{
 "cells": [
  {
   "cell_type": "markdown",
   "id": "b29df2bd",
   "metadata": {},
   "source": [
    "# Projeto Cluster - Quiz Casal Próspero"
   ]
  },
  {
   "cell_type": "code",
   "execution_count": 1,
   "id": "981e07d1",
   "metadata": {},
   "outputs": [],
   "source": [
    "# Imports\n",
    "import numpy as np\n",
    "import pandas as pd\n",
    "import seaborn as sns\n",
    "import matplotlib.pyplot as plt\n",
    "import plotly.express as px\n",
    "import plotly.subplots as sp\n",
    "import plotly.graph_objects as go\n",
    "from plotly.subplots import make_subplots\n",
    "import plotly.express.colors as pcolors\n",
    "from plotly.colors import qualitative\n",
    "from sklearn.preprocessing import StandardScaler\n",
    "from sklearn.cluster import KMeans\n",
    "from sklearn.metrics import silhouette_score\n",
    "from sklearn.preprocessing import OneHotEncoder\n",
    "from sklearn.decomposition import PCA\n",
    "from scipy.stats import chi2_contingency\n",
    "import warnings\n",
    "warnings.filterwarnings('ignore')"
   ]
  },
  {
   "cell_type": "markdown",
   "id": "14a5f070",
   "metadata": {},
   "source": [
    "# Carregando e Explorando os Dados"
   ]
  },
  {
   "cell_type": "code",
   "execution_count": 2,
   "id": "3fae7300",
   "metadata": {},
   "outputs": [],
   "source": [
    "# Carrega os datasets\n",
    "df_01 = pd.read_csv('leads_funil-casamento_df1.csv')\n",
    "df_02 = pd.read_csv('leads_funil-casamento_df2.csv')\n",
    "df_03 = pd.read_csv('leads_funil-casamento_df3.csv')"
   ]
  },
  {
   "cell_type": "markdown",
   "id": "9e5ebc9d",
   "metadata": {},
   "source": [
    "## Análise Exploratória"
   ]
  },
  {
   "cell_type": "markdown",
   "id": "bcb2ab28",
   "metadata": {},
   "source": [
    "Limpando df01 e df02"
   ]
  },
  {
   "cell_type": "code",
   "execution_count": 3,
   "id": "50b12fae",
   "metadata": {
    "scrolled": true
   },
   "outputs": [
    {
     "data": {
      "text/html": [
       "<div>\n",
       "<style scoped>\n",
       "    .dataframe tbody tr th:only-of-type {\n",
       "        vertical-align: middle;\n",
       "    }\n",
       "\n",
       "    .dataframe tbody tr th {\n",
       "        vertical-align: top;\n",
       "    }\n",
       "\n",
       "    .dataframe thead th {\n",
       "        text-align: right;\n",
       "    }\n",
       "</style>\n",
       "<table border=\"1\" class=\"dataframe\">\n",
       "  <thead>\n",
       "    <tr style=\"text-align: right;\">\n",
       "      <th></th>\n",
       "      <th>code</th>\n",
       "      <th>created_at</th>\n",
       "      <th>button: oQcJxV</th>\n",
       "      <th>options: opcoes_UAa9JQ</th>\n",
       "      <th>button: 0FvZw6</th>\n",
       "      <th>options: opcoes_KxEbYn</th>\n",
       "      <th>options: opcoes_iSdQa9</th>\n",
       "      <th>options: opcoes_GZPJo1</th>\n",
       "      <th>options: opcoes_n5nnNG</th>\n",
       "      <th>options: opcoes_G7CtE4</th>\n",
       "      <th>options: opcoes_euOjgt</th>\n",
       "      <th>options: opcoes_3FPmNX</th>\n",
       "      <th>options: opcoes_kGxmr1</th>\n",
       "      <th>field: 11ABFZ</th>\n",
       "      <th>field: 3hxWeL</th>\n",
       "      <th>field: 5fSLVc</th>\n",
       "      <th>button: enviar</th>\n",
       "      <th>tracking</th>\n",
       "    </tr>\n",
       "  </thead>\n",
       "  <tbody>\n",
       "    <tr>\n",
       "      <th>315</th>\n",
       "      <td>0yId7t</td>\n",
       "      <td>04/05/2025 21:36:25</td>\n",
       "      <td>clicked</td>\n",
       "      <td>NaN</td>\n",
       "      <td>NaN</td>\n",
       "      <td>(B) Temos algumas referências, mas nada decidido</td>\n",
       "      <td>(A) Vivemos no limite e temos dívidas</td>\n",
       "      <td>(A) Está completamente envolvido(a), sonha jun...</td>\n",
       "      <td>(A) Não começamos ainda</td>\n",
       "      <td>(A) Não conseguiríamos bancar nada ainda</td>\n",
       "      <td>(D) Um evento inesquecível, com tudo que temos...</td>\n",
       "      <td>(B) Pensamos, mas parece fora da nossa realidade</td>\n",
       "      <td>(B) Queremos muito, mas temos medo de não dar ...</td>\n",
       "      <td>Hanna</td>\n",
       "      <td>hanna050798@gmail.com</td>\n",
       "      <td>21975588227</td>\n",
       "      <td>clicked</td>\n",
       "      <td>utm_source: MA-120220925670300172 | utm_medium...</td>\n",
       "    </tr>\n",
       "    <tr>\n",
       "      <th>52</th>\n",
       "      <td>VLgRqt</td>\n",
       "      <td>01/05/2025 19:40:48</td>\n",
       "      <td>clicked</td>\n",
       "      <td>NaN</td>\n",
       "      <td>NaN</td>\n",
       "      <td>NaN</td>\n",
       "      <td>NaN</td>\n",
       "      <td>NaN</td>\n",
       "      <td>NaN</td>\n",
       "      <td>NaN</td>\n",
       "      <td>NaN</td>\n",
       "      <td>NaN</td>\n",
       "      <td>NaN</td>\n",
       "      <td>NaN</td>\n",
       "      <td>NaN</td>\n",
       "      <td>NaN</td>\n",
       "      <td>NaN</td>\n",
       "      <td>utm_source: MA-120220925670300172 | utm_medium...</td>\n",
       "    </tr>\n",
       "    <tr>\n",
       "      <th>148</th>\n",
       "      <td>knA4LK</td>\n",
       "      <td>02/05/2025 19:43:30</td>\n",
       "      <td>NaN</td>\n",
       "      <td>NaN</td>\n",
       "      <td>clicked</td>\n",
       "      <td>(D) Sabemos exatamente o que queremos e já com...</td>\n",
       "      <td>(A) Vivemos no limite e temos dívidas</td>\n",
       "      <td>(A) Está completamente envolvido(a), sonha jun...</td>\n",
       "      <td>(D) Temos planilhas, metas e até cronograma de...</td>\n",
       "      <td>(C) Teríamos que parcelar bastante ou contar c...</td>\n",
       "      <td>(C) Uma cerimônia encantadora, com tudo bem feito</td>\n",
       "      <td>(C) Temos destinos em mente, mas sem orçamento...</td>\n",
       "      <td>(D) Estamos prontos, queremos agir e realizar ...</td>\n",
       "      <td>NaN</td>\n",
       "      <td>NaN</td>\n",
       "      <td>NaN</td>\n",
       "      <td>NaN</td>\n",
       "      <td>utm_source: MA-120220925670300172 | utm_medium...</td>\n",
       "    </tr>\n",
       "    <tr>\n",
       "      <th>197</th>\n",
       "      <td>9LV80U</td>\n",
       "      <td>03/05/2025 15:28:09</td>\n",
       "      <td>clicked</td>\n",
       "      <td>NaN</td>\n",
       "      <td>NaN</td>\n",
       "      <td>(A) Ainda estamos completamente perdidos sobre...</td>\n",
       "      <td>(D) Estamos bem financeiramente, mas queremos ...</td>\n",
       "      <td>(A) Está completamente envolvido(a), sonha jun...</td>\n",
       "      <td>(A) Não começamos ainda</td>\n",
       "      <td>(D) Poderíamos arcar com boa parte, mas querem...</td>\n",
       "      <td>(B) Algo íntimo e simples, só com pessoas próx...</td>\n",
       "      <td>(A) Nem pensamos nisso ainda</td>\n",
       "      <td>(A) Desejamos, mas nos falta tempo e direção</td>\n",
       "      <td>NaN</td>\n",
       "      <td>NaN</td>\n",
       "      <td>NaN</td>\n",
       "      <td>NaN</td>\n",
       "      <td>utm_source: MA-120220925670300172 | utm_medium...</td>\n",
       "    </tr>\n",
       "    <tr>\n",
       "      <th>185</th>\n",
       "      <td>1lksDl</td>\n",
       "      <td>03/05/2025 12:05:26</td>\n",
       "      <td>clicked</td>\n",
       "      <td>NaN</td>\n",
       "      <td>NaN</td>\n",
       "      <td>(D) Sabemos exatamente o que queremos e já com...</td>\n",
       "      <td>(B) Conseguimos nos manter, mas não sobra</td>\n",
       "      <td>(B) Está envolvido(a), mas prefere que eu lidere</td>\n",
       "      <td>(B) Temos anotações e ideias soltas</td>\n",
       "      <td>(A) Não conseguiríamos bancar nada ainda</td>\n",
       "      <td>(B) Algo íntimo e simples, só com pessoas próx...</td>\n",
       "      <td>(B) Pensamos, mas parece fora da nossa realidade</td>\n",
       "      <td>(B) Queremos muito, mas temos medo de não dar ...</td>\n",
       "      <td>NaN</td>\n",
       "      <td>NaN</td>\n",
       "      <td>NaN</td>\n",
       "      <td>NaN</td>\n",
       "      <td>utm_source: MA-120220925670300172 | utm_medium...</td>\n",
       "    </tr>\n",
       "  </tbody>\n",
       "</table>\n",
       "</div>"
      ],
      "text/plain": [
       "       code           created_at button: oQcJxV  options: opcoes_UAa9JQ  \\\n",
       "315  0yId7t  04/05/2025 21:36:25        clicked                     NaN   \n",
       "52   VLgRqt  01/05/2025 19:40:48        clicked                     NaN   \n",
       "148  knA4LK  02/05/2025 19:43:30            NaN                     NaN   \n",
       "197  9LV80U  03/05/2025 15:28:09        clicked                     NaN   \n",
       "185  1lksDl  03/05/2025 12:05:26        clicked                     NaN   \n",
       "\n",
       "    button: 0FvZw6                             options: opcoes_KxEbYn  \\\n",
       "315            NaN   (B) Temos algumas referências, mas nada decidido   \n",
       "52             NaN                                                NaN   \n",
       "148        clicked  (D) Sabemos exatamente o que queremos e já com...   \n",
       "197            NaN  (A) Ainda estamos completamente perdidos sobre...   \n",
       "185            NaN  (D) Sabemos exatamente o que queremos e já com...   \n",
       "\n",
       "                                options: opcoes_iSdQa9  \\\n",
       "315              (A) Vivemos no limite e temos dívidas   \n",
       "52                                                 NaN   \n",
       "148              (A) Vivemos no limite e temos dívidas   \n",
       "197  (D) Estamos bem financeiramente, mas queremos ...   \n",
       "185          (B) Conseguimos nos manter, mas não sobra   \n",
       "\n",
       "                                options: opcoes_GZPJo1  \\\n",
       "315  (A) Está completamente envolvido(a), sonha jun...   \n",
       "52                                                 NaN   \n",
       "148  (A) Está completamente envolvido(a), sonha jun...   \n",
       "197  (A) Está completamente envolvido(a), sonha jun...   \n",
       "185   (B) Está envolvido(a), mas prefere que eu lidere   \n",
       "\n",
       "                                options: opcoes_n5nnNG  \\\n",
       "315                            (A) Não começamos ainda   \n",
       "52                                                 NaN   \n",
       "148  (D) Temos planilhas, metas e até cronograma de...   \n",
       "197                            (A) Não começamos ainda   \n",
       "185                (B) Temos anotações e ideias soltas   \n",
       "\n",
       "                                options: opcoes_G7CtE4  \\\n",
       "315           (A) Não conseguiríamos bancar nada ainda   \n",
       "52                                                 NaN   \n",
       "148  (C) Teríamos que parcelar bastante ou contar c...   \n",
       "197  (D) Poderíamos arcar com boa parte, mas querem...   \n",
       "185           (A) Não conseguiríamos bancar nada ainda   \n",
       "\n",
       "                                options: opcoes_euOjgt  \\\n",
       "315  (D) Um evento inesquecível, com tudo que temos...   \n",
       "52                                                 NaN   \n",
       "148  (C) Uma cerimônia encantadora, com tudo bem feito   \n",
       "197  (B) Algo íntimo e simples, só com pessoas próx...   \n",
       "185  (B) Algo íntimo e simples, só com pessoas próx...   \n",
       "\n",
       "                                options: opcoes_3FPmNX  \\\n",
       "315   (B) Pensamos, mas parece fora da nossa realidade   \n",
       "52                                                 NaN   \n",
       "148  (C) Temos destinos em mente, mas sem orçamento...   \n",
       "197                       (A) Nem pensamos nisso ainda   \n",
       "185   (B) Pensamos, mas parece fora da nossa realidade   \n",
       "\n",
       "                                options: opcoes_kGxmr1 field: 11ABFZ  \\\n",
       "315  (B) Queremos muito, mas temos medo de não dar ...         Hanna   \n",
       "52                                                 NaN           NaN   \n",
       "148  (D) Estamos prontos, queremos agir e realizar ...           NaN   \n",
       "197       (A) Desejamos, mas nos falta tempo e direção           NaN   \n",
       "185  (B) Queremos muito, mas temos medo de não dar ...           NaN   \n",
       "\n",
       "             field: 3hxWeL field: 5fSLVc button: enviar  \\\n",
       "315  hanna050798@gmail.com   21975588227        clicked   \n",
       "52                     NaN           NaN            NaN   \n",
       "148                    NaN           NaN            NaN   \n",
       "197                    NaN           NaN            NaN   \n",
       "185                    NaN           NaN            NaN   \n",
       "\n",
       "                                              tracking  \n",
       "315  utm_source: MA-120220925670300172 | utm_medium...  \n",
       "52   utm_source: MA-120220925670300172 | utm_medium...  \n",
       "148  utm_source: MA-120220925670300172 | utm_medium...  \n",
       "197  utm_source: MA-120220925670300172 | utm_medium...  \n",
       "185  utm_source: MA-120220925670300172 | utm_medium...  "
      ]
     },
     "execution_count": 3,
     "metadata": {},
     "output_type": "execute_result"
    }
   ],
   "source": [
    "## Amostra de 5 linhas do df01\n",
    "df_01.sample(5)"
   ]
  },
  {
   "cell_type": "code",
   "execution_count": 4,
   "id": "2753ad47",
   "metadata": {
    "scrolled": true
   },
   "outputs": [
    {
     "data": {
      "text/plain": [
       "code                      353\n",
       "created_at                353\n",
       "button: oQcJxV            331\n",
       "options: opcoes_UAa9JQ      0\n",
       "button: 0FvZw6             22\n",
       "options: opcoes_KxEbYn    260\n",
       "options: opcoes_iSdQa9    249\n",
       "options: opcoes_GZPJo1    235\n",
       "options: opcoes_n5nnNG    227\n",
       "options: opcoes_G7CtE4    223\n",
       "options: opcoes_euOjgt    220\n",
       "options: opcoes_3FPmNX    220\n",
       "options: opcoes_kGxmr1    218\n",
       "field: 11ABFZ              74\n",
       "field: 3hxWeL              74\n",
       "field: 5fSLVc              74\n",
       "button: enviar             74\n",
       "tracking                  341\n",
       "dtype: int64"
      ]
     },
     "execution_count": 4,
     "metadata": {},
     "output_type": "execute_result"
    }
   ],
   "source": [
    "# Contagem de cada coluna df01\n",
    "df_01.count()"
   ]
  },
  {
   "cell_type": "code",
   "execution_count": 5,
   "id": "a440d66a",
   "metadata": {},
   "outputs": [
    {
     "data": {
      "text/plain": [
       "code                      162\n",
       "created_at                162\n",
       "button: oQcJxV            120\n",
       "options: opcoes_UAa9JQ      0\n",
       "button: 0FvZw6             41\n",
       "options: opcoes_KxEbYn    142\n",
       "options: opcoes_iSdQa9    142\n",
       "options: opcoes_GZPJo1    138\n",
       "options: opcoes_n5nnNG    138\n",
       "options: opcoes_G7CtE4    137\n",
       "options: opcoes_euOjgt    136\n",
       "options: opcoes_3FPmNX    135\n",
       "options: opcoes_kGxmr1    135\n",
       "field: 11ABFZ              63\n",
       "field: 3hxWeL              63\n",
       "field: 5fSLVc              63\n",
       "button: enviar             63\n",
       "tracking                  154\n",
       "dtype: int64"
      ]
     },
     "execution_count": 5,
     "metadata": {},
     "output_type": "execute_result"
    }
   ],
   "source": [
    "# Contagem de cada coluna df02\n",
    "df_02.count()"
   ]
  },
  {
   "cell_type": "markdown",
   "id": "079a988f",
   "metadata": {},
   "source": [
    "## Limpeza dos Dados "
   ]
  },
  {
   "cell_type": "markdown",
   "id": "e8bf0b0f",
   "metadata": {},
   "source": [
    "As colunas created_at options: opcoes_UAa9JQ, code,button: oQcJxV, button: 0FvZw6,  button: enviar e tracking não contem informações relevantes para a analise portanto podemos remove-las do df01 e df02, as colunas , field: 11ABFZ,field: 3hxWeL, field: 5fSLVc possuem dados sobre o lead, porém possuem poucos dados para se trablhar portanto vamos remove-las também dos df."
   ]
  },
  {
   "cell_type": "code",
   "execution_count": 6,
   "id": "8dc718fc",
   "metadata": {},
   "outputs": [],
   "source": [
    "# Remoção das colunas definidas nos df01 e df02\n",
    "df_01 = df_01.drop(columns=[\"created_at\",\"options: opcoes_UAa9JQ\",\"code\", \"button: oQcJxV\", \"button: 0FvZw6\", \"field: 11ABFZ\", \"field: 3hxWeL\",\"field: 5fSLVc\", \"button: enviar\", \"tracking\"])\n",
    "df_02 = df_02.drop(columns=[\"created_at\",\"options: opcoes_UAa9JQ\",\"code\", \"button: oQcJxV\", \"button: 0FvZw6\", \"field: 11ABFZ\", \"field: 3hxWeL\",\"field: 5fSLVc\", \"button: enviar\", \"tracking\"])"
   ]
  },
  {
   "cell_type": "code",
   "execution_count": 7,
   "id": "ce161413",
   "metadata": {
    "scrolled": true
   },
   "outputs": [
    {
     "data": {
      "text/html": [
       "<div>\n",
       "<style scoped>\n",
       "    .dataframe tbody tr th:only-of-type {\n",
       "        vertical-align: middle;\n",
       "    }\n",
       "\n",
       "    .dataframe tbody tr th {\n",
       "        vertical-align: top;\n",
       "    }\n",
       "\n",
       "    .dataframe thead th {\n",
       "        text-align: right;\n",
       "    }\n",
       "</style>\n",
       "<table border=\"1\" class=\"dataframe\">\n",
       "  <thead>\n",
       "    <tr style=\"text-align: right;\">\n",
       "      <th></th>\n",
       "      <th>options: opcoes_KxEbYn</th>\n",
       "      <th>options: opcoes_iSdQa9</th>\n",
       "      <th>options: opcoes_GZPJo1</th>\n",
       "      <th>options: opcoes_n5nnNG</th>\n",
       "      <th>options: opcoes_G7CtE4</th>\n",
       "      <th>options: opcoes_euOjgt</th>\n",
       "      <th>options: opcoes_3FPmNX</th>\n",
       "      <th>options: opcoes_kGxmr1</th>\n",
       "    </tr>\n",
       "  </thead>\n",
       "  <tbody>\n",
       "    <tr>\n",
       "      <th>277</th>\n",
       "      <td>(D) Sabemos exatamente o que queremos e já com...</td>\n",
       "      <td>(A) Vivemos no limite e temos dívidas</td>\n",
       "      <td>(C) Me apoia, mas não se envolve muito com o p...</td>\n",
       "      <td>(C) Criamos um planejamento inicial, mas ainda...</td>\n",
       "      <td>(A) Não conseguiríamos bancar nada ainda</td>\n",
       "      <td>(B) Algo íntimo e simples, só com pessoas próx...</td>\n",
       "      <td>(C) Temos destinos em mente, mas sem orçamento...</td>\n",
       "      <td>(A) Desejamos, mas nos falta tempo e direção</td>\n",
       "    </tr>\n",
       "    <tr>\n",
       "      <th>127</th>\n",
       "      <td>(D) Sabemos exatamente o que queremos e já com...</td>\n",
       "      <td>(A) Vivemos no limite e temos dívidas</td>\n",
       "      <td>(C) Me apoia, mas não se envolve muito com o p...</td>\n",
       "      <td>(C) Criamos um planejamento inicial, mas ainda...</td>\n",
       "      <td>(B) Conseguiríamos fazer algo simples</td>\n",
       "      <td>(C) Uma cerimônia encantadora, com tudo bem feito</td>\n",
       "      <td>(A) Nem pensamos nisso ainda</td>\n",
       "      <td>(C) Estamos dispostos, só falta um plano eficaz</td>\n",
       "    </tr>\n",
       "    <tr>\n",
       "      <th>44</th>\n",
       "      <td>(D) Sabemos exatamente o que queremos e já com...</td>\n",
       "      <td>(B) Conseguimos nos manter, mas não sobra</td>\n",
       "      <td>(A) Está completamente envolvido(a), sonha jun...</td>\n",
       "      <td>(C) Criamos um planejamento inicial, mas ainda...</td>\n",
       "      <td>(B) Conseguiríamos fazer algo simples</td>\n",
       "      <td>(C) Uma cerimônia encantadora, com tudo bem feito</td>\n",
       "      <td>(B) Pensamos, mas parece fora da nossa realidade</td>\n",
       "      <td>NaN</td>\n",
       "    </tr>\n",
       "    <tr>\n",
       "      <th>162</th>\n",
       "      <td>(D) Sabemos exatamente o que queremos e já com...</td>\n",
       "      <td>(C) Temos folga, mas ainda não vivemos como go...</td>\n",
       "      <td>(A) Está completamente envolvido(a), sonha jun...</td>\n",
       "      <td>(C) Criamos um planejamento inicial, mas ainda...</td>\n",
       "      <td>(B) Conseguiríamos fazer algo simples</td>\n",
       "      <td>(B) Algo íntimo e simples, só com pessoas próx...</td>\n",
       "      <td>(C) Temos destinos em mente, mas sem orçamento...</td>\n",
       "      <td>(D) Estamos prontos, queremos agir e realizar ...</td>\n",
       "    </tr>\n",
       "    <tr>\n",
       "      <th>200</th>\n",
       "      <td>(C) Já temos o estilo em mente, mas falta plan...</td>\n",
       "      <td>(B) Conseguimos nos manter, mas não sobra</td>\n",
       "      <td>NaN</td>\n",
       "      <td>NaN</td>\n",
       "      <td>NaN</td>\n",
       "      <td>NaN</td>\n",
       "      <td>NaN</td>\n",
       "      <td>NaN</td>\n",
       "    </tr>\n",
       "  </tbody>\n",
       "</table>\n",
       "</div>"
      ],
      "text/plain": [
       "                                options: opcoes_KxEbYn  \\\n",
       "277  (D) Sabemos exatamente o que queremos e já com...   \n",
       "127  (D) Sabemos exatamente o que queremos e já com...   \n",
       "44   (D) Sabemos exatamente o que queremos e já com...   \n",
       "162  (D) Sabemos exatamente o que queremos e já com...   \n",
       "200  (C) Já temos o estilo em mente, mas falta plan...   \n",
       "\n",
       "                                options: opcoes_iSdQa9  \\\n",
       "277              (A) Vivemos no limite e temos dívidas   \n",
       "127              (A) Vivemos no limite e temos dívidas   \n",
       "44           (B) Conseguimos nos manter, mas não sobra   \n",
       "162  (C) Temos folga, mas ainda não vivemos como go...   \n",
       "200          (B) Conseguimos nos manter, mas não sobra   \n",
       "\n",
       "                                options: opcoes_GZPJo1  \\\n",
       "277  (C) Me apoia, mas não se envolve muito com o p...   \n",
       "127  (C) Me apoia, mas não se envolve muito com o p...   \n",
       "44   (A) Está completamente envolvido(a), sonha jun...   \n",
       "162  (A) Está completamente envolvido(a), sonha jun...   \n",
       "200                                                NaN   \n",
       "\n",
       "                                options: opcoes_n5nnNG  \\\n",
       "277  (C) Criamos um planejamento inicial, mas ainda...   \n",
       "127  (C) Criamos um planejamento inicial, mas ainda...   \n",
       "44   (C) Criamos um planejamento inicial, mas ainda...   \n",
       "162  (C) Criamos um planejamento inicial, mas ainda...   \n",
       "200                                                NaN   \n",
       "\n",
       "                       options: opcoes_G7CtE4  \\\n",
       "277  (A) Não conseguiríamos bancar nada ainda   \n",
       "127     (B) Conseguiríamos fazer algo simples   \n",
       "44      (B) Conseguiríamos fazer algo simples   \n",
       "162     (B) Conseguiríamos fazer algo simples   \n",
       "200                                       NaN   \n",
       "\n",
       "                                options: opcoes_euOjgt  \\\n",
       "277  (B) Algo íntimo e simples, só com pessoas próx...   \n",
       "127  (C) Uma cerimônia encantadora, com tudo bem feito   \n",
       "44   (C) Uma cerimônia encantadora, com tudo bem feito   \n",
       "162  (B) Algo íntimo e simples, só com pessoas próx...   \n",
       "200                                                NaN   \n",
       "\n",
       "                                options: opcoes_3FPmNX  \\\n",
       "277  (C) Temos destinos em mente, mas sem orçamento...   \n",
       "127                       (A) Nem pensamos nisso ainda   \n",
       "44    (B) Pensamos, mas parece fora da nossa realidade   \n",
       "162  (C) Temos destinos em mente, mas sem orçamento...   \n",
       "200                                                NaN   \n",
       "\n",
       "                                options: opcoes_kGxmr1  \n",
       "277       (A) Desejamos, mas nos falta tempo e direção  \n",
       "127    (C) Estamos dispostos, só falta um plano eficaz  \n",
       "44                                                 NaN  \n",
       "162  (D) Estamos prontos, queremos agir e realizar ...  \n",
       "200                                                NaN  "
      ]
     },
     "execution_count": 7,
     "metadata": {},
     "output_type": "execute_result"
    }
   ],
   "source": [
    "## Amostra de 10 linhas do df01\n",
    "df_01.sample(5)"
   ]
  },
  {
   "cell_type": "markdown",
   "id": "9b7610e3",
   "metadata": {},
   "source": [
    "Vamos remover as colunas: \n",
    "code\n",
    "button: oQcJxV\n",
    "options: opcoes_UAa9JQ\n",
    "button: 0FvZw6\n",
    "options: opcoes_PhNxWH\n",
    "options: opcoes_NMBS1J\n",
    "options: opcoes_Peavhn\n",
    "options: opcoes_RyUh7O\n",
    "options: opcoes_S8x7OR\n",
    "options: opcoes_MNd05q\n",
    "options: opcoes_AQo3UU\n",
    "options: opcoes_yYueg1\n",
    "field: 11ABFZ\n",
    "field: 3hxWeL\n",
    "field: 5fSLVc\n",
    "button: enviar\n",
    "tracking\n",
    "\n",
    "Pelos mesmos motivos da remoção das colunas do df1 e df02"
   ]
  },
  {
   "cell_type": "code",
   "execution_count": 8,
   "id": "eb10f49e",
   "metadata": {},
   "outputs": [],
   "source": [
    "# Remoção das colunas definidas do df03\n",
    "df_03 = df_03.drop(columns=[\"created_at\",\"code\", \"button: oQcJxV\",\"options: opcoes_UAa9JQ\",\"button: 0FvZw6\",\n",
    "                            \"button: 0FvZw6\", \"options: opcoes_PhNxWH\", \"options: opcoes_NMBS1J\", \"options: opcoes_Peavhn\",\n",
    "                            \"options: opcoes_RyUh7O\", \"options: opcoes_S8x7OR\", \"options: opcoes_MNd05q\", \"options: opcoes_AQo3UU\",\n",
    "                            \"options: opcoes_yYueg1\",\"field: 11ABFZ\", \"field: 3hxWeL\",\"field: 5fSLVc\", \"button: enviar\", \"tracking\"])"
   ]
  },
  {
   "cell_type": "markdown",
   "id": "ef315290",
   "metadata": {},
   "source": [
    "Agora os três df tem as mesmas colunas, vamos renomea-las e concatenar os dataframes"
   ]
  },
  {
   "cell_type": "code",
   "execution_count": 9,
   "id": "843acb0f",
   "metadata": {},
   "outputs": [],
   "source": [
    "# Dicionário de renomeação das colunas\n",
    "rename_dict = {\n",
    "    'options: opcoes_KxEbYn': 'pergunta_1',\n",
    "    'options: opcoes_iSdQa9': 'pergunta_2',\n",
    "    'options: opcoes_GZPJo1': 'pergunta_3',\n",
    "    'options: opcoes_n5nnNG': 'pergunta_4',\n",
    "    'options: opcoes_G7CtE4': 'pergunta_5',\n",
    "    'options: opcoes_euOjgt': 'pergunta_6',\n",
    "    'options: opcoes_3FPmNX': 'pergunta_7',\n",
    "    'options: opcoes_kGxmr1': 'pergunta_8'\n",
    "}\n",
    "\n",
    "# Renomear colunas para df_01\n",
    "df_01 = df_01.rename(columns=rename_dict)\n",
    "df_02 = df_02.rename(columns=rename_dict)\n",
    "df_03 = df_03.rename(columns=rename_dict)\n",
    "\n",
    "# Concatenar os dataframes\n",
    "df_gf = pd.concat([df_01, df_02, df_03], ignore_index=True)"
   ]
  },
  {
   "cell_type": "code",
   "execution_count": 10,
   "id": "8b7efeaa",
   "metadata": {},
   "outputs": [
    {
     "data": {
      "text/html": [
       "<div>\n",
       "<style scoped>\n",
       "    .dataframe tbody tr th:only-of-type {\n",
       "        vertical-align: middle;\n",
       "    }\n",
       "\n",
       "    .dataframe tbody tr th {\n",
       "        vertical-align: top;\n",
       "    }\n",
       "\n",
       "    .dataframe thead th {\n",
       "        text-align: right;\n",
       "    }\n",
       "</style>\n",
       "<table border=\"1\" class=\"dataframe\">\n",
       "  <thead>\n",
       "    <tr style=\"text-align: right;\">\n",
       "      <th></th>\n",
       "      <th>pergunta_1</th>\n",
       "      <th>pergunta_2</th>\n",
       "      <th>pergunta_3</th>\n",
       "      <th>pergunta_4</th>\n",
       "      <th>pergunta_5</th>\n",
       "      <th>pergunta_6</th>\n",
       "      <th>pergunta_7</th>\n",
       "      <th>pergunta_8</th>\n",
       "    </tr>\n",
       "  </thead>\n",
       "  <tbody>\n",
       "    <tr>\n",
       "      <th>599</th>\n",
       "      <td>Ainda estamos completamente perdidos sobre tudo</td>\n",
       "      <td>Vivemos no limite e temos dívidas</td>\n",
       "      <td>Prefere que eu resolva tudo sozinho(a)</td>\n",
       "      <td>Temos anotações e ideias soltas</td>\n",
       "      <td>Não conseguiríamos bancar nada ainda</td>\n",
       "      <td>Um evento inesquecível, com tudo que temos dir...</td>\n",
       "      <td>Temos destinos em mente, mas sem orçamento ainda</td>\n",
       "      <td>Desejamos, mas nos falta tempo e direção</td>\n",
       "    </tr>\n",
       "    <tr>\n",
       "      <th>181</th>\n",
       "      <td>(B) Temos algumas referências, mas nada decidido</td>\n",
       "      <td>(A) Vivemos no limite e temos dívidas</td>\n",
       "      <td>(A) Está completamente envolvido(a), sonha jun...</td>\n",
       "      <td>(A) Não começamos ainda</td>\n",
       "      <td>(B) Conseguiríamos fazer algo simples</td>\n",
       "      <td>(C) Uma cerimônia encantadora, com tudo bem feito</td>\n",
       "      <td>(A) Nem pensamos nisso ainda</td>\n",
       "      <td>(A) Desejamos, mas nos falta tempo e direção</td>\n",
       "    </tr>\n",
       "    <tr>\n",
       "      <th>237</th>\n",
       "      <td>(B) Temos algumas referências, mas nada decidido</td>\n",
       "      <td>(A) Vivemos no limite e temos dívidas</td>\n",
       "      <td>(A) Está completamente envolvido(a), sonha jun...</td>\n",
       "      <td>(A) Não começamos ainda</td>\n",
       "      <td>(A) Não conseguiríamos bancar nada ainda</td>\n",
       "      <td>(A) Ainda não pensamos nisso</td>\n",
       "      <td>(A) Nem pensamos nisso ainda</td>\n",
       "      <td>(A) Desejamos, mas nos falta tempo e direção</td>\n",
       "    </tr>\n",
       "    <tr>\n",
       "      <th>299</th>\n",
       "      <td>(C) Já temos o estilo em mente, mas falta plan...</td>\n",
       "      <td>(A) Vivemos no limite e temos dívidas</td>\n",
       "      <td>(D) Prefere que eu resolva tudo sozinho(a)</td>\n",
       "      <td>(A) Não começamos ainda</td>\n",
       "      <td>(B) Conseguiríamos fazer algo simples</td>\n",
       "      <td>(B) Algo íntimo e simples, só com pessoas próx...</td>\n",
       "      <td>(C) Temos destinos em mente, mas sem orçamento...</td>\n",
       "      <td>(B) Queremos muito, mas temos medo de não dar ...</td>\n",
       "    </tr>\n",
       "    <tr>\n",
       "      <th>188</th>\n",
       "      <td>(C) Já temos o estilo em mente, mas falta plan...</td>\n",
       "      <td>(A) Vivemos no limite e temos dívidas</td>\n",
       "      <td>(D) Prefere que eu resolva tudo sozinho(a)</td>\n",
       "      <td>(B) Temos anotações e ideias soltas</td>\n",
       "      <td>(C) Teríamos que parcelar bastante ou contar c...</td>\n",
       "      <td>(B) Algo íntimo e simples, só com pessoas próx...</td>\n",
       "      <td>(A) Nem pensamos nisso ainda</td>\n",
       "      <td>(B) Queremos muito, mas temos medo de não dar ...</td>\n",
       "    </tr>\n",
       "  </tbody>\n",
       "</table>\n",
       "</div>"
      ],
      "text/plain": [
       "                                            pergunta_1  \\\n",
       "599    Ainda estamos completamente perdidos sobre tudo   \n",
       "181   (B) Temos algumas referências, mas nada decidido   \n",
       "237   (B) Temos algumas referências, mas nada decidido   \n",
       "299  (C) Já temos o estilo em mente, mas falta plan...   \n",
       "188  (C) Já temos o estilo em mente, mas falta plan...   \n",
       "\n",
       "                                pergunta_2  \\\n",
       "599      Vivemos no limite e temos dívidas   \n",
       "181  (A) Vivemos no limite e temos dívidas   \n",
       "237  (A) Vivemos no limite e temos dívidas   \n",
       "299  (A) Vivemos no limite e temos dívidas   \n",
       "188  (A) Vivemos no limite e temos dívidas   \n",
       "\n",
       "                                            pergunta_3  \\\n",
       "599             Prefere que eu resolva tudo sozinho(a)   \n",
       "181  (A) Está completamente envolvido(a), sonha jun...   \n",
       "237  (A) Está completamente envolvido(a), sonha jun...   \n",
       "299         (D) Prefere que eu resolva tudo sozinho(a)   \n",
       "188         (D) Prefere que eu resolva tudo sozinho(a)   \n",
       "\n",
       "                              pergunta_4  \\\n",
       "599      Temos anotações e ideias soltas   \n",
       "181              (A) Não começamos ainda   \n",
       "237              (A) Não começamos ainda   \n",
       "299              (A) Não começamos ainda   \n",
       "188  (B) Temos anotações e ideias soltas   \n",
       "\n",
       "                                            pergunta_5  \\\n",
       "599               Não conseguiríamos bancar nada ainda   \n",
       "181              (B) Conseguiríamos fazer algo simples   \n",
       "237           (A) Não conseguiríamos bancar nada ainda   \n",
       "299              (B) Conseguiríamos fazer algo simples   \n",
       "188  (C) Teríamos que parcelar bastante ou contar c...   \n",
       "\n",
       "                                            pergunta_6  \\\n",
       "599  Um evento inesquecível, com tudo que temos dir...   \n",
       "181  (C) Uma cerimônia encantadora, com tudo bem feito   \n",
       "237                       (A) Ainda não pensamos nisso   \n",
       "299  (B) Algo íntimo e simples, só com pessoas próx...   \n",
       "188  (B) Algo íntimo e simples, só com pessoas próx...   \n",
       "\n",
       "                                            pergunta_7  \\\n",
       "599   Temos destinos em mente, mas sem orçamento ainda   \n",
       "181                       (A) Nem pensamos nisso ainda   \n",
       "237                       (A) Nem pensamos nisso ainda   \n",
       "299  (C) Temos destinos em mente, mas sem orçamento...   \n",
       "188                       (A) Nem pensamos nisso ainda   \n",
       "\n",
       "                                            pergunta_8  \n",
       "599           Desejamos, mas nos falta tempo e direção  \n",
       "181       (A) Desejamos, mas nos falta tempo e direção  \n",
       "237       (A) Desejamos, mas nos falta tempo e direção  \n",
       "299  (B) Queremos muito, mas temos medo de não dar ...  \n",
       "188  (B) Queremos muito, mas temos medo de não dar ...  "
      ]
     },
     "execution_count": 10,
     "metadata": {},
     "output_type": "execute_result"
    }
   ],
   "source": [
    "# Amostra do df limpo e concatenado\n",
    "df_gf.sample(5)"
   ]
  },
  {
   "cell_type": "markdown",
   "id": "57a131a8",
   "metadata": {},
   "source": [
    "Percebemos que existem resposta com a letra A/B/C/D antes da resposta e outras respostas não a possuem, precisamos mapear ambos os cenários"
   ]
  },
  {
   "cell_type": "code",
   "execution_count": 11,
   "id": "c9fd1052",
   "metadata": {},
   "outputs": [],
   "source": [
    "# Dicionário para mapear respostas com letra\n",
    "mapeamento_com_letra = {\n",
    "    '(A) Ainda estamos completamente perdidos sobre tudo': 'A',\n",
    "    '(B) Temos algumas referências, mas nada decidido': 'B',\n",
    "    '(C) Já temos o estilo em mente, mas falta planejar': 'C',\n",
    "    '(D) Sabemos exatamente o que queremos e já começamos a organizar': 'D',\n",
    "\n",
    "    '(A) Vivemos no limite e temos dívidas': 'A',\n",
    "    '(B) Conseguimos nos manter, mas não sobra': 'B',\n",
    "    '(C) Temos folga, mas ainda não vivemos como gostaríamos': 'C',\n",
    "    '(D) Estamos bem financeiramente, mas queremos crescer mais': 'D',\n",
    "\n",
    "    '(A) Está completamente envolvido(a), sonha junto comigo': 'A',\n",
    "    '(B) Está envolvido(a), mas prefere que eu lidere': 'B',\n",
    "    '(C) Me apoia, mas não se envolve muito com o planejamento': 'C',\n",
    "    '(D) Prefere que eu resolva tudo sozinho(a)': 'D',\n",
    "\n",
    "    '(A) Não começamos ainda': 'A',\n",
    "    '(B) Temos anotações e ideias soltas': 'B',\n",
    "    '(C) Criamos um planejamento inicial, mas ainda sem orçamento': 'C',\n",
    "    '(D) Temos planilhas, metas e até cronograma definido': 'D',\n",
    "\n",
    "    '(A) Não conseguiríamos bancar nada ainda': 'A',\n",
    "    '(B) Conseguiríamos fazer algo simples': 'B',\n",
    "    '(C) Teríamos que parcelar bastante ou contar com ajuda': 'C',\n",
    "    '(D) Poderíamos arcar com boa parte, mas queremos mais liberdade': 'D',\n",
    "\n",
    "    '(A) Ainda não pensamos nisso': 'A',\n",
    "    '(B) Algo íntimo e simples, só com pessoas próximas': 'B',\n",
    "    '(C) Uma cerimônia encantadora, com tudo bem feito': 'C',\n",
    "    '(D) Um evento inesquecível, com tudo que temos direito': 'D',\n",
    "\n",
    "    '(A) Nem pensamos nisso ainda': 'A',\n",
    "    '(B) Pensamos, mas parece fora da nossa realidade': 'B',\n",
    "    '(C) Temos destinos em mente, mas sem orçamento ainda': 'C',\n",
    "    '(D) Já sabemos onde queremos ir e estamos nos planejando': 'D',\n",
    "\n",
    "    '(A) Desejamos, mas nos falta tempo e direção': 'A',\n",
    "    '(B) Queremos muito, mas temos medo de não dar conta': 'B',\n",
    "    '(C) Estamos dispostos, só falta um plano eficaz': 'C',\n",
    "    '(D) Estamos prontos, queremos agir e realizar de verdade': 'D'\n",
    "}\n",
    "\n",
    "# Dicionário para mapear respostas sem letra\n",
    "mapeamento_sem_letra = {\n",
    "    'Ainda estamos completamente perdidos sobre tudo': 'A',\n",
    "    'Temos algumas referências, mas nada decidido': 'B',\n",
    "    'Já temos o estilo em mente, mas falta planejar': 'C',\n",
    "    'Sabemos exatamente o que queremos e já começamos a organizar': 'D',\n",
    "\n",
    "    'Vivemos no limite e temos dívidas': 'A',\n",
    "    'Conseguimos nos manter, mas não sobra': 'B',\n",
    "    'Temos folga, mas ainda não vivemos como gostaríamos': 'C',\n",
    "    'Estamos bem financeiramente, mas queremos crescer mais': 'D',\n",
    "\n",
    "    'Está completamente envolvido(a), sonha junto comigo': 'A',\n",
    "    'Está envolvido(a), mas prefere que eu lidere': 'B',\n",
    "    'Me apoia, mas não se envolve muito com o planejamento': 'C',\n",
    "    'Prefere que eu resolva tudo sozinho(a)': 'D',\n",
    "\n",
    "    'Não começamos ainda': 'A',\n",
    "    'Temos anotações e ideias soltas': 'B',\n",
    "    'Criamos um planejamento inicial, mas ainda sem orçamento': 'C',\n",
    "    'Temos planilhas, metas e até cronograma definido': 'D',\n",
    "\n",
    "    'Não conseguiríamos bancar nada ainda': 'A',\n",
    "    'Conseguiríamos fazer algo simples': 'B',\n",
    "    'Teríamos que parcelar bastante ou contar com ajuda': 'C',\n",
    "    'Poderíamos arcar com boa parte, mas queremos mais liberdade': 'D',\n",
    "\n",
    "    'Ainda não pensamos nisso': 'A',\n",
    "    'Algo íntimo e simples, só com pessoas próximas': 'B',\n",
    "    'Uma cerimônia encantadora, com tudo bem feito': 'C',\n",
    "    'Um evento inesquecível, com tudo que temos direito': 'D',\n",
    "\n",
    "    'Nem pensamos nisso ainda': 'A',\n",
    "    'Pensamos, mas parece fora da nossa realidade': 'B',\n",
    "    'Temos destinos em mente, mas sem orçamento ainda': 'C',\n",
    "    'Já sabemos onde queremos ir e estamos nos planejando': 'D',\n",
    "\n",
    "    'Desejamos, mas nos falta tempo e direção': 'A',\n",
    "    'Queremos muito, mas temos medo de não dar conta': 'B',\n",
    "    'Estamos dispostos, só falta um plano eficaz': 'C',\n",
    "    'Estamos prontos, queremos agir e realizar de verdade': 'D'\n",
    "}\n",
    "\n",
    "# Função para mapear as respostas\n",
    "def mapear_resposta(resposta, mapeamento_letra, mapeamento_sem):\n",
    "    if isinstance(resposta, str):  # Verifica se é string\n",
    "        resposta = resposta.strip()  # Remove espaços\n",
    "    \n",
    "    resposta_mapeada = mapeamento_letra.get(resposta)\n",
    "    if resposta_mapeada:\n",
    "        return resposta_mapeada\n",
    "    \n",
    "    resposta_mapeada = mapeamento_sem.get(resposta)\n",
    "    if resposta_mapeada:\n",
    "        return resposta_mapeada\n",
    "# Aplica a função a todas as colunas de perguntas\n",
    "colunas_perguntas = ['pergunta_1', 'pergunta_2', 'pergunta_3', 'pergunta_4', 'pergunta_5', 'pergunta_6', 'pergunta_7', 'pergunta_8']\n",
    "df_gf[colunas_perguntas] = df_gf[colunas_perguntas].applymap(lambda resposta: mapear_resposta(resposta, mapeamento_com_letra, mapeamento_sem_letra))"
   ]
  },
  {
   "cell_type": "markdown",
   "id": "52db226a",
   "metadata": {},
   "source": [
    "### Tratamento de Valores Ausentes"
   ]
  },
  {
   "cell_type": "code",
   "execution_count": 12,
   "id": "bd23553b",
   "metadata": {},
   "outputs": [
    {
     "data": {
      "text/html": [
       "<div>\n",
       "<style scoped>\n",
       "    .dataframe tbody tr th:only-of-type {\n",
       "        vertical-align: middle;\n",
       "    }\n",
       "\n",
       "    .dataframe tbody tr th {\n",
       "        vertical-align: top;\n",
       "    }\n",
       "\n",
       "    .dataframe thead th {\n",
       "        text-align: right;\n",
       "    }\n",
       "</style>\n",
       "<table border=\"1\" class=\"dataframe\">\n",
       "  <thead>\n",
       "    <tr style=\"text-align: right;\">\n",
       "      <th></th>\n",
       "      <th>pergunta_1</th>\n",
       "      <th>pergunta_2</th>\n",
       "      <th>pergunta_3</th>\n",
       "      <th>pergunta_4</th>\n",
       "      <th>pergunta_5</th>\n",
       "      <th>pergunta_6</th>\n",
       "      <th>pergunta_7</th>\n",
       "      <th>pergunta_8</th>\n",
       "    </tr>\n",
       "  </thead>\n",
       "  <tbody>\n",
       "    <tr>\n",
       "      <th>count</th>\n",
       "      <td>495</td>\n",
       "      <td>482</td>\n",
       "      <td>457</td>\n",
       "      <td>449</td>\n",
       "      <td>443</td>\n",
       "      <td>439</td>\n",
       "      <td>438</td>\n",
       "      <td>436</td>\n",
       "    </tr>\n",
       "    <tr>\n",
       "      <th>unique</th>\n",
       "      <td>4</td>\n",
       "      <td>4</td>\n",
       "      <td>4</td>\n",
       "      <td>4</td>\n",
       "      <td>4</td>\n",
       "      <td>4</td>\n",
       "      <td>4</td>\n",
       "      <td>4</td>\n",
       "    </tr>\n",
       "    <tr>\n",
       "      <th>top</th>\n",
       "      <td>A</td>\n",
       "      <td>B</td>\n",
       "      <td>A</td>\n",
       "      <td>A</td>\n",
       "      <td>B</td>\n",
       "      <td>B</td>\n",
       "      <td>A</td>\n",
       "      <td>B</td>\n",
       "    </tr>\n",
       "    <tr>\n",
       "      <th>freq</th>\n",
       "      <td>178</td>\n",
       "      <td>189</td>\n",
       "      <td>219</td>\n",
       "      <td>184</td>\n",
       "      <td>170</td>\n",
       "      <td>189</td>\n",
       "      <td>184</td>\n",
       "      <td>124</td>\n",
       "    </tr>\n",
       "  </tbody>\n",
       "</table>\n",
       "</div>"
      ],
      "text/plain": [
       "       pergunta_1 pergunta_2 pergunta_3 pergunta_4 pergunta_5 pergunta_6  \\\n",
       "count         495        482        457        449        443        439   \n",
       "unique          4          4          4          4          4          4   \n",
       "top             A          B          A          A          B          B   \n",
       "freq          178        189        219        184        170        189   \n",
       "\n",
       "       pergunta_7 pergunta_8  \n",
       "count         438        436  \n",
       "unique          4          4  \n",
       "top             A          B  \n",
       "freq          184        124  "
      ]
     },
     "execution_count": 12,
     "metadata": {},
     "output_type": "execute_result"
    }
   ],
   "source": [
    "df_gf.describe()"
   ]
  },
  {
   "cell_type": "code",
   "execution_count": 13,
   "id": "f09648a9",
   "metadata": {},
   "outputs": [
    {
     "name": "stdout",
     "output_type": "stream",
     "text": [
      "pergunta_1    132\n",
      "pergunta_2    145\n",
      "pergunta_3    170\n",
      "pergunta_4    178\n",
      "pergunta_5    184\n",
      "pergunta_6    188\n",
      "pergunta_7    189\n",
      "pergunta_8    191\n",
      "dtype: int64\n"
     ]
    }
   ],
   "source": [
    "# Verificando valores nulos\n",
    "print(df_gf.isnull().sum())"
   ]
  },
  {
   "cell_type": "markdown",
   "id": "4c878f24",
   "metadata": {},
   "source": [
    "Como temos bastante valores Nan, decidimos remover todas as linhas que possuem todas as perguntas sem resposta e posteriormente substituir as linhas que possuem NaN mas não em todas as perguntas pela moda de cada pergunta."
   ]
  },
  {
   "cell_type": "code",
   "execution_count": 14,
   "id": "8251400c",
   "metadata": {},
   "outputs": [
    {
     "name": "stdout",
     "output_type": "stream",
     "text": [
      "pergunta_1     0\n",
      "pergunta_2    13\n",
      "pergunta_3    38\n",
      "pergunta_4    46\n",
      "pergunta_5    52\n",
      "pergunta_6    56\n",
      "pergunta_7    57\n",
      "pergunta_8    59\n",
      "dtype: int64\n"
     ]
    }
   ],
   "source": [
    "# Contar diretamente as linhas onde todas as colunas são NaN\n",
    "num_linhas_todas_nan = df_gf.isna().all(axis=1).sum()\n",
    "# Remover linhas onde todas as colunas são NaN\n",
    "df_gf= df_gf.dropna(how='all')\n",
    "# Verificando valores nulos novamente\n",
    "print(df_gf.isnull().sum())"
   ]
  },
  {
   "cell_type": "markdown",
   "id": "a96f7af4",
   "metadata": {},
   "source": [
    "Agora vamos analisar os dados para saber a volumetria de valores ausentes por pergunta e como estão distribuidas as respostas para cada pergunta"
   ]
  },
  {
   "cell_type": "code",
   "execution_count": 15,
   "id": "66e72d80",
   "metadata": {},
   "outputs": [
    {
     "name": "stdout",
     "output_type": "stream",
     "text": [
      "pergunta_1     0.000000\n",
      "pergunta_2     2.626263\n",
      "pergunta_3     7.676768\n",
      "pergunta_4     9.292929\n",
      "pergunta_5    10.505051\n",
      "pergunta_6    11.313131\n",
      "pergunta_7    11.515152\n",
      "pergunta_8    11.919192\n",
      "dtype: float64\n"
     ]
    }
   ],
   "source": [
    "# Calculando o percentual de valores ausentes em cada coluna\n",
    "percentual_na_perguntas = df_gf.isna().mean() * 100\n",
    "# Exibindo o percentual de valores ausentes\n",
    "print(percentual_na_perguntas)"
   ]
  },
  {
   "cell_type": "markdown",
   "id": "91fc680e",
   "metadata": {},
   "source": [
    "Antes de realizar a limpeza dos valores nan vamos olhar como os dados estao distribuidos"
   ]
  },
  {
   "cell_type": "code",
   "execution_count": 16,
   "id": "242c16df",
   "metadata": {
    "scrolled": false
   },
   "outputs": [
    {
     "data": {
      "application/vnd.plotly.v1+json": {
       "config": {
        "plotlyServerURL": "https://plot.ly"
       },
       "data": [
        {
         "marker": {
          "color": [
           "rgb(229, 134, 6)",
           "rgb(93, 105, 177)",
           "rgb(82, 188, 163)",
           "rgb(153, 201, 69)"
          ]
         },
         "name": "pergunta_1",
         "type": "bar",
         "x": [
          "A",
          "B",
          "C",
          "D"
         ],
         "xaxis": "x",
         "y": [
          155,
          98,
          103,
          79
         ],
         "yaxis": "y"
        },
        {
         "marker": {
          "color": [
           "rgb(229, 134, 6)",
           "rgb(93, 105, 177)",
           "rgb(82, 188, 163)",
           "rgb(153, 201, 69)"
          ]
         },
         "name": "pergunta_2",
         "type": "bar",
         "x": [
          "A",
          "B",
          "C",
          "D"
         ],
         "xaxis": "x2",
         "y": [
          151,
          171,
          78,
          35
         ],
         "yaxis": "y2"
        },
        {
         "marker": {
          "color": [
           "rgb(229, 134, 6)",
           "rgb(93, 105, 177)",
           "rgb(82, 188, 163)",
           "rgb(153, 201, 69)"
          ]
         },
         "name": "pergunta_3",
         "type": "bar",
         "x": [
          "A",
          "B",
          "C",
          "D"
         ],
         "xaxis": "x3",
         "y": [
          208,
          105,
          90,
          32
         ],
         "yaxis": "y3"
        },
        {
         "marker": {
          "color": [
           "rgb(229, 134, 6)",
           "rgb(93, 105, 177)",
           "rgb(82, 188, 163)",
           "rgb(153, 201, 69)"
          ]
         },
         "name": "pergunta_4",
         "type": "bar",
         "x": [
          "A",
          "B",
          "C",
          "D"
         ],
         "xaxis": "x4",
         "y": [
          181,
          157,
          57,
          40
         ],
         "yaxis": "y4"
        },
        {
         "marker": {
          "color": [
           "rgb(229, 134, 6)",
           "rgb(93, 105, 177)",
           "rgb(82, 188, 163)",
           "rgb(153, 201, 69)"
          ]
         },
         "name": "pergunta_5",
         "type": "bar",
         "x": [
          "A",
          "B",
          "C",
          "D"
         ],
         "xaxis": "x5",
         "y": [
          158,
          165,
          67,
          45
         ],
         "yaxis": "y5"
        },
        {
         "marker": {
          "color": [
           "rgb(229, 134, 6)",
           "rgb(93, 105, 177)",
           "rgb(82, 188, 163)",
           "rgb(153, 201, 69)"
          ]
         },
         "name": "pergunta_6",
         "type": "bar",
         "x": [
          "A",
          "B",
          "C",
          "D"
         ],
         "xaxis": "x6",
         "y": [
          58,
          187,
          149,
          41
         ],
         "yaxis": "y6"
        },
        {
         "marker": {
          "color": [
           "rgb(229, 134, 6)",
           "rgb(93, 105, 177)",
           "rgb(82, 188, 163)",
           "rgb(153, 201, 69)"
          ]
         },
         "name": "pergunta_7",
         "type": "bar",
         "x": [
          "A",
          "B",
          "C",
          "D"
         ],
         "xaxis": "x7",
         "y": [
          183,
          94,
          115,
          43
         ],
         "yaxis": "y7"
        },
        {
         "marker": {
          "color": [
           "rgb(229, 134, 6)",
           "rgb(93, 105, 177)",
           "rgb(82, 188, 163)",
           "rgb(153, 201, 69)"
          ]
         },
         "name": "pergunta_8",
         "type": "bar",
         "x": [
          "A",
          "B",
          "C",
          "D"
         ],
         "xaxis": "x8",
         "y": [
          124,
          123,
          106,
          82
         ],
         "yaxis": "y8"
        }
       ],
       "layout": {
        "annotations": [
         {
          "font": {
           "size": 16
          },
          "showarrow": false,
          "text": "pergunta_1",
          "x": 0.10625,
          "xanchor": "center",
          "xref": "paper",
          "y": 1,
          "yanchor": "bottom",
          "yref": "paper"
         },
         {
          "font": {
           "size": 16
          },
          "showarrow": false,
          "text": "pergunta_2",
          "x": 0.36875,
          "xanchor": "center",
          "xref": "paper",
          "y": 1,
          "yanchor": "bottom",
          "yref": "paper"
         },
         {
          "font": {
           "size": 16
          },
          "showarrow": false,
          "text": "pergunta_3",
          "x": 0.6312500000000001,
          "xanchor": "center",
          "xref": "paper",
          "y": 1,
          "yanchor": "bottom",
          "yref": "paper"
         },
         {
          "font": {
           "size": 16
          },
          "showarrow": false,
          "text": "pergunta_4",
          "x": 0.89375,
          "xanchor": "center",
          "xref": "paper",
          "y": 1,
          "yanchor": "bottom",
          "yref": "paper"
         },
         {
          "font": {
           "size": 16
          },
          "showarrow": false,
          "text": "pergunta_5",
          "x": 0.10625,
          "xanchor": "center",
          "xref": "paper",
          "y": 0.375,
          "yanchor": "bottom",
          "yref": "paper"
         },
         {
          "font": {
           "size": 16
          },
          "showarrow": false,
          "text": "pergunta_6",
          "x": 0.36875,
          "xanchor": "center",
          "xref": "paper",
          "y": 0.375,
          "yanchor": "bottom",
          "yref": "paper"
         },
         {
          "font": {
           "size": 16
          },
          "showarrow": false,
          "text": "pergunta_7",
          "x": 0.6312500000000001,
          "xanchor": "center",
          "xref": "paper",
          "y": 0.375,
          "yanchor": "bottom",
          "yref": "paper"
         },
         {
          "font": {
           "size": 16
          },
          "showarrow": false,
          "text": "pergunta_8",
          "x": 0.89375,
          "xanchor": "center",
          "xref": "paper",
          "y": 0.375,
          "yanchor": "bottom",
          "yref": "paper"
         }
        ],
        "height": 600,
        "showlegend": false,
        "template": {
         "data": {
          "bar": [
           {
            "error_x": {
             "color": "#2a3f5f"
            },
            "error_y": {
             "color": "#2a3f5f"
            },
            "marker": {
             "line": {
              "color": "white",
              "width": 0.5
             },
             "pattern": {
              "fillmode": "overlay",
              "size": 10,
              "solidity": 0.2
             }
            },
            "type": "bar"
           }
          ],
          "barpolar": [
           {
            "marker": {
             "line": {
              "color": "white",
              "width": 0.5
             },
             "pattern": {
              "fillmode": "overlay",
              "size": 10,
              "solidity": 0.2
             }
            },
            "type": "barpolar"
           }
          ],
          "carpet": [
           {
            "aaxis": {
             "endlinecolor": "#2a3f5f",
             "gridcolor": "#C8D4E3",
             "linecolor": "#C8D4E3",
             "minorgridcolor": "#C8D4E3",
             "startlinecolor": "#2a3f5f"
            },
            "baxis": {
             "endlinecolor": "#2a3f5f",
             "gridcolor": "#C8D4E3",
             "linecolor": "#C8D4E3",
             "minorgridcolor": "#C8D4E3",
             "startlinecolor": "#2a3f5f"
            },
            "type": "carpet"
           }
          ],
          "choropleth": [
           {
            "colorbar": {
             "outlinewidth": 0,
             "ticks": ""
            },
            "type": "choropleth"
           }
          ],
          "contour": [
           {
            "colorbar": {
             "outlinewidth": 0,
             "ticks": ""
            },
            "colorscale": [
             [
              0,
              "#0d0887"
             ],
             [
              0.1111111111111111,
              "#46039f"
             ],
             [
              0.2222222222222222,
              "#7201a8"
             ],
             [
              0.3333333333333333,
              "#9c179e"
             ],
             [
              0.4444444444444444,
              "#bd3786"
             ],
             [
              0.5555555555555556,
              "#d8576b"
             ],
             [
              0.6666666666666666,
              "#ed7953"
             ],
             [
              0.7777777777777778,
              "#fb9f3a"
             ],
             [
              0.8888888888888888,
              "#fdca26"
             ],
             [
              1,
              "#f0f921"
             ]
            ],
            "type": "contour"
           }
          ],
          "contourcarpet": [
           {
            "colorbar": {
             "outlinewidth": 0,
             "ticks": ""
            },
            "type": "contourcarpet"
           }
          ],
          "heatmap": [
           {
            "colorbar": {
             "outlinewidth": 0,
             "ticks": ""
            },
            "colorscale": [
             [
              0,
              "#0d0887"
             ],
             [
              0.1111111111111111,
              "#46039f"
             ],
             [
              0.2222222222222222,
              "#7201a8"
             ],
             [
              0.3333333333333333,
              "#9c179e"
             ],
             [
              0.4444444444444444,
              "#bd3786"
             ],
             [
              0.5555555555555556,
              "#d8576b"
             ],
             [
              0.6666666666666666,
              "#ed7953"
             ],
             [
              0.7777777777777778,
              "#fb9f3a"
             ],
             [
              0.8888888888888888,
              "#fdca26"
             ],
             [
              1,
              "#f0f921"
             ]
            ],
            "type": "heatmap"
           }
          ],
          "heatmapgl": [
           {
            "colorbar": {
             "outlinewidth": 0,
             "ticks": ""
            },
            "colorscale": [
             [
              0,
              "#0d0887"
             ],
             [
              0.1111111111111111,
              "#46039f"
             ],
             [
              0.2222222222222222,
              "#7201a8"
             ],
             [
              0.3333333333333333,
              "#9c179e"
             ],
             [
              0.4444444444444444,
              "#bd3786"
             ],
             [
              0.5555555555555556,
              "#d8576b"
             ],
             [
              0.6666666666666666,
              "#ed7953"
             ],
             [
              0.7777777777777778,
              "#fb9f3a"
             ],
             [
              0.8888888888888888,
              "#fdca26"
             ],
             [
              1,
              "#f0f921"
             ]
            ],
            "type": "heatmapgl"
           }
          ],
          "histogram": [
           {
            "marker": {
             "pattern": {
              "fillmode": "overlay",
              "size": 10,
              "solidity": 0.2
             }
            },
            "type": "histogram"
           }
          ],
          "histogram2d": [
           {
            "colorbar": {
             "outlinewidth": 0,
             "ticks": ""
            },
            "colorscale": [
             [
              0,
              "#0d0887"
             ],
             [
              0.1111111111111111,
              "#46039f"
             ],
             [
              0.2222222222222222,
              "#7201a8"
             ],
             [
              0.3333333333333333,
              "#9c179e"
             ],
             [
              0.4444444444444444,
              "#bd3786"
             ],
             [
              0.5555555555555556,
              "#d8576b"
             ],
             [
              0.6666666666666666,
              "#ed7953"
             ],
             [
              0.7777777777777778,
              "#fb9f3a"
             ],
             [
              0.8888888888888888,
              "#fdca26"
             ],
             [
              1,
              "#f0f921"
             ]
            ],
            "type": "histogram2d"
           }
          ],
          "histogram2dcontour": [
           {
            "colorbar": {
             "outlinewidth": 0,
             "ticks": ""
            },
            "colorscale": [
             [
              0,
              "#0d0887"
             ],
             [
              0.1111111111111111,
              "#46039f"
             ],
             [
              0.2222222222222222,
              "#7201a8"
             ],
             [
              0.3333333333333333,
              "#9c179e"
             ],
             [
              0.4444444444444444,
              "#bd3786"
             ],
             [
              0.5555555555555556,
              "#d8576b"
             ],
             [
              0.6666666666666666,
              "#ed7953"
             ],
             [
              0.7777777777777778,
              "#fb9f3a"
             ],
             [
              0.8888888888888888,
              "#fdca26"
             ],
             [
              1,
              "#f0f921"
             ]
            ],
            "type": "histogram2dcontour"
           }
          ],
          "mesh3d": [
           {
            "colorbar": {
             "outlinewidth": 0,
             "ticks": ""
            },
            "type": "mesh3d"
           }
          ],
          "parcoords": [
           {
            "line": {
             "colorbar": {
              "outlinewidth": 0,
              "ticks": ""
             }
            },
            "type": "parcoords"
           }
          ],
          "pie": [
           {
            "automargin": true,
            "type": "pie"
           }
          ],
          "scatter": [
           {
            "fillpattern": {
             "fillmode": "overlay",
             "size": 10,
             "solidity": 0.2
            },
            "type": "scatter"
           }
          ],
          "scatter3d": [
           {
            "line": {
             "colorbar": {
              "outlinewidth": 0,
              "ticks": ""
             }
            },
            "marker": {
             "colorbar": {
              "outlinewidth": 0,
              "ticks": ""
             }
            },
            "type": "scatter3d"
           }
          ],
          "scattercarpet": [
           {
            "marker": {
             "colorbar": {
              "outlinewidth": 0,
              "ticks": ""
             }
            },
            "type": "scattercarpet"
           }
          ],
          "scattergeo": [
           {
            "marker": {
             "colorbar": {
              "outlinewidth": 0,
              "ticks": ""
             }
            },
            "type": "scattergeo"
           }
          ],
          "scattergl": [
           {
            "marker": {
             "colorbar": {
              "outlinewidth": 0,
              "ticks": ""
             }
            },
            "type": "scattergl"
           }
          ],
          "scattermapbox": [
           {
            "marker": {
             "colorbar": {
              "outlinewidth": 0,
              "ticks": ""
             }
            },
            "type": "scattermapbox"
           }
          ],
          "scatterpolar": [
           {
            "marker": {
             "colorbar": {
              "outlinewidth": 0,
              "ticks": ""
             }
            },
            "type": "scatterpolar"
           }
          ],
          "scatterpolargl": [
           {
            "marker": {
             "colorbar": {
              "outlinewidth": 0,
              "ticks": ""
             }
            },
            "type": "scatterpolargl"
           }
          ],
          "scatterternary": [
           {
            "marker": {
             "colorbar": {
              "outlinewidth": 0,
              "ticks": ""
             }
            },
            "type": "scatterternary"
           }
          ],
          "surface": [
           {
            "colorbar": {
             "outlinewidth": 0,
             "ticks": ""
            },
            "colorscale": [
             [
              0,
              "#0d0887"
             ],
             [
              0.1111111111111111,
              "#46039f"
             ],
             [
              0.2222222222222222,
              "#7201a8"
             ],
             [
              0.3333333333333333,
              "#9c179e"
             ],
             [
              0.4444444444444444,
              "#bd3786"
             ],
             [
              0.5555555555555556,
              "#d8576b"
             ],
             [
              0.6666666666666666,
              "#ed7953"
             ],
             [
              0.7777777777777778,
              "#fb9f3a"
             ],
             [
              0.8888888888888888,
              "#fdca26"
             ],
             [
              1,
              "#f0f921"
             ]
            ],
            "type": "surface"
           }
          ],
          "table": [
           {
            "cells": {
             "fill": {
              "color": "#EBF0F8"
             },
             "line": {
              "color": "white"
             }
            },
            "header": {
             "fill": {
              "color": "#C8D4E3"
             },
             "line": {
              "color": "white"
             }
            },
            "type": "table"
           }
          ]
         },
         "layout": {
          "annotationdefaults": {
           "arrowcolor": "#2a3f5f",
           "arrowhead": 0,
           "arrowwidth": 1
          },
          "autotypenumbers": "strict",
          "coloraxis": {
           "colorbar": {
            "outlinewidth": 0,
            "ticks": ""
           }
          },
          "colorscale": {
           "diverging": [
            [
             0,
             "#8e0152"
            ],
            [
             0.1,
             "#c51b7d"
            ],
            [
             0.2,
             "#de77ae"
            ],
            [
             0.3,
             "#f1b6da"
            ],
            [
             0.4,
             "#fde0ef"
            ],
            [
             0.5,
             "#f7f7f7"
            ],
            [
             0.6,
             "#e6f5d0"
            ],
            [
             0.7,
             "#b8e186"
            ],
            [
             0.8,
             "#7fbc41"
            ],
            [
             0.9,
             "#4d9221"
            ],
            [
             1,
             "#276419"
            ]
           ],
           "sequential": [
            [
             0,
             "#0d0887"
            ],
            [
             0.1111111111111111,
             "#46039f"
            ],
            [
             0.2222222222222222,
             "#7201a8"
            ],
            [
             0.3333333333333333,
             "#9c179e"
            ],
            [
             0.4444444444444444,
             "#bd3786"
            ],
            [
             0.5555555555555556,
             "#d8576b"
            ],
            [
             0.6666666666666666,
             "#ed7953"
            ],
            [
             0.7777777777777778,
             "#fb9f3a"
            ],
            [
             0.8888888888888888,
             "#fdca26"
            ],
            [
             1,
             "#f0f921"
            ]
           ],
           "sequentialminus": [
            [
             0,
             "#0d0887"
            ],
            [
             0.1111111111111111,
             "#46039f"
            ],
            [
             0.2222222222222222,
             "#7201a8"
            ],
            [
             0.3333333333333333,
             "#9c179e"
            ],
            [
             0.4444444444444444,
             "#bd3786"
            ],
            [
             0.5555555555555556,
             "#d8576b"
            ],
            [
             0.6666666666666666,
             "#ed7953"
            ],
            [
             0.7777777777777778,
             "#fb9f3a"
            ],
            [
             0.8888888888888888,
             "#fdca26"
            ],
            [
             1,
             "#f0f921"
            ]
           ]
          },
          "colorway": [
           "#636efa",
           "#EF553B",
           "#00cc96",
           "#ab63fa",
           "#FFA15A",
           "#19d3f3",
           "#FF6692",
           "#B6E880",
           "#FF97FF",
           "#FECB52"
          ],
          "font": {
           "color": "#2a3f5f"
          },
          "geo": {
           "bgcolor": "white",
           "lakecolor": "white",
           "landcolor": "white",
           "showlakes": true,
           "showland": true,
           "subunitcolor": "#C8D4E3"
          },
          "hoverlabel": {
           "align": "left"
          },
          "hovermode": "closest",
          "mapbox": {
           "style": "light"
          },
          "paper_bgcolor": "white",
          "plot_bgcolor": "white",
          "polar": {
           "angularaxis": {
            "gridcolor": "#EBF0F8",
            "linecolor": "#EBF0F8",
            "ticks": ""
           },
           "bgcolor": "white",
           "radialaxis": {
            "gridcolor": "#EBF0F8",
            "linecolor": "#EBF0F8",
            "ticks": ""
           }
          },
          "scene": {
           "xaxis": {
            "backgroundcolor": "white",
            "gridcolor": "#DFE8F3",
            "gridwidth": 2,
            "linecolor": "#EBF0F8",
            "showbackground": true,
            "ticks": "",
            "zerolinecolor": "#EBF0F8"
           },
           "yaxis": {
            "backgroundcolor": "white",
            "gridcolor": "#DFE8F3",
            "gridwidth": 2,
            "linecolor": "#EBF0F8",
            "showbackground": true,
            "ticks": "",
            "zerolinecolor": "#EBF0F8"
           },
           "zaxis": {
            "backgroundcolor": "white",
            "gridcolor": "#DFE8F3",
            "gridwidth": 2,
            "linecolor": "#EBF0F8",
            "showbackground": true,
            "ticks": "",
            "zerolinecolor": "#EBF0F8"
           }
          },
          "shapedefaults": {
           "line": {
            "color": "#2a3f5f"
           }
          },
          "ternary": {
           "aaxis": {
            "gridcolor": "#DFE8F3",
            "linecolor": "#A2B1C6",
            "ticks": ""
           },
           "baxis": {
            "gridcolor": "#DFE8F3",
            "linecolor": "#A2B1C6",
            "ticks": ""
           },
           "bgcolor": "white",
           "caxis": {
            "gridcolor": "#DFE8F3",
            "linecolor": "#A2B1C6",
            "ticks": ""
           }
          },
          "title": {
           "x": 0.05
          },
          "xaxis": {
           "automargin": true,
           "gridcolor": "#EBF0F8",
           "linecolor": "#EBF0F8",
           "ticks": "",
           "title": {
            "standoff": 15
           },
           "zerolinecolor": "#EBF0F8",
           "zerolinewidth": 2
          },
          "yaxis": {
           "automargin": true,
           "gridcolor": "#EBF0F8",
           "linecolor": "#EBF0F8",
           "ticks": "",
           "title": {
            "standoff": 15
           },
           "zerolinecolor": "#EBF0F8",
           "zerolinewidth": 2
          }
         }
        },
        "title": {
         "text": "Distribuição de Respostas por Pergunta"
        },
        "width": 1200,
        "xaxis": {
         "anchor": "y",
         "domain": [
          0,
          0.2125
         ]
        },
        "xaxis2": {
         "anchor": "y2",
         "domain": [
          0.2625,
          0.475
         ]
        },
        "xaxis3": {
         "anchor": "y3",
         "domain": [
          0.525,
          0.7375
         ]
        },
        "xaxis4": {
         "anchor": "y4",
         "domain": [
          0.7875,
          1
         ]
        },
        "xaxis5": {
         "anchor": "y5",
         "domain": [
          0,
          0.2125
         ]
        },
        "xaxis6": {
         "anchor": "y6",
         "domain": [
          0.2625,
          0.475
         ]
        },
        "xaxis7": {
         "anchor": "y7",
         "domain": [
          0.525,
          0.7375
         ]
        },
        "xaxis8": {
         "anchor": "y8",
         "domain": [
          0.7875,
          1
         ]
        },
        "yaxis": {
         "anchor": "x",
         "domain": [
          0.625,
          1
         ]
        },
        "yaxis2": {
         "anchor": "x2",
         "domain": [
          0.625,
          1
         ]
        },
        "yaxis3": {
         "anchor": "x3",
         "domain": [
          0.625,
          1
         ]
        },
        "yaxis4": {
         "anchor": "x4",
         "domain": [
          0.625,
          1
         ]
        },
        "yaxis5": {
         "anchor": "x5",
         "domain": [
          0,
          0.375
         ]
        },
        "yaxis6": {
         "anchor": "x6",
         "domain": [
          0,
          0.375
         ]
        },
        "yaxis7": {
         "anchor": "x7",
         "domain": [
          0,
          0.375
         ]
        },
        "yaxis8": {
         "anchor": "x8",
         "domain": [
          0,
          0.375
         ]
        }
       }
      }
     },
     "metadata": {},
     "output_type": "display_data"
    }
   ],
   "source": [
    "# Criando um df sem os valores nan\n",
    "df_limpo = df_gf.dropna()\n",
    "# Lista das perguntas\n",
    "perguntas = ['pergunta_1', 'pergunta_2', 'pergunta_3', 'pergunta_4', \n",
    "             'pergunta_5', 'pergunta_6', 'pergunta_7', 'pergunta_8']\n",
    "# Criando grafico\n",
    "cores = px.colors.qualitative.Vivid\n",
    "fig = sp.make_subplots(rows=2, cols=4, subplot_titles=perguntas)\n",
    "for i, pergunta in enumerate(perguntas):\n",
    "    contagem = df_limpo[pergunta].value_counts().sort_index()\n",
    "    \n",
    "    fig.add_trace(\n",
    "        go.Bar(\n",
    "            x=contagem.index, \n",
    "            y=contagem.values,\n",
    "            marker_color=cores[:len(contagem)], \n",
    "            name=pergunta\n",
    "        ),\n",
    "        row=(i//4)+1, col=(i%4)+1\n",
    "    )\n",
    "fig.update_layout(\n",
    "    height=600, width=1200,\n",
    "    title_text=\"Distribuição de Respostas por Pergunta\",\n",
    "    showlegend=False,\n",
    "    template=\"plotly_white\"\n",
    ")\n",
    "fig.show()"
   ]
  },
  {
   "cell_type": "markdown",
   "id": "7f9ae71d",
   "metadata": {},
   "source": [
    "Como temos um percentual baixo de valores nulos atualmente no dataset, vamos substituir os valores nulos pela Moda de cada pergunta."
   ]
  },
  {
   "cell_type": "code",
   "execution_count": 17,
   "id": "4e02783f",
   "metadata": {},
   "outputs": [],
   "source": [
    "# Imputando valores faltantes com a moda de cada coluna\n",
    "for col in df_gf.columns:\n",
    "    if col.startswith('pergunta'):\n",
    "        moda = df_gf[col].mode()[0]\n",
    "        df_gf[col].fillna(moda, inplace=True)"
   ]
  },
  {
   "cell_type": "code",
   "execution_count": 18,
   "id": "1bca75ba",
   "metadata": {},
   "outputs": [
    {
     "name": "stdout",
     "output_type": "stream",
     "text": [
      "pergunta_1    0\n",
      "pergunta_2    0\n",
      "pergunta_3    0\n",
      "pergunta_4    0\n",
      "pergunta_5    0\n",
      "pergunta_6    0\n",
      "pergunta_7    0\n",
      "pergunta_8    0\n",
      "dtype: int64\n"
     ]
    }
   ],
   "source": [
    "# Verificando valores nulos novamente\n",
    "print(df_gf.isnull().sum())"
   ]
  },
  {
   "cell_type": "code",
   "execution_count": 19,
   "id": "c46d710d",
   "metadata": {},
   "outputs": [],
   "source": [
    "# Salva o DataFrame como um arquivo CSV\n",
    "df_gf.to_csv('df_gf_tratado.csv', index=False)\n",
    "# Copiando o df antes de tratar para o Algorimo \n",
    "df_original = df_gf.copy()"
   ]
  },
  {
   "cell_type": "markdown",
   "id": "ed484aea",
   "metadata": {},
   "source": [
    "Vamos criar um dicionário de dados caso seja necessário consultar as peruntas e alterantivas durante a análise"
   ]
  },
  {
   "cell_type": "code",
   "execution_count": 20,
   "id": "95dc1c82",
   "metadata": {},
   "outputs": [],
   "source": [
    "# Dicionário com todas as perguntas e alternativas\n",
    "perguntas_dict = {\n",
    "    \"pergunta_1\": {\n",
    "        \"texto\": \"Nível de clareza sobre o casamento dos sonhos: Como vocês descreveriam o nível de clareza que têm sobre o casamento que desejam?\",\n",
    "        \"alternativas\": {\n",
    "            \"A\": \"Ainda estamos completamente perdidos sobre tudo\",\n",
    "            \"B\": \"Temos algumas referências, mas nada decidido\",\n",
    "            \"C\": \"Já temos o estilo em mente, mas falta planejar\",\n",
    "            \"D\": \"Sabemos exatamente o que queremos e já começamos a organizar\"\n",
    "        }\n",
    "    },\n",
    "    \"pergunta_2\": {\n",
    "        \"texto\": \"Situação financeira atual: Como você descreveria a situação financeira atual de vocês dois?\",\n",
    "        \"alternativas\": {\n",
    "            \"A\": \"Vivemos no limite e temos dívidas\",\n",
    "            \"B\": \"Conseguimos nos manter, mas não sobra\",\n",
    "            \"C\": \"Temos folga, mas ainda não vivemos como gostaríamos\",\n",
    "            \"D\": \"Estamos bem financeiramente, mas queremos crescer mais\"\n",
    "        }\n",
    "    },\n",
    "    \"pergunta_3\": {\n",
    "        \"texto\": \"Apoio mútuo e envolvimento no sonho de casamento: Como está o envolvimento do seu parceiro(a) na realização do casamento dos sonhos?\",\n",
    "        \"alternativas\": {\n",
    "            \"A\": \"Está completamente envolvido(a), sonha junto comigo\",\n",
    "            \"B\": \"Está envolvido(a), mas prefere que eu lidere\",\n",
    "            \"C\": \"Me apoia, mas não se envolve muito com o planejamento\",\n",
    "            \"D\": \"Prefere que eu resolva tudo sozinho(a)\"\n",
    "        }\n",
    "    },\n",
    "    \"pergunta_4\": {\n",
    "        \"texto\": \"Nível de organização do planejamento: Como vocês estão se organizando para planejar o casamento?\",\n",
    "        \"alternativas\": {\n",
    "            \"A\": \"Não começamos ainda\",\n",
    "            \"B\": \"Temos anotações e ideias soltas\",\n",
    "            \"C\": \"Criamos um planejamento inicial, mas ainda sem orçamento\",\n",
    "            \"D\": \"Temos planilhas, metas e até cronograma definido\"\n",
    "        }\n",
    "    },\n",
    "    \"pergunta_5\": {\n",
    "        \"texto\": \"Possibilidade de investimento atual no casamento: Se fossem realizar o casamento ideal hoje, como pagariam?\",\n",
    "        \"alternativas\": {\n",
    "            \"A\": \"Não conseguiríamos bancar nada ainda\",\n",
    "            \"B\": \"Conseguiríamos fazer algo simples\",\n",
    "            \"C\": \"Teríamos que parcelar bastante ou contar com ajuda\",\n",
    "            \"D\": \"Poderíamos arcar com boa parte, mas queremos mais liberdade\"\n",
    "        }\n",
    "    },\n",
    "    \"pergunta_6\": {\n",
    "        \"texto\": \"Estilo de casamento desejado: Qual o estilo de casamento dos seus sonhos?\",\n",
    "        \"alternativas\": {\n",
    "            \"A\": \"Ainda não pensamos nisso\",\n",
    "            \"B\": \"Algo íntimo e simples, só com pessoas próximas\",\n",
    "            \"C\": \"Uma cerimônia encantadora, com tudo bem feito\",\n",
    "            \"D\": \"Um evento inesquecível, com tudo que temos direito\"\n",
    "        }\n",
    "    },\n",
    "    \"pergunta_7\": {\n",
    "        \"texto\": \"Planejamento da lua de mel: Vocês já pensaram na lua de mel?\",\n",
    "        \"alternativas\": {\n",
    "            \"A\": \"Nem pensamos nisso ainda\",\n",
    "            \"B\": \"Pensamos, mas parece fora da nossa realidade\",\n",
    "            \"C\": \"Temos destinos em mente, mas sem orçamento ainda\",\n",
    "            \"D\": \"Já sabemos onde queremos ir e estamos nos planejando\"\n",
    "        }\n",
    "    },\n",
    "    \"pergunta_8\": {\n",
    "        \"texto\": \"Comprometimento em tornar esse sonho realidade: O quanto vocês estão comprometidos em transformar esse sonho em realidade?\",\n",
    "        \"alternativas\": {\n",
    "            \"A\": \"Desejamos, mas nos falta tempo e direção\",\n",
    "            \"B\": \"Queremos muito, mas temos medo de não dar conta\",\n",
    "            \"C\": \"Estamos dispostos, só falta um plano eficaz\",\n",
    "            \"D\": \"Estamos prontos, queremos agir e realizar de verdade\"\n",
    "        }\n",
    "    }\n",
    "}\n"
   ]
  },
  {
   "cell_type": "markdown",
   "id": "cba2ae87",
   "metadata": {},
   "source": [
    "## Algoritimo Utilizado: KMeans\n",
    "\n",
    "O algoritmo KMeans utiliza a distância euclidiana entre os pontos para formar clusters. A distância euclidiana é uma medida de quão longe dois pontos estão um do outro no espaço euclidiano. A correlação pode ter impacto significativo em modelos de clusterização como o KMeans, pois o KMeans utiliza a distância euclidiana entre os pontos para formar clusters. Variáveis altamente correlacionadas podem influenciar desproporcionalmente as distâncias entre os pontos, levando a possíveis distorções nos clusters formados.\n",
    "\n",
    "Precisamos considerar os pontos de Multicolinearidade (se duas variáveis são altamente correlacionadas),Escala das Variáveis(já que o KMeans é sensível à escala das variáveis e a. Redução de Dimensionalidade (para acelerar o processo de agrupamento quando se tem um grande número de variáveis).\n",
    "\n",
    "Portanto, antes de aplicar o KMeans, vamos analisar a correlação dos dados categóricos primeiramente. Vamos utilizar o Cramér's V. que é uma medida de associação entre duas variáveis categóricas, mede quão associadas estão duas variáveis nominais."
   ]
  },
  {
   "cell_type": "markdown",
   "id": "a993713c",
   "metadata": {},
   "source": [
    "##### Calculando Matriz de Cramer's V e fazendo a análise"
   ]
  },
  {
   "cell_type": "code",
   "execution_count": 21,
   "id": "c60e09a6",
   "metadata": {},
   "outputs": [
    {
     "data": {
      "text/html": [
       "<div>\n",
       "<style scoped>\n",
       "    .dataframe tbody tr th:only-of-type {\n",
       "        vertical-align: middle;\n",
       "    }\n",
       "\n",
       "    .dataframe tbody tr th {\n",
       "        vertical-align: top;\n",
       "    }\n",
       "\n",
       "    .dataframe thead th {\n",
       "        text-align: right;\n",
       "    }\n",
       "</style>\n",
       "<table border=\"1\" class=\"dataframe\">\n",
       "  <thead>\n",
       "    <tr style=\"text-align: right;\">\n",
       "      <th></th>\n",
       "      <th>pergunta_1</th>\n",
       "      <th>pergunta_2</th>\n",
       "      <th>pergunta_3</th>\n",
       "      <th>pergunta_4</th>\n",
       "      <th>pergunta_5</th>\n",
       "      <th>pergunta_6</th>\n",
       "      <th>pergunta_7</th>\n",
       "      <th>pergunta_8</th>\n",
       "    </tr>\n",
       "  </thead>\n",
       "  <tbody>\n",
       "    <tr>\n",
       "      <th>pergunta_1</th>\n",
       "      <td>1.000000</td>\n",
       "      <td>0.154443</td>\n",
       "      <td>0.000000</td>\n",
       "      <td>0.353861</td>\n",
       "      <td>0.193979</td>\n",
       "      <td>0.174872</td>\n",
       "      <td>0.150004</td>\n",
       "      <td>0.261624</td>\n",
       "    </tr>\n",
       "    <tr>\n",
       "      <th>pergunta_2</th>\n",
       "      <td>0.154443</td>\n",
       "      <td>1.000000</td>\n",
       "      <td>0.080247</td>\n",
       "      <td>0.217220</td>\n",
       "      <td>0.319514</td>\n",
       "      <td>0.159740</td>\n",
       "      <td>0.196799</td>\n",
       "      <td>0.175146</td>\n",
       "    </tr>\n",
       "    <tr>\n",
       "      <th>pergunta_3</th>\n",
       "      <td>0.000000</td>\n",
       "      <td>0.080247</td>\n",
       "      <td>1.000000</td>\n",
       "      <td>0.104207</td>\n",
       "      <td>0.099763</td>\n",
       "      <td>0.079644</td>\n",
       "      <td>0.102016</td>\n",
       "      <td>0.105724</td>\n",
       "    </tr>\n",
       "    <tr>\n",
       "      <th>pergunta_4</th>\n",
       "      <td>0.353861</td>\n",
       "      <td>0.217220</td>\n",
       "      <td>0.104207</td>\n",
       "      <td>1.000000</td>\n",
       "      <td>0.255274</td>\n",
       "      <td>0.215382</td>\n",
       "      <td>0.264954</td>\n",
       "      <td>0.324603</td>\n",
       "    </tr>\n",
       "    <tr>\n",
       "      <th>pergunta_5</th>\n",
       "      <td>0.193979</td>\n",
       "      <td>0.319514</td>\n",
       "      <td>0.099763</td>\n",
       "      <td>0.255274</td>\n",
       "      <td>1.000000</td>\n",
       "      <td>0.286524</td>\n",
       "      <td>0.228514</td>\n",
       "      <td>0.235780</td>\n",
       "    </tr>\n",
       "    <tr>\n",
       "      <th>pergunta_6</th>\n",
       "      <td>0.174872</td>\n",
       "      <td>0.159740</td>\n",
       "      <td>0.079644</td>\n",
       "      <td>0.215382</td>\n",
       "      <td>0.286524</td>\n",
       "      <td>1.000000</td>\n",
       "      <td>0.195961</td>\n",
       "      <td>0.227248</td>\n",
       "    </tr>\n",
       "    <tr>\n",
       "      <th>pergunta_7</th>\n",
       "      <td>0.150004</td>\n",
       "      <td>0.196799</td>\n",
       "      <td>0.102016</td>\n",
       "      <td>0.264954</td>\n",
       "      <td>0.228514</td>\n",
       "      <td>0.195961</td>\n",
       "      <td>1.000000</td>\n",
       "      <td>0.305950</td>\n",
       "    </tr>\n",
       "    <tr>\n",
       "      <th>pergunta_8</th>\n",
       "      <td>0.261624</td>\n",
       "      <td>0.175146</td>\n",
       "      <td>0.105724</td>\n",
       "      <td>0.324603</td>\n",
       "      <td>0.235780</td>\n",
       "      <td>0.227248</td>\n",
       "      <td>0.305950</td>\n",
       "      <td>1.000000</td>\n",
       "    </tr>\n",
       "  </tbody>\n",
       "</table>\n",
       "</div>"
      ],
      "text/plain": [
       "            pergunta_1  pergunta_2  pergunta_3  pergunta_4  pergunta_5  \\\n",
       "pergunta_1    1.000000    0.154443    0.000000    0.353861    0.193979   \n",
       "pergunta_2    0.154443    1.000000    0.080247    0.217220    0.319514   \n",
       "pergunta_3    0.000000    0.080247    1.000000    0.104207    0.099763   \n",
       "pergunta_4    0.353861    0.217220    0.104207    1.000000    0.255274   \n",
       "pergunta_5    0.193979    0.319514    0.099763    0.255274    1.000000   \n",
       "pergunta_6    0.174872    0.159740    0.079644    0.215382    0.286524   \n",
       "pergunta_7    0.150004    0.196799    0.102016    0.264954    0.228514   \n",
       "pergunta_8    0.261624    0.175146    0.105724    0.324603    0.235780   \n",
       "\n",
       "            pergunta_6  pergunta_7  pergunta_8  \n",
       "pergunta_1    0.174872    0.150004    0.261624  \n",
       "pergunta_2    0.159740    0.196799    0.175146  \n",
       "pergunta_3    0.079644    0.102016    0.105724  \n",
       "pergunta_4    0.215382    0.264954    0.324603  \n",
       "pergunta_5    0.286524    0.228514    0.235780  \n",
       "pergunta_6    1.000000    0.195961    0.227248  \n",
       "pergunta_7    0.195961    1.000000    0.305950  \n",
       "pergunta_8    0.227248    0.305950    1.000000  "
      ]
     },
     "execution_count": 21,
     "metadata": {},
     "output_type": "execute_result"
    }
   ],
   "source": [
    "# Função para calcular Cramer's V\n",
    "def cramers_v(x, y):\n",
    "    confusion_matrix = pd.crosstab(x, y)\n",
    "    chi2 = chi2_contingency(confusion_matrix, correction=False)[0]\n",
    "    n = confusion_matrix.sum().sum()\n",
    "    phi2 = chi2 / n\n",
    "    r, k = confusion_matrix.shape\n",
    "    phi2corr = max(0, phi2 - ((k-1)*(r-1)) / (n-1))\n",
    "    rcorr = r - ((r-1)**2) / (n-1)\n",
    "    kcorr = k - ((k-1)**2) / (n-1)\n",
    "    return np.sqrt(phi2corr / min((kcorr-1), (rcorr-1)))\n",
    "# Criando matriz \n",
    "df = df_gf\n",
    "categorical_columns = df.columns\n",
    "\n",
    "# Criar uma matriz vazia\n",
    "cramers_results = pd.DataFrame(np.zeros((len(categorical_columns), len(categorical_columns))),\n",
    "                               index=categorical_columns,\n",
    "                               columns=categorical_columns)\n",
    "\n",
    "# Preencher a matriz\n",
    "for col1 in categorical_columns:\n",
    "    for col2 in categorical_columns:\n",
    "        cramers_results.loc[col1, col2] = cramers_v(df[col1], df[col2])\n",
    "# Imprimindo a mtriz\n",
    "cramers_results"
   ]
  },
  {
   "cell_type": "code",
   "execution_count": 22,
   "id": "f6133d30",
   "metadata": {},
   "outputs": [
    {
     "data": {
      "image/png": "[encoded data removed]",
      "text/plain": [
       "<Figure size 1000x800 with 2 Axes>"
      ]
     },
     "metadata": {},
     "output_type": "display_data"
    }
   ],
   "source": [
    "# Visualizando a matriz de correlação\n",
    "plt.figure(figsize=(10,8))\n",
    "sns.heatmap(cramers_results, annot=True, cmap='coolwarm', vmin=0, vmax=1)\n",
    "plt.title(\"Cramér's V - Correlação entre as variáveis categóricas\")\n",
    "plt.show()"
   ]
  },
  {
   "cell_type": "markdown",
   "id": "ce2a1a76",
   "metadata": {},
   "source": [
    "Não possuimos variáveis altamente correlacionadas, mas vamos analisar as três maiores correlações para avaliar a consistência desse dataset"
   ]
  },
  {
   "cell_type": "code",
   "execution_count": 23,
   "id": "4e6e6eb7",
   "metadata": {},
   "outputs": [
    {
     "name": "stdout",
     "output_type": "stream",
     "text": [
      "             1           2  Cramers_V\n",
      "2   pergunta_1  pergunta_4   0.353861\n",
      "21  pergunta_4  pergunta_8   0.324603\n",
      "9   pergunta_2  pergunta_5   0.319514\n"
     ]
    }
   ],
   "source": [
    "# Transformar a matriz em long format (par variável - valor de correlação)\n",
    "corr_pairs = (\n",
    "    cramers_results.where(np.triu(np.ones(cramers_results.shape), k=1).astype(bool))  # pegar só triângulo superior (evita repetição)\n",
    "    .stack()  # transformar em Series com MultiIndex\n",
    "    .reset_index()\n",
    ")\n",
    "corr_pairs.columns = ['1', '2', 'Cramers_V']\n",
    "# Ordenar pelas maiores correlações\n",
    "top_corr = corr_pairs.sort_values(by='Cramers_V', ascending=False).head(3)\n",
    "print(top_corr)"
   ]
  },
  {
   "cell_type": "code",
   "execution_count": 24,
   "id": "accb84ab",
   "metadata": {
    "scrolled": true
   },
   "outputs": [
    {
     "data": {
      "text/plain": [
       "('Nível de clareza sobre o casamento dos sonhos: Como vocês descreveriam o nível de clareza que têm sobre o casamento que desejam?',\n",
       " 'Nível de organização do planejamento: Como vocês estão se organizando para planejar o casamento?')"
      ]
     },
     "execution_count": 24,
     "metadata": {},
     "output_type": "execute_result"
    }
   ],
   "source": [
    "# Correlação entre perguntas 1 e 4\n",
    "perguntas_dict[\"pergunta_1\"][\"texto\"], perguntas_dict[\"pergunta_4\"][\"texto\"]"
   ]
  },
  {
   "cell_type": "markdown",
   "id": "55f359e8",
   "metadata": {},
   "source": [
    "Essa correlação faz sentido pois quem tem clareza sobre o casamento que deseja tende a estar mais organizado em relação ao planejamento."
   ]
  },
  {
   "cell_type": "code",
   "execution_count": 25,
   "id": "b325aab6",
   "metadata": {},
   "outputs": [
    {
     "data": {
      "text/plain": [
       "('Nível de organização do planejamento: Como vocês estão se organizando para planejar o casamento?',\n",
       " 'Comprometimento em tornar esse sonho realidade: O quanto vocês estão comprometidos em transformar esse sonho em realidade?')"
      ]
     },
     "execution_count": 25,
     "metadata": {},
     "output_type": "execute_result"
    }
   ],
   "source": [
    "# Correlação entre perguntas 4 e 8\n",
    "perguntas_dict[\"pergunta_4\"][\"texto\"], perguntas_dict[\"pergunta_8\"][\"texto\"]"
   ]
  },
  {
   "cell_type": "markdown",
   "id": "9ebb514d",
   "metadata": {},
   "source": [
    "Essa correlação também faz sentido pois quem está mais organizado estará mais comprometido em realizar o casamento"
   ]
  },
  {
   "cell_type": "code",
   "execution_count": 26,
   "id": "5c8b7df8",
   "metadata": {},
   "outputs": [
    {
     "data": {
      "text/plain": [
       "('Situação financeira atual: Como você descreveria a situação financeira atual de vocês dois?',\n",
       " 'Possibilidade de investimento atual no casamento: Se fossem realizar o casamento ideal hoje, como pagariam?')"
      ]
     },
     "execution_count": 26,
     "metadata": {},
     "output_type": "execute_result"
    }
   ],
   "source": [
    "# Correlação entre perguntas 2 e 5\n",
    "perguntas_dict[\"pergunta_2\"][\"texto\"], perguntas_dict[\"pergunta_5\"][\"texto\"]"
   ]
  },
  {
   "cell_type": "markdown",
   "id": "15f62b61",
   "metadata": {},
   "source": [
    "Essas perguntas também possuem uma correlação justificavel pois a depender da sitação financeira do casal impactará diretamente na possibilidade de investimento atual no casamento."
   ]
  },
  {
   "cell_type": "markdown",
   "id": "99e15273",
   "metadata": {},
   "source": [
    "#### **Conclusão**\n",
    "\n",
    "- Não existem relações muito fortes entre as perguntas, o que é esperado em questionários bem desenhados onde as perguntas medem aspectos distintos, mesmo que relacionados (não há alto risco de multicolinearidade.).\n",
    "- As maiores correlações são classificadas como moderadas ou fracas, indicando que cada pergunta captura aspectos diferentes do perfil ou situação dos leads.\n",
    "\n",
    "Ainda aplicaresmo o PCA  para redução de dimensionalidade, mas não é obrigatória por questões de multicolinearidade entre as variáveis, e sim pois temos ineresse em reduzir complexidade computacional e melhorar a eficiência do KNN em espaços de alta dimensionalidade."
   ]
  },
  {
   "cell_type": "markdown",
   "id": "45e2b875",
   "metadata": {},
   "source": [
    "### Aplicação do One-Hot-Encoding \n",
    "\n",
    "Como temos muitas features e precisamos alimentar o algoritimo com variáveis numéricas, aplicaremos OHE com a o paramêtro drop_firtst=True. o OHE transforma variáveis categóricas em formato numérico binário, essencial para algoritmos que não lidam nativamente com categorias como é o caso do KMeans."
   ]
  },
  {
   "cell_type": "markdown",
   "id": "df2f9cab",
   "metadata": {},
   "source": [
    "**Aplicando One-Hot Encoding com drop_first=True**"
   ]
  },
  {
   "cell_type": "code",
   "execution_count": 27,
   "id": "392dfbc5",
   "metadata": {},
   "outputs": [
    {
     "data": {
      "text/html": [
       "<div>\n",
       "<style scoped>\n",
       "    .dataframe tbody tr th:only-of-type {\n",
       "        vertical-align: middle;\n",
       "    }\n",
       "\n",
       "    .dataframe tbody tr th {\n",
       "        vertical-align: top;\n",
       "    }\n",
       "\n",
       "    .dataframe thead th {\n",
       "        text-align: right;\n",
       "    }\n",
       "</style>\n",
       "<table border=\"1\" class=\"dataframe\">\n",
       "  <thead>\n",
       "    <tr style=\"text-align: right;\">\n",
       "      <th></th>\n",
       "      <th>pergunta_1_B</th>\n",
       "      <th>pergunta_1_C</th>\n",
       "      <th>pergunta_1_D</th>\n",
       "      <th>pergunta_2_B</th>\n",
       "      <th>pergunta_2_C</th>\n",
       "      <th>pergunta_2_D</th>\n",
       "      <th>pergunta_3_B</th>\n",
       "      <th>pergunta_3_C</th>\n",
       "      <th>pergunta_3_D</th>\n",
       "      <th>pergunta_4_B</th>\n",
       "      <th>...</th>\n",
       "      <th>pergunta_5_D</th>\n",
       "      <th>pergunta_6_B</th>\n",
       "      <th>pergunta_6_C</th>\n",
       "      <th>pergunta_6_D</th>\n",
       "      <th>pergunta_7_B</th>\n",
       "      <th>pergunta_7_C</th>\n",
       "      <th>pergunta_7_D</th>\n",
       "      <th>pergunta_8_B</th>\n",
       "      <th>pergunta_8_C</th>\n",
       "      <th>pergunta_8_D</th>\n",
       "    </tr>\n",
       "  </thead>\n",
       "  <tbody>\n",
       "    <tr>\n",
       "      <th>288</th>\n",
       "      <td>0.0</td>\n",
       "      <td>0.0</td>\n",
       "      <td>1.0</td>\n",
       "      <td>0.0</td>\n",
       "      <td>0.0</td>\n",
       "      <td>0.0</td>\n",
       "      <td>0.0</td>\n",
       "      <td>0.0</td>\n",
       "      <td>0.0</td>\n",
       "      <td>0.0</td>\n",
       "      <td>...</td>\n",
       "      <td>0.0</td>\n",
       "      <td>0.0</td>\n",
       "      <td>1.0</td>\n",
       "      <td>0.0</td>\n",
       "      <td>0.0</td>\n",
       "      <td>0.0</td>\n",
       "      <td>1.0</td>\n",
       "      <td>0.0</td>\n",
       "      <td>0.0</td>\n",
       "      <td>1.0</td>\n",
       "    </tr>\n",
       "    <tr>\n",
       "      <th>64</th>\n",
       "      <td>0.0</td>\n",
       "      <td>1.0</td>\n",
       "      <td>0.0</td>\n",
       "      <td>1.0</td>\n",
       "      <td>0.0</td>\n",
       "      <td>0.0</td>\n",
       "      <td>0.0</td>\n",
       "      <td>0.0</td>\n",
       "      <td>0.0</td>\n",
       "      <td>1.0</td>\n",
       "      <td>...</td>\n",
       "      <td>0.0</td>\n",
       "      <td>0.0</td>\n",
       "      <td>0.0</td>\n",
       "      <td>1.0</td>\n",
       "      <td>0.0</td>\n",
       "      <td>1.0</td>\n",
       "      <td>0.0</td>\n",
       "      <td>1.0</td>\n",
       "      <td>0.0</td>\n",
       "      <td>0.0</td>\n",
       "    </tr>\n",
       "    <tr>\n",
       "      <th>264</th>\n",
       "      <td>0.0</td>\n",
       "      <td>0.0</td>\n",
       "      <td>0.0</td>\n",
       "      <td>1.0</td>\n",
       "      <td>0.0</td>\n",
       "      <td>0.0</td>\n",
       "      <td>1.0</td>\n",
       "      <td>0.0</td>\n",
       "      <td>0.0</td>\n",
       "      <td>0.0</td>\n",
       "      <td>...</td>\n",
       "      <td>0.0</td>\n",
       "      <td>1.0</td>\n",
       "      <td>0.0</td>\n",
       "      <td>0.0</td>\n",
       "      <td>0.0</td>\n",
       "      <td>0.0</td>\n",
       "      <td>0.0</td>\n",
       "      <td>0.0</td>\n",
       "      <td>0.0</td>\n",
       "      <td>0.0</td>\n",
       "    </tr>\n",
       "    <tr>\n",
       "      <th>464</th>\n",
       "      <td>0.0</td>\n",
       "      <td>0.0</td>\n",
       "      <td>0.0</td>\n",
       "      <td>1.0</td>\n",
       "      <td>0.0</td>\n",
       "      <td>0.0</td>\n",
       "      <td>0.0</td>\n",
       "      <td>1.0</td>\n",
       "      <td>0.0</td>\n",
       "      <td>1.0</td>\n",
       "      <td>...</td>\n",
       "      <td>0.0</td>\n",
       "      <td>0.0</td>\n",
       "      <td>1.0</td>\n",
       "      <td>0.0</td>\n",
       "      <td>1.0</td>\n",
       "      <td>0.0</td>\n",
       "      <td>0.0</td>\n",
       "      <td>1.0</td>\n",
       "      <td>0.0</td>\n",
       "      <td>0.0</td>\n",
       "    </tr>\n",
       "    <tr>\n",
       "      <th>19</th>\n",
       "      <td>0.0</td>\n",
       "      <td>0.0</td>\n",
       "      <td>0.0</td>\n",
       "      <td>1.0</td>\n",
       "      <td>0.0</td>\n",
       "      <td>0.0</td>\n",
       "      <td>0.0</td>\n",
       "      <td>0.0</td>\n",
       "      <td>0.0</td>\n",
       "      <td>0.0</td>\n",
       "      <td>...</td>\n",
       "      <td>0.0</td>\n",
       "      <td>1.0</td>\n",
       "      <td>0.0</td>\n",
       "      <td>0.0</td>\n",
       "      <td>0.0</td>\n",
       "      <td>0.0</td>\n",
       "      <td>0.0</td>\n",
       "      <td>0.0</td>\n",
       "      <td>0.0</td>\n",
       "      <td>0.0</td>\n",
       "    </tr>\n",
       "    <tr>\n",
       "      <th>21</th>\n",
       "      <td>0.0</td>\n",
       "      <td>1.0</td>\n",
       "      <td>0.0</td>\n",
       "      <td>1.0</td>\n",
       "      <td>0.0</td>\n",
       "      <td>0.0</td>\n",
       "      <td>0.0</td>\n",
       "      <td>1.0</td>\n",
       "      <td>0.0</td>\n",
       "      <td>1.0</td>\n",
       "      <td>...</td>\n",
       "      <td>0.0</td>\n",
       "      <td>1.0</td>\n",
       "      <td>0.0</td>\n",
       "      <td>0.0</td>\n",
       "      <td>0.0</td>\n",
       "      <td>0.0</td>\n",
       "      <td>0.0</td>\n",
       "      <td>0.0</td>\n",
       "      <td>0.0</td>\n",
       "      <td>0.0</td>\n",
       "    </tr>\n",
       "    <tr>\n",
       "      <th>551</th>\n",
       "      <td>1.0</td>\n",
       "      <td>0.0</td>\n",
       "      <td>0.0</td>\n",
       "      <td>1.0</td>\n",
       "      <td>0.0</td>\n",
       "      <td>0.0</td>\n",
       "      <td>1.0</td>\n",
       "      <td>0.0</td>\n",
       "      <td>0.0</td>\n",
       "      <td>1.0</td>\n",
       "      <td>...</td>\n",
       "      <td>0.0</td>\n",
       "      <td>0.0</td>\n",
       "      <td>0.0</td>\n",
       "      <td>0.0</td>\n",
       "      <td>1.0</td>\n",
       "      <td>0.0</td>\n",
       "      <td>0.0</td>\n",
       "      <td>0.0</td>\n",
       "      <td>0.0</td>\n",
       "      <td>1.0</td>\n",
       "    </tr>\n",
       "    <tr>\n",
       "      <th>388</th>\n",
       "      <td>0.0</td>\n",
       "      <td>0.0</td>\n",
       "      <td>1.0</td>\n",
       "      <td>0.0</td>\n",
       "      <td>1.0</td>\n",
       "      <td>0.0</td>\n",
       "      <td>0.0</td>\n",
       "      <td>0.0</td>\n",
       "      <td>0.0</td>\n",
       "      <td>0.0</td>\n",
       "      <td>...</td>\n",
       "      <td>0.0</td>\n",
       "      <td>0.0</td>\n",
       "      <td>0.0</td>\n",
       "      <td>1.0</td>\n",
       "      <td>1.0</td>\n",
       "      <td>0.0</td>\n",
       "      <td>0.0</td>\n",
       "      <td>0.0</td>\n",
       "      <td>0.0</td>\n",
       "      <td>1.0</td>\n",
       "    </tr>\n",
       "    <tr>\n",
       "      <th>391</th>\n",
       "      <td>0.0</td>\n",
       "      <td>0.0</td>\n",
       "      <td>1.0</td>\n",
       "      <td>0.0</td>\n",
       "      <td>0.0</td>\n",
       "      <td>0.0</td>\n",
       "      <td>1.0</td>\n",
       "      <td>0.0</td>\n",
       "      <td>0.0</td>\n",
       "      <td>1.0</td>\n",
       "      <td>...</td>\n",
       "      <td>0.0</td>\n",
       "      <td>1.0</td>\n",
       "      <td>0.0</td>\n",
       "      <td>0.0</td>\n",
       "      <td>0.0</td>\n",
       "      <td>1.0</td>\n",
       "      <td>0.0</td>\n",
       "      <td>1.0</td>\n",
       "      <td>0.0</td>\n",
       "      <td>0.0</td>\n",
       "    </tr>\n",
       "    <tr>\n",
       "      <th>622</th>\n",
       "      <td>0.0</td>\n",
       "      <td>0.0</td>\n",
       "      <td>0.0</td>\n",
       "      <td>1.0</td>\n",
       "      <td>0.0</td>\n",
       "      <td>0.0</td>\n",
       "      <td>1.0</td>\n",
       "      <td>0.0</td>\n",
       "      <td>0.0</td>\n",
       "      <td>0.0</td>\n",
       "      <td>...</td>\n",
       "      <td>0.0</td>\n",
       "      <td>0.0</td>\n",
       "      <td>0.0</td>\n",
       "      <td>0.0</td>\n",
       "      <td>0.0</td>\n",
       "      <td>0.0</td>\n",
       "      <td>0.0</td>\n",
       "      <td>1.0</td>\n",
       "      <td>0.0</td>\n",
       "      <td>0.0</td>\n",
       "    </tr>\n",
       "  </tbody>\n",
       "</table>\n",
       "<p>10 rows × 24 columns</p>\n",
       "</div>"
      ],
      "text/plain": [
       "     pergunta_1_B  pergunta_1_C  pergunta_1_D  pergunta_2_B  pergunta_2_C  \\\n",
       "288           0.0           0.0           1.0           0.0           0.0   \n",
       "64            0.0           1.0           0.0           1.0           0.0   \n",
       "264           0.0           0.0           0.0           1.0           0.0   \n",
       "464           0.0           0.0           0.0           1.0           0.0   \n",
       "19            0.0           0.0           0.0           1.0           0.0   \n",
       "21            0.0           1.0           0.0           1.0           0.0   \n",
       "551           1.0           0.0           0.0           1.0           0.0   \n",
       "388           0.0           0.0           1.0           0.0           1.0   \n",
       "391           0.0           0.0           1.0           0.0           0.0   \n",
       "622           0.0           0.0           0.0           1.0           0.0   \n",
       "\n",
       "     pergunta_2_D  pergunta_3_B  pergunta_3_C  pergunta_3_D  pergunta_4_B  \\\n",
       "288           0.0           0.0           0.0           0.0           0.0   \n",
       "64            0.0           0.0           0.0           0.0           1.0   \n",
       "264           0.0           1.0           0.0           0.0           0.0   \n",
       "464           0.0           0.0           1.0           0.0           1.0   \n",
       "19            0.0           0.0           0.0           0.0           0.0   \n",
       "21            0.0           0.0           1.0           0.0           1.0   \n",
       "551           0.0           1.0           0.0           0.0           1.0   \n",
       "388           0.0           0.0           0.0           0.0           0.0   \n",
       "391           0.0           1.0           0.0           0.0           1.0   \n",
       "622           0.0           1.0           0.0           0.0           0.0   \n",
       "\n",
       "     ...  pergunta_5_D  pergunta_6_B  pergunta_6_C  pergunta_6_D  \\\n",
       "288  ...           0.0           0.0           1.0           0.0   \n",
       "64   ...           0.0           0.0           0.0           1.0   \n",
       "264  ...           0.0           1.0           0.0           0.0   \n",
       "464  ...           0.0           0.0           1.0           0.0   \n",
       "19   ...           0.0           1.0           0.0           0.0   \n",
       "21   ...           0.0           1.0           0.0           0.0   \n",
       "551  ...           0.0           0.0           0.0           0.0   \n",
       "388  ...           0.0           0.0           0.0           1.0   \n",
       "391  ...           0.0           1.0           0.0           0.0   \n",
       "622  ...           0.0           0.0           0.0           0.0   \n",
       "\n",
       "     pergunta_7_B  pergunta_7_C  pergunta_7_D  pergunta_8_B  pergunta_8_C  \\\n",
       "288           0.0           0.0           1.0           0.0           0.0   \n",
       "64            0.0           1.0           0.0           1.0           0.0   \n",
       "264           0.0           0.0           0.0           0.0           0.0   \n",
       "464           1.0           0.0           0.0           1.0           0.0   \n",
       "19            0.0           0.0           0.0           0.0           0.0   \n",
       "21            0.0           0.0           0.0           0.0           0.0   \n",
       "551           1.0           0.0           0.0           0.0           0.0   \n",
       "388           1.0           0.0           0.0           0.0           0.0   \n",
       "391           0.0           1.0           0.0           1.0           0.0   \n",
       "622           0.0           0.0           0.0           1.0           0.0   \n",
       "\n",
       "     pergunta_8_D  \n",
       "288           1.0  \n",
       "64            0.0  \n",
       "264           0.0  \n",
       "464           0.0  \n",
       "19            0.0  \n",
       "21            0.0  \n",
       "551           1.0  \n",
       "388           1.0  \n",
       "391           0.0  \n",
       "622           0.0  \n",
       "\n",
       "[10 rows x 24 columns]"
      ]
     },
     "execution_count": 27,
     "metadata": {},
     "output_type": "execute_result"
    }
   ],
   "source": [
    "# Instanciando o codificador\n",
    "ohe = OneHotEncoder(drop='first', sparse=False)\n",
    "# Ajustando e transformando os dados\n",
    "ohe_array = ohe.fit_transform(df_gf)\n",
    "# Pegando os nomes das colunas geradas pelo OHE\n",
    "ohe_columns = ohe.get_feature_names_out(df_gf.columns)\n",
    "# Criando um novo DataFrame com os dados codificados\n",
    "df_gf_ohe = pd.DataFrame(ohe_array, columns=ohe_columns, index=df_gf.index)\n",
    "# Visualizando amostra aleatória de 10 linhas\n",
    "df_gf_ohe.sample(10)"
   ]
  },
  {
   "cell_type": "markdown",
   "id": "c9b8d6a1",
   "metadata": {},
   "source": [
    "Podemos visualizar o uso do parâmetro drop='first' que remove a primeira categoria de cada variável para diminuir a dimensionaliade, temos 24 features no lugar de 32."
   ]
  },
  {
   "cell_type": "markdown",
   "id": "514524fb",
   "metadata": {},
   "source": [
    "### Aplicação do PCA\n",
    "\n",
    "A Análise de Componentes Principais (PCA - Principal Component Analysis) é uma técnica estatística de redução de dimensionalidade que transforma um conjunto de variáveis possivelmente correlacionadas em um novo conjunto de variáveis não correlacionadas, chamadas de componentes principais.\n",
    "\n",
    "O objetivo para o nosso projeto é capturar o máximo de variabilidade dos dados nos primeiras componentes e facilitar visualização, clustering, classificação e reduzir ruído. O OHE gera um aumento considerável da dimensionalidade (no caso desse projeto, de 8 perguntas para 24 variáveis após `drop_first=True`). E quanto maior a dimensionalidade, mais espaço vazio há nos dados, levando à Maldição da Dimensionalidade, que afeta a performance do algoritimo KMeans"
   ]
  },
  {
   "cell_type": "markdown",
   "id": "26a8bbc8",
   "metadata": {},
   "source": [
    "**Aplicando o PCA**"
   ]
  },
  {
   "cell_type": "code",
   "execution_count": 28,
   "id": "f264e6b0",
   "metadata": {},
   "outputs": [
    {
     "name": "stdout",
     "output_type": "stream",
     "text": [
      "        PC1       PC2       PC3       PC4       PC5       PC6       PC7  \\\n",
      "0  0.894431  2.735178 -0.826413  3.137230 -0.409440  0.161323 -0.650989   \n",
      "1  2.981389 -1.378394  0.998942 -1.971190  0.027095 -1.719077 -1.687937   \n",
      "2 -1.231628 -0.908463 -0.152123 -0.419888  0.238578  0.347453 -0.037611   \n",
      "3 -1.217156 -0.110358 -1.339276 -0.422707 -0.274758  0.304763 -1.688694   \n",
      "4 -1.842543 -1.716992 -1.497125  0.169806 -0.275240 -0.392597  0.011479   \n",
      "\n",
      "        PC8       PC9      PC10  ...      PC15      PC16      PC17      PC18  \\\n",
      "0 -0.982705 -0.015318 -2.118046  ... -1.322269 -1.216456  0.611138 -1.027353   \n",
      "1  1.375810  0.359631  1.131436  ... -1.148633  1.284379  2.483504  0.253910   \n",
      "2  0.819806 -0.162855 -0.752639  ...  1.033716 -0.966877  0.895287 -0.054726   \n",
      "3 -1.809124  0.729512  0.755415  ... -0.506001  0.649595 -1.187464 -0.104447   \n",
      "4 -0.020066 -0.155247  0.608450  ...  0.350160  0.626633  0.647278  1.009298   \n",
      "\n",
      "       PC19      PC20      PC21      PC22      PC23      PC24  \n",
      "0 -0.089755  1.457162 -0.171782 -0.607896  0.618231 -0.156277  \n",
      "1 -1.530543 -1.048446  0.320573 -0.063387  2.119997 -0.119219  \n",
      "2 -0.394803 -0.066319  1.049833 -0.495020  0.547988 -0.459000  \n",
      "3  0.070163 -0.923953 -1.024069  0.028527 -0.228793  1.166666  \n",
      "4  0.507244  1.303698 -0.514279 -0.323762 -0.036504 -0.127500  \n",
      "\n",
      "[5 rows x 24 columns]\n"
     ]
    }
   ],
   "source": [
    "# Padronizando os dados\n",
    "scaler = StandardScaler()\n",
    "df_scaled = scaler.fit_transform(df_gf_ohe)\n",
    "# Instanciando o PCA\n",
    "pca = PCA()\n",
    "# Ajustando o PCA aos dados\n",
    "pca.fit(df_scaled)\n",
    "# Gerando os componentes principais\n",
    "df_pca = pca.transform(df_scaled)\n",
    "# Convertendo em DataFrame para visualização\n",
    "df_pca = pd.DataFrame(df_pca, columns=[f'PC{i+1}' for i in range(df_pca.shape[1])])\n",
    "# Visualizando as 5 primeiras linhas\n",
    "print(df_pca.head())"
   ]
  },
  {
   "cell_type": "markdown",
   "id": "983f8242",
   "metadata": {},
   "source": [
    "O resultado da análise de componentes principais tem como inuito nos dar base para decidirmos quantas variáveis iremos utilizar e quanta variância total conseguimos explicar nesse dataset. Portanto devemos escolher entre 01 a 24 PCs e tomar uma decisão com base em \"quanto queremos explicar desses dados\", ou seja o mínimo de componentes necessários para ter máximo de interpretabilidade. "
   ]
  },
  {
   "cell_type": "code",
   "execution_count": 29,
   "id": "3094f1f9",
   "metadata": {},
   "outputs": [
    {
     "data": {
      "application/vnd.plotly.v1+json": {
       "config": {
        "plotlyServerURL": "https://plot.ly"
       },
       "data": [
        {
         "line": {
          "dash": "dash",
          "width": 2
         },
         "marker": {
          "color": "blue",
          "size": 8
         },
         "mode": "lines+markers",
         "name": "Variância Acumulada",
         "type": "scatter",
         "x": [
          1,
          2,
          3,
          4,
          5,
          6,
          7,
          8,
          9,
          10,
          11,
          12,
          13,
          14,
          15,
          16,
          17,
          18,
          19,
          20,
          21,
          22,
          23,
          24
         ],
         "y": [
          0.13759802757928394,
          0.22765043608046415,
          0.3031767232644114,
          0.3644914714909132,
          0.4218413042496013,
          0.47546234467257853,
          0.5268475522039237,
          0.5758533800031951,
          0.6220291212367995,
          0.6665572136843496,
          0.7074423919947582,
          0.7466128243474458,
          0.7820053173081175,
          0.8163986381668167,
          0.8469600989596167,
          0.8755490565659699,
          0.9031484683919039,
          0.9261428521355771,
          0.9451561693999189,
          0.9601154166165393,
          0.9721266140675611,
          0.9833229668082651,
          0.9939344557510251,
          0.9999999999999997
         ]
        }
       ],
       "layout": {
        "height": 500,
        "template": {
         "data": {
          "bar": [
           {
            "error_x": {
             "color": "#2a3f5f"
            },
            "error_y": {
             "color": "#2a3f5f"
            },
            "marker": {
             "line": {
              "color": "white",
              "width": 0.5
             },
             "pattern": {
              "fillmode": "overlay",
              "size": 10,
              "solidity": 0.2
             }
            },
            "type": "bar"
           }
          ],
          "barpolar": [
           {
            "marker": {
             "line": {
              "color": "white",
              "width": 0.5
             },
             "pattern": {
              "fillmode": "overlay",
              "size": 10,
              "solidity": 0.2
             }
            },
            "type": "barpolar"
           }
          ],
          "carpet": [
           {
            "aaxis": {
             "endlinecolor": "#2a3f5f",
             "gridcolor": "#C8D4E3",
             "linecolor": "#C8D4E3",
             "minorgridcolor": "#C8D4E3",
             "startlinecolor": "#2a3f5f"
            },
            "baxis": {
             "endlinecolor": "#2a3f5f",
             "gridcolor": "#C8D4E3",
             "linecolor": "#C8D4E3",
             "minorgridcolor": "#C8D4E3",
             "startlinecolor": "#2a3f5f"
            },
            "type": "carpet"
           }
          ],
          "choropleth": [
           {
            "colorbar": {
             "outlinewidth": 0,
             "ticks": ""
            },
            "type": "choropleth"
           }
          ],
          "contour": [
           {
            "colorbar": {
             "outlinewidth": 0,
             "ticks": ""
            },
            "colorscale": [
             [
              0,
              "#0d0887"
             ],
             [
              0.1111111111111111,
              "#46039f"
             ],
             [
              0.2222222222222222,
              "#7201a8"
             ],
             [
              0.3333333333333333,
              "#9c179e"
             ],
             [
              0.4444444444444444,
              "#bd3786"
             ],
             [
              0.5555555555555556,
              "#d8576b"
             ],
             [
              0.6666666666666666,
              "#ed7953"
             ],
             [
              0.7777777777777778,
              "#fb9f3a"
             ],
             [
              0.8888888888888888,
              "#fdca26"
             ],
             [
              1,
              "#f0f921"
             ]
            ],
            "type": "contour"
           }
          ],
          "contourcarpet": [
           {
            "colorbar": {
             "outlinewidth": 0,
             "ticks": ""
            },
            "type": "contourcarpet"
           }
          ],
          "heatmap": [
           {
            "colorbar": {
             "outlinewidth": 0,
             "ticks": ""
            },
            "colorscale": [
             [
              0,
              "#0d0887"
             ],
             [
              0.1111111111111111,
              "#46039f"
             ],
             [
              0.2222222222222222,
              "#7201a8"
             ],
             [
              0.3333333333333333,
              "#9c179e"
             ],
             [
              0.4444444444444444,
              "#bd3786"
             ],
             [
              0.5555555555555556,
              "#d8576b"
             ],
             [
              0.6666666666666666,
              "#ed7953"
             ],
             [
              0.7777777777777778,
              "#fb9f3a"
             ],
             [
              0.8888888888888888,
              "#fdca26"
             ],
             [
              1,
              "#f0f921"
             ]
            ],
            "type": "heatmap"
           }
          ],
          "heatmapgl": [
           {
            "colorbar": {
             "outlinewidth": 0,
             "ticks": ""
            },
            "colorscale": [
             [
              0,
              "#0d0887"
             ],
             [
              0.1111111111111111,
              "#46039f"
             ],
             [
              0.2222222222222222,
              "#7201a8"
             ],
             [
              0.3333333333333333,
              "#9c179e"
             ],
             [
              0.4444444444444444,
              "#bd3786"
             ],
             [
              0.5555555555555556,
              "#d8576b"
             ],
             [
              0.6666666666666666,
              "#ed7953"
             ],
             [
              0.7777777777777778,
              "#fb9f3a"
             ],
             [
              0.8888888888888888,
              "#fdca26"
             ],
             [
              1,
              "#f0f921"
             ]
            ],
            "type": "heatmapgl"
           }
          ],
          "histogram": [
           {
            "marker": {
             "pattern": {
              "fillmode": "overlay",
              "size": 10,
              "solidity": 0.2
             }
            },
            "type": "histogram"
           }
          ],
          "histogram2d": [
           {
            "colorbar": {
             "outlinewidth": 0,
             "ticks": ""
            },
            "colorscale": [
             [
              0,
              "#0d0887"
             ],
             [
              0.1111111111111111,
              "#46039f"
             ],
             [
              0.2222222222222222,
              "#7201a8"
             ],
             [
              0.3333333333333333,
              "#9c179e"
             ],
             [
              0.4444444444444444,
              "#bd3786"
             ],
             [
              0.5555555555555556,
              "#d8576b"
             ],
             [
              0.6666666666666666,
              "#ed7953"
             ],
             [
              0.7777777777777778,
              "#fb9f3a"
             ],
             [
              0.8888888888888888,
              "#fdca26"
             ],
             [
              1,
              "#f0f921"
             ]
            ],
            "type": "histogram2d"
           }
          ],
          "histogram2dcontour": [
           {
            "colorbar": {
             "outlinewidth": 0,
             "ticks": ""
            },
            "colorscale": [
             [
              0,
              "#0d0887"
             ],
             [
              0.1111111111111111,
              "#46039f"
             ],
             [
              0.2222222222222222,
              "#7201a8"
             ],
             [
              0.3333333333333333,
              "#9c179e"
             ],
             [
              0.4444444444444444,
              "#bd3786"
             ],
             [
              0.5555555555555556,
              "#d8576b"
             ],
             [
              0.6666666666666666,
              "#ed7953"
             ],
             [
              0.7777777777777778,
              "#fb9f3a"
             ],
             [
              0.8888888888888888,
              "#fdca26"
             ],
             [
              1,
              "#f0f921"
             ]
            ],
            "type": "histogram2dcontour"
           }
          ],
          "mesh3d": [
           {
            "colorbar": {
             "outlinewidth": 0,
             "ticks": ""
            },
            "type": "mesh3d"
           }
          ],
          "parcoords": [
           {
            "line": {
             "colorbar": {
              "outlinewidth": 0,
              "ticks": ""
             }
            },
            "type": "parcoords"
           }
          ],
          "pie": [
           {
            "automargin": true,
            "type": "pie"
           }
          ],
          "scatter": [
           {
            "fillpattern": {
             "fillmode": "overlay",
             "size": 10,
             "solidity": 0.2
            },
            "type": "scatter"
           }
          ],
          "scatter3d": [
           {
            "line": {
             "colorbar": {
              "outlinewidth": 0,
              "ticks": ""
             }
            },
            "marker": {
             "colorbar": {
              "outlinewidth": 0,
              "ticks": ""
             }
            },
            "type": "scatter3d"
           }
          ],
          "scattercarpet": [
           {
            "marker": {
             "colorbar": {
              "outlinewidth": 0,
              "ticks": ""
             }
            },
            "type": "scattercarpet"
           }
          ],
          "scattergeo": [
           {
            "marker": {
             "colorbar": {
              "outlinewidth": 0,
              "ticks": ""
             }
            },
            "type": "scattergeo"
           }
          ],
          "scattergl": [
           {
            "marker": {
             "colorbar": {
              "outlinewidth": 0,
              "ticks": ""
             }
            },
            "type": "scattergl"
           }
          ],
          "scattermapbox": [
           {
            "marker": {
             "colorbar": {
              "outlinewidth": 0,
              "ticks": ""
             }
            },
            "type": "scattermapbox"
           }
          ],
          "scatterpolar": [
           {
            "marker": {
             "colorbar": {
              "outlinewidth": 0,
              "ticks": ""
             }
            },
            "type": "scatterpolar"
           }
          ],
          "scatterpolargl": [
           {
            "marker": {
             "colorbar": {
              "outlinewidth": 0,
              "ticks": ""
             }
            },
            "type": "scatterpolargl"
           }
          ],
          "scatterternary": [
           {
            "marker": {
             "colorbar": {
              "outlinewidth": 0,
              "ticks": ""
             }
            },
            "type": "scatterternary"
           }
          ],
          "surface": [
           {
            "colorbar": {
             "outlinewidth": 0,
             "ticks": ""
            },
            "colorscale": [
             [
              0,
              "#0d0887"
             ],
             [
              0.1111111111111111,
              "#46039f"
             ],
             [
              0.2222222222222222,
              "#7201a8"
             ],
             [
              0.3333333333333333,
              "#9c179e"
             ],
             [
              0.4444444444444444,
              "#bd3786"
             ],
             [
              0.5555555555555556,
              "#d8576b"
             ],
             [
              0.6666666666666666,
              "#ed7953"
             ],
             [
              0.7777777777777778,
              "#fb9f3a"
             ],
             [
              0.8888888888888888,
              "#fdca26"
             ],
             [
              1,
              "#f0f921"
             ]
            ],
            "type": "surface"
           }
          ],
          "table": [
           {
            "cells": {
             "fill": {
              "color": "#EBF0F8"
             },
             "line": {
              "color": "white"
             }
            },
            "header": {
             "fill": {
              "color": "#C8D4E3"
             },
             "line": {
              "color": "white"
             }
            },
            "type": "table"
           }
          ]
         },
         "layout": {
          "annotationdefaults": {
           "arrowcolor": "#2a3f5f",
           "arrowhead": 0,
           "arrowwidth": 1
          },
          "autotypenumbers": "strict",
          "coloraxis": {
           "colorbar": {
            "outlinewidth": 0,
            "ticks": ""
           }
          },
          "colorscale": {
           "diverging": [
            [
             0,
             "#8e0152"
            ],
            [
             0.1,
             "#c51b7d"
            ],
            [
             0.2,
             "#de77ae"
            ],
            [
             0.3,
             "#f1b6da"
            ],
            [
             0.4,
             "#fde0ef"
            ],
            [
             0.5,
             "#f7f7f7"
            ],
            [
             0.6,
             "#e6f5d0"
            ],
            [
             0.7,
             "#b8e186"
            ],
            [
             0.8,
             "#7fbc41"
            ],
            [
             0.9,
             "#4d9221"
            ],
            [
             1,
             "#276419"
            ]
           ],
           "sequential": [
            [
             0,
             "#0d0887"
            ],
            [
             0.1111111111111111,
             "#46039f"
            ],
            [
             0.2222222222222222,
             "#7201a8"
            ],
            [
             0.3333333333333333,
             "#9c179e"
            ],
            [
             0.4444444444444444,
             "#bd3786"
            ],
            [
             0.5555555555555556,
             "#d8576b"
            ],
            [
             0.6666666666666666,
             "#ed7953"
            ],
            [
             0.7777777777777778,
             "#fb9f3a"
            ],
            [
             0.8888888888888888,
             "#fdca26"
            ],
            [
             1,
             "#f0f921"
            ]
           ],
           "sequentialminus": [
            [
             0,
             "#0d0887"
            ],
            [
             0.1111111111111111,
             "#46039f"
            ],
            [
             0.2222222222222222,
             "#7201a8"
            ],
            [
             0.3333333333333333,
             "#9c179e"
            ],
            [
             0.4444444444444444,
             "#bd3786"
            ],
            [
             0.5555555555555556,
             "#d8576b"
            ],
            [
             0.6666666666666666,
             "#ed7953"
            ],
            [
             0.7777777777777778,
             "#fb9f3a"
            ],
            [
             0.8888888888888888,
             "#fdca26"
            ],
            [
             1,
             "#f0f921"
            ]
           ]
          },
          "colorway": [
           "#636efa",
           "#EF553B",
           "#00cc96",
           "#ab63fa",
           "#FFA15A",
           "#19d3f3",
           "#FF6692",
           "#B6E880",
           "#FF97FF",
           "#FECB52"
          ],
          "font": {
           "color": "#2a3f5f"
          },
          "geo": {
           "bgcolor": "white",
           "lakecolor": "white",
           "landcolor": "white",
           "showlakes": true,
           "showland": true,
           "subunitcolor": "#C8D4E3"
          },
          "hoverlabel": {
           "align": "left"
          },
          "hovermode": "closest",
          "mapbox": {
           "style": "light"
          },
          "paper_bgcolor": "white",
          "plot_bgcolor": "white",
          "polar": {
           "angularaxis": {
            "gridcolor": "#EBF0F8",
            "linecolor": "#EBF0F8",
            "ticks": ""
           },
           "bgcolor": "white",
           "radialaxis": {
            "gridcolor": "#EBF0F8",
            "linecolor": "#EBF0F8",
            "ticks": ""
           }
          },
          "scene": {
           "xaxis": {
            "backgroundcolor": "white",
            "gridcolor": "#DFE8F3",
            "gridwidth": 2,
            "linecolor": "#EBF0F8",
            "showbackground": true,
            "ticks": "",
            "zerolinecolor": "#EBF0F8"
           },
           "yaxis": {
            "backgroundcolor": "white",
            "gridcolor": "#DFE8F3",
            "gridwidth": 2,
            "linecolor": "#EBF0F8",
            "showbackground": true,
            "ticks": "",
            "zerolinecolor": "#EBF0F8"
           },
           "zaxis": {
            "backgroundcolor": "white",
            "gridcolor": "#DFE8F3",
            "gridwidth": 2,
            "linecolor": "#EBF0F8",
            "showbackground": true,
            "ticks": "",
            "zerolinecolor": "#EBF0F8"
           }
          },
          "shapedefaults": {
           "line": {
            "color": "#2a3f5f"
           }
          },
          "ternary": {
           "aaxis": {
            "gridcolor": "#DFE8F3",
            "linecolor": "#A2B1C6",
            "ticks": ""
           },
           "baxis": {
            "gridcolor": "#DFE8F3",
            "linecolor": "#A2B1C6",
            "ticks": ""
           },
           "bgcolor": "white",
           "caxis": {
            "gridcolor": "#DFE8F3",
            "linecolor": "#A2B1C6",
            "ticks": ""
           }
          },
          "title": {
           "x": 0.05
          },
          "xaxis": {
           "automargin": true,
           "gridcolor": "#EBF0F8",
           "linecolor": "#EBF0F8",
           "ticks": "",
           "title": {
            "standoff": 15
           },
           "zerolinecolor": "#EBF0F8",
           "zerolinewidth": 2
          },
          "yaxis": {
           "automargin": true,
           "gridcolor": "#EBF0F8",
           "linecolor": "#EBF0F8",
           "ticks": "",
           "title": {
            "standoff": 15
           },
           "zerolinecolor": "#EBF0F8",
           "zerolinewidth": 2
          }
         }
        },
        "title": {
         "text": "Scree Plot - Variância Explicada pelo PCA"
        },
        "width": 800,
        "xaxis": {
         "title": {
          "text": "Número de Componentes"
         }
        },
        "yaxis": {
         "title": {
          "text": "Variância Explicada Acumulada"
         }
        }
       }
      }
     },
     "metadata": {},
     "output_type": "display_data"
    }
   ],
   "source": [
    "# Dados da variância explicada\n",
    "variancia_acumulada = np.cumsum(pca.explained_variance_ratio_)\n",
    "# Criando a figura\n",
    "fig = go.Figure()\n",
    "fig.add_trace(\n",
    "    go.Scatter(\n",
    "        x=list(range(1, len(variancia_acumulada) + 1)),\n",
    "        y=variancia_acumulada,\n",
    "        mode='lines+markers',\n",
    "        line=dict(dash='dash', width=2),\n",
    "        marker=dict(size=8, color='blue'),\n",
    "        name='Variância Acumulada'\n",
    "    )\n",
    ")\n",
    "fig.update_layout(\n",
    "    title='Scree Plot - Variância Explicada pelo PCA',\n",
    "    xaxis_title='Número de Componentes',\n",
    "    yaxis_title='Variância Explicada Acumulada',\n",
    "    template='plotly_white',\n",
    "    width=800,\n",
    "    height=500\n",
    ")\n",
    "fig.show()"
   ]
  },
  {
   "cell_type": "code",
   "execution_count": 30,
   "id": "46dff512",
   "metadata": {},
   "outputs": [
    {
     "name": "stdout",
     "output_type": "stream",
     "text": [
      "PC1: 0.1376 (0.1376 acumulado)\n",
      "PC2: 0.0901 (0.2277 acumulado)\n",
      "PC3: 0.0755 (0.3032 acumulado)\n",
      "PC4: 0.0613 (0.3645 acumulado)\n",
      "PC5: 0.0573 (0.4218 acumulado)\n",
      "PC6: 0.0536 (0.4755 acumulado)\n",
      "PC7: 0.0514 (0.5268 acumulado)\n",
      "PC8: 0.0490 (0.5759 acumulado)\n",
      "PC9: 0.0462 (0.6220 acumulado)\n",
      "PC10: 0.0445 (0.6666 acumulado)\n",
      "PC11: 0.0409 (0.7074 acumulado)\n",
      "PC12: 0.0392 (0.7466 acumulado)\n",
      "PC13: 0.0354 (0.7820 acumulado)\n",
      "PC14: 0.0344 (0.8164 acumulado)\n",
      "PC15: 0.0306 (0.8470 acumulado)\n",
      "PC16: 0.0286 (0.8755 acumulado)\n",
      "PC17: 0.0276 (0.9031 acumulado)\n",
      "PC18: 0.0230 (0.9261 acumulado)\n",
      "PC19: 0.0190 (0.9452 acumulado)\n",
      "PC20: 0.0150 (0.9601 acumulado)\n",
      "PC21: 0.0120 (0.9721 acumulado)\n",
      "PC22: 0.0112 (0.9833 acumulado)\n",
      "PC23: 0.0106 (0.9939 acumulado)\n",
      "PC24: 0.0061 (1.0000 acumulado)\n"
     ]
    }
   ],
   "source": [
    "# Visualizando a variância explicada por cada componente\n",
    "for i, var in enumerate(pca.explained_variance_ratio_):\n",
    "    print(f'PC{i+1}: {var:.4f} ({np.cumsum(pca.explained_variance_ratio_)[i]:.4f} acumulado)')"
   ]
  },
  {
   "cell_type": "markdown",
   "id": "0a8bdc7b",
   "metadata": {},
   "source": [
    "Optamos por utilizar 17 componentes principais, que preservam 90,31% da variância total do dataset, garantindo um equilíbrio entre simplificação dos dados e manutenção da informação. Esse valor foi determinado com base na análise do scree plot e da distribuição acumulada de variância, que mostra ausência de cotovelo claro, característico de dados categóricos. Essa estratégia permite acelerar o processamento, melhorar a performance do modelo e ainda manter robustez analítica."
   ]
  },
  {
   "cell_type": "markdown",
   "id": "3d29b032",
   "metadata": {},
   "source": [
    "### Definindo o Valor de K em Modelos de Clusterização\n",
    "\n",
    "O algoritmo KMeans é uma técnica de agrupamento de dados que organiza um conjunto de pontos em grupos (ou \"clusters\") com base em suas semelhanças. Imagine que você tem vários pontos espalhados em um espaço e quer agrupá-los em conjuntos que sejam semelhantes entre si. A escolha do valor adequado de k é uma etapa importante do trabalho que estamos fazendo, pois pode afetar significativamente a utilidade dos clusters formados, para isso utlizaremos o Elbow Method (Método do Cotovelo) e o Silhouette Score para auxiliar a definir um bom valor para k."
   ]
  },
  {
   "cell_type": "markdown",
   "id": "a3ac3f29",
   "metadata": {},
   "source": [
    "**Definindo o valor ideal de K**"
   ]
  },
  {
   "cell_type": "code",
   "execution_count": 31,
   "id": "6e74a25e",
   "metadata": {},
   "outputs": [],
   "source": [
    "# Gerando Dataset com 17 componentes principais\n",
    "pca = PCA(n_components=17)\n",
    "df_pca = pca.fit_transform(df_gf_ohe)"
   ]
  },
  {
   "cell_type": "code",
   "execution_count": 32,
   "id": "47584f4e",
   "metadata": {},
   "outputs": [
    {
     "data": {
      "application/vnd.plotly.v1+json": {
       "config": {
        "plotlyServerURL": "https://plot.ly"
       },
       "data": [
        {
         "line": {
          "width": 2
         },
         "marker": {
          "color": "blue",
          "size": 8
         },
         "mode": "lines+markers",
         "name": "Inertia",
         "type": "scatter",
         "x": [
          1,
          2,
          3,
          4,
          5,
          6,
          7,
          8,
          9,
          10
         ],
         "y": [
          1673.6667930380645,
          1478.8961527795857,
          1375.2032088479555,
          1292.4191442086692,
          1237.170901883797,
          1192.423458903025,
          1149.003123298292,
          1112.724969638827,
          1085.002753510032,
          1057.190294458451
         ]
        }
       ],
       "layout": {
        "height": 500,
        "template": {
         "data": {
          "bar": [
           {
            "error_x": {
             "color": "#2a3f5f"
            },
            "error_y": {
             "color": "#2a3f5f"
            },
            "marker": {
             "line": {
              "color": "white",
              "width": 0.5
             },
             "pattern": {
              "fillmode": "overlay",
              "size": 10,
              "solidity": 0.2
             }
            },
            "type": "bar"
           }
          ],
          "barpolar": [
           {
            "marker": {
             "line": {
              "color": "white",
              "width": 0.5
             },
             "pattern": {
              "fillmode": "overlay",
              "size": 10,
              "solidity": 0.2
             }
            },
            "type": "barpolar"
           }
          ],
          "carpet": [
           {
            "aaxis": {
             "endlinecolor": "#2a3f5f",
             "gridcolor": "#C8D4E3",
             "linecolor": "#C8D4E3",
             "minorgridcolor": "#C8D4E3",
             "startlinecolor": "#2a3f5f"
            },
            "baxis": {
             "endlinecolor": "#2a3f5f",
             "gridcolor": "#C8D4E3",
             "linecolor": "#C8D4E3",
             "minorgridcolor": "#C8D4E3",
             "startlinecolor": "#2a3f5f"
            },
            "type": "carpet"
           }
          ],
          "choropleth": [
           {
            "colorbar": {
             "outlinewidth": 0,
             "ticks": ""
            },
            "type": "choropleth"
           }
          ],
          "contour": [
           {
            "colorbar": {
             "outlinewidth": 0,
             "ticks": ""
            },
            "colorscale": [
             [
              0,
              "#0d0887"
             ],
             [
              0.1111111111111111,
              "#46039f"
             ],
             [
              0.2222222222222222,
              "#7201a8"
             ],
             [
              0.3333333333333333,
              "#9c179e"
             ],
             [
              0.4444444444444444,
              "#bd3786"
             ],
             [
              0.5555555555555556,
              "#d8576b"
             ],
             [
              0.6666666666666666,
              "#ed7953"
             ],
             [
              0.7777777777777778,
              "#fb9f3a"
             ],
             [
              0.8888888888888888,
              "#fdca26"
             ],
             [
              1,
              "#f0f921"
             ]
            ],
            "type": "contour"
           }
          ],
          "contourcarpet": [
           {
            "colorbar": {
             "outlinewidth": 0,
             "ticks": ""
            },
            "type": "contourcarpet"
           }
          ],
          "heatmap": [
           {
            "colorbar": {
             "outlinewidth": 0,
             "ticks": ""
            },
            "colorscale": [
             [
              0,
              "#0d0887"
             ],
             [
              0.1111111111111111,
              "#46039f"
             ],
             [
              0.2222222222222222,
              "#7201a8"
             ],
             [
              0.3333333333333333,
              "#9c179e"
             ],
             [
              0.4444444444444444,
              "#bd3786"
             ],
             [
              0.5555555555555556,
              "#d8576b"
             ],
             [
              0.6666666666666666,
              "#ed7953"
             ],
             [
              0.7777777777777778,
              "#fb9f3a"
             ],
             [
              0.8888888888888888,
              "#fdca26"
             ],
             [
              1,
              "#f0f921"
             ]
            ],
            "type": "heatmap"
           }
          ],
          "heatmapgl": [
           {
            "colorbar": {
             "outlinewidth": 0,
             "ticks": ""
            },
            "colorscale": [
             [
              0,
              "#0d0887"
             ],
             [
              0.1111111111111111,
              "#46039f"
             ],
             [
              0.2222222222222222,
              "#7201a8"
             ],
             [
              0.3333333333333333,
              "#9c179e"
             ],
             [
              0.4444444444444444,
              "#bd3786"
             ],
             [
              0.5555555555555556,
              "#d8576b"
             ],
             [
              0.6666666666666666,
              "#ed7953"
             ],
             [
              0.7777777777777778,
              "#fb9f3a"
             ],
             [
              0.8888888888888888,
              "#fdca26"
             ],
             [
              1,
              "#f0f921"
             ]
            ],
            "type": "heatmapgl"
           }
          ],
          "histogram": [
           {
            "marker": {
             "pattern": {
              "fillmode": "overlay",
              "size": 10,
              "solidity": 0.2
             }
            },
            "type": "histogram"
           }
          ],
          "histogram2d": [
           {
            "colorbar": {
             "outlinewidth": 0,
             "ticks": ""
            },
            "colorscale": [
             [
              0,
              "#0d0887"
             ],
             [
              0.1111111111111111,
              "#46039f"
             ],
             [
              0.2222222222222222,
              "#7201a8"
             ],
             [
              0.3333333333333333,
              "#9c179e"
             ],
             [
              0.4444444444444444,
              "#bd3786"
             ],
             [
              0.5555555555555556,
              "#d8576b"
             ],
             [
              0.6666666666666666,
              "#ed7953"
             ],
             [
              0.7777777777777778,
              "#fb9f3a"
             ],
             [
              0.8888888888888888,
              "#fdca26"
             ],
             [
              1,
              "#f0f921"
             ]
            ],
            "type": "histogram2d"
           }
          ],
          "histogram2dcontour": [
           {
            "colorbar": {
             "outlinewidth": 0,
             "ticks": ""
            },
            "colorscale": [
             [
              0,
              "#0d0887"
             ],
             [
              0.1111111111111111,
              "#46039f"
             ],
             [
              0.2222222222222222,
              "#7201a8"
             ],
             [
              0.3333333333333333,
              "#9c179e"
             ],
             [
              0.4444444444444444,
              "#bd3786"
             ],
             [
              0.5555555555555556,
              "#d8576b"
             ],
             [
              0.6666666666666666,
              "#ed7953"
             ],
             [
              0.7777777777777778,
              "#fb9f3a"
             ],
             [
              0.8888888888888888,
              "#fdca26"
             ],
             [
              1,
              "#f0f921"
             ]
            ],
            "type": "histogram2dcontour"
           }
          ],
          "mesh3d": [
           {
            "colorbar": {
             "outlinewidth": 0,
             "ticks": ""
            },
            "type": "mesh3d"
           }
          ],
          "parcoords": [
           {
            "line": {
             "colorbar": {
              "outlinewidth": 0,
              "ticks": ""
             }
            },
            "type": "parcoords"
           }
          ],
          "pie": [
           {
            "automargin": true,
            "type": "pie"
           }
          ],
          "scatter": [
           {
            "fillpattern": {
             "fillmode": "overlay",
             "size": 10,
             "solidity": 0.2
            },
            "type": "scatter"
           }
          ],
          "scatter3d": [
           {
            "line": {
             "colorbar": {
              "outlinewidth": 0,
              "ticks": ""
             }
            },
            "marker": {
             "colorbar": {
              "outlinewidth": 0,
              "ticks": ""
             }
            },
            "type": "scatter3d"
           }
          ],
          "scattercarpet": [
           {
            "marker": {
             "colorbar": {
              "outlinewidth": 0,
              "ticks": ""
             }
            },
            "type": "scattercarpet"
           }
          ],
          "scattergeo": [
           {
            "marker": {
             "colorbar": {
              "outlinewidth": 0,
              "ticks": ""
             }
            },
            "type": "scattergeo"
           }
          ],
          "scattergl": [
           {
            "marker": {
             "colorbar": {
              "outlinewidth": 0,
              "ticks": ""
             }
            },
            "type": "scattergl"
           }
          ],
          "scattermapbox": [
           {
            "marker": {
             "colorbar": {
              "outlinewidth": 0,
              "ticks": ""
             }
            },
            "type": "scattermapbox"
           }
          ],
          "scatterpolar": [
           {
            "marker": {
             "colorbar": {
              "outlinewidth": 0,
              "ticks": ""
             }
            },
            "type": "scatterpolar"
           }
          ],
          "scatterpolargl": [
           {
            "marker": {
             "colorbar": {
              "outlinewidth": 0,
              "ticks": ""
             }
            },
            "type": "scatterpolargl"
           }
          ],
          "scatterternary": [
           {
            "marker": {
             "colorbar": {
              "outlinewidth": 0,
              "ticks": ""
             }
            },
            "type": "scatterternary"
           }
          ],
          "surface": [
           {
            "colorbar": {
             "outlinewidth": 0,
             "ticks": ""
            },
            "colorscale": [
             [
              0,
              "#0d0887"
             ],
             [
              0.1111111111111111,
              "#46039f"
             ],
             [
              0.2222222222222222,
              "#7201a8"
             ],
             [
              0.3333333333333333,
              "#9c179e"
             ],
             [
              0.4444444444444444,
              "#bd3786"
             ],
             [
              0.5555555555555556,
              "#d8576b"
             ],
             [
              0.6666666666666666,
              "#ed7953"
             ],
             [
              0.7777777777777778,
              "#fb9f3a"
             ],
             [
              0.8888888888888888,
              "#fdca26"
             ],
             [
              1,
              "#f0f921"
             ]
            ],
            "type": "surface"
           }
          ],
          "table": [
           {
            "cells": {
             "fill": {
              "color": "#EBF0F8"
             },
             "line": {
              "color": "white"
             }
            },
            "header": {
             "fill": {
              "color": "#C8D4E3"
             },
             "line": {
              "color": "white"
             }
            },
            "type": "table"
           }
          ]
         },
         "layout": {
          "annotationdefaults": {
           "arrowcolor": "#2a3f5f",
           "arrowhead": 0,
           "arrowwidth": 1
          },
          "autotypenumbers": "strict",
          "coloraxis": {
           "colorbar": {
            "outlinewidth": 0,
            "ticks": ""
           }
          },
          "colorscale": {
           "diverging": [
            [
             0,
             "#8e0152"
            ],
            [
             0.1,
             "#c51b7d"
            ],
            [
             0.2,
             "#de77ae"
            ],
            [
             0.3,
             "#f1b6da"
            ],
            [
             0.4,
             "#fde0ef"
            ],
            [
             0.5,
             "#f7f7f7"
            ],
            [
             0.6,
             "#e6f5d0"
            ],
            [
             0.7,
             "#b8e186"
            ],
            [
             0.8,
             "#7fbc41"
            ],
            [
             0.9,
             "#4d9221"
            ],
            [
             1,
             "#276419"
            ]
           ],
           "sequential": [
            [
             0,
             "#0d0887"
            ],
            [
             0.1111111111111111,
             "#46039f"
            ],
            [
             0.2222222222222222,
             "#7201a8"
            ],
            [
             0.3333333333333333,
             "#9c179e"
            ],
            [
             0.4444444444444444,
             "#bd3786"
            ],
            [
             0.5555555555555556,
             "#d8576b"
            ],
            [
             0.6666666666666666,
             "#ed7953"
            ],
            [
             0.7777777777777778,
             "#fb9f3a"
            ],
            [
             0.8888888888888888,
             "#fdca26"
            ],
            [
             1,
             "#f0f921"
            ]
           ],
           "sequentialminus": [
            [
             0,
             "#0d0887"
            ],
            [
             0.1111111111111111,
             "#46039f"
            ],
            [
             0.2222222222222222,
             "#7201a8"
            ],
            [
             0.3333333333333333,
             "#9c179e"
            ],
            [
             0.4444444444444444,
             "#bd3786"
            ],
            [
             0.5555555555555556,
             "#d8576b"
            ],
            [
             0.6666666666666666,
             "#ed7953"
            ],
            [
             0.7777777777777778,
             "#fb9f3a"
            ],
            [
             0.8888888888888888,
             "#fdca26"
            ],
            [
             1,
             "#f0f921"
            ]
           ]
          },
          "colorway": [
           "#636efa",
           "#EF553B",
           "#00cc96",
           "#ab63fa",
           "#FFA15A",
           "#19d3f3",
           "#FF6692",
           "#B6E880",
           "#FF97FF",
           "#FECB52"
          ],
          "font": {
           "color": "#2a3f5f"
          },
          "geo": {
           "bgcolor": "white",
           "lakecolor": "white",
           "landcolor": "white",
           "showlakes": true,
           "showland": true,
           "subunitcolor": "#C8D4E3"
          },
          "hoverlabel": {
           "align": "left"
          },
          "hovermode": "closest",
          "mapbox": {
           "style": "light"
          },
          "paper_bgcolor": "white",
          "plot_bgcolor": "white",
          "polar": {
           "angularaxis": {
            "gridcolor": "#EBF0F8",
            "linecolor": "#EBF0F8",
            "ticks": ""
           },
           "bgcolor": "white",
           "radialaxis": {
            "gridcolor": "#EBF0F8",
            "linecolor": "#EBF0F8",
            "ticks": ""
           }
          },
          "scene": {
           "xaxis": {
            "backgroundcolor": "white",
            "gridcolor": "#DFE8F3",
            "gridwidth": 2,
            "linecolor": "#EBF0F8",
            "showbackground": true,
            "ticks": "",
            "zerolinecolor": "#EBF0F8"
           },
           "yaxis": {
            "backgroundcolor": "white",
            "gridcolor": "#DFE8F3",
            "gridwidth": 2,
            "linecolor": "#EBF0F8",
            "showbackground": true,
            "ticks": "",
            "zerolinecolor": "#EBF0F8"
           },
           "zaxis": {
            "backgroundcolor": "white",
            "gridcolor": "#DFE8F3",
            "gridwidth": 2,
            "linecolor": "#EBF0F8",
            "showbackground": true,
            "ticks": "",
            "zerolinecolor": "#EBF0F8"
           }
          },
          "shapedefaults": {
           "line": {
            "color": "#2a3f5f"
           }
          },
          "ternary": {
           "aaxis": {
            "gridcolor": "#DFE8F3",
            "linecolor": "#A2B1C6",
            "ticks": ""
           },
           "baxis": {
            "gridcolor": "#DFE8F3",
            "linecolor": "#A2B1C6",
            "ticks": ""
           },
           "bgcolor": "white",
           "caxis": {
            "gridcolor": "#DFE8F3",
            "linecolor": "#A2B1C6",
            "ticks": ""
           }
          },
          "title": {
           "x": 0.05
          },
          "xaxis": {
           "automargin": true,
           "gridcolor": "#EBF0F8",
           "linecolor": "#EBF0F8",
           "ticks": "",
           "title": {
            "standoff": 15
           },
           "zerolinecolor": "#EBF0F8",
           "zerolinewidth": 2
          },
          "yaxis": {
           "automargin": true,
           "gridcolor": "#EBF0F8",
           "linecolor": "#EBF0F8",
           "ticks": "",
           "title": {
            "standoff": 15
           },
           "zerolinecolor": "#EBF0F8",
           "zerolinewidth": 2
          }
         }
        },
        "title": {
         "text": "Método do Cotovelo"
        },
        "width": 800,
        "xaxis": {
         "title": {
          "text": "Número de Clusters (K)"
         }
        },
        "yaxis": {
         "title": {
          "text": "Inertia"
         }
        }
       }
      }
     },
     "metadata": {},
     "output_type": "display_data"
    }
   ],
   "source": [
    "# Método do Cotovelo\n",
    "inertia = []\n",
    "K_range = range(1, 11)\n",
    "for k in K_range:\n",
    "    kmeans = KMeans(n_clusters=k, random_state=42)\n",
    "    kmeans.fit(df_pca)\n",
    "    inertia.append(kmeans.inertia_)\n",
    "# Plot do Elbow\n",
    "fig = go.Figure()\n",
    "fig.add_trace(\n",
    "    go.Scatter(\n",
    "        x=list(K_range),  # Convertendo range para lista\n",
    "        y=inertia,\n",
    "        mode='lines+markers',\n",
    "        marker=dict(size=8, color='blue'),\n",
    "        line=dict(width=2),\n",
    "        name='Inertia'\n",
    "    )\n",
    ")\n",
    "fig.update_layout(\n",
    "    title='Método do Cotovelo',\n",
    "    xaxis_title='Número de Clusters (K)',\n",
    "    yaxis_title='Inertia',\n",
    "    template='plotly_white',\n",
    "    width=800,\n",
    "    height=500\n",
    ")\n",
    "fig.show()"
   ]
  },
  {
   "cell_type": "markdown",
   "id": "5a7f65ee",
   "metadata": {},
   "source": [
    "Interpretação: avalia a soma das distâncias quadráticas internas aos clusters (Soma dos Erros Quadrados - SSE) em função de diferentes valores de **k**. À medida que **k** aumenta, o erro diminui, pois os clusters ficam menores e mais específicos. No gráfico de **SSE vs. k**, busca-se o ponto onde há uma \"quebra\" ou \"dobra\" (um cotovelo). Esse ponto indica que aumentar **k** além dali traz ganhos marginais na redução do erro, sinalizando o número ótimo de clusters.\n",
    "\n",
    "Conseguimos ver onde a curva forma um cotovelo entre os valores 2 e 3, sendo o valor k=2 um pouco mais acentuado em sua curvatura sugerindo o melhor valor de K, porém não fica muito distinto para k=3"
   ]
  },
  {
   "cell_type": "code",
   "execution_count": 33,
   "id": "f7edee91",
   "metadata": {},
   "outputs": [
    {
     "data": {
      "application/vnd.plotly.v1+json": {
       "config": {
        "plotlyServerURL": "https://plot.ly"
       },
       "data": [
        {
         "line": {
          "color": "blue",
          "width": 2
         },
         "marker": {
          "color": "blue",
          "size": 8,
          "symbol": "circle"
         },
         "mode": "lines+markers",
         "name": "Silhouette Score",
         "type": "scatter",
         "x": [
          2,
          3,
          4,
          5,
          6,
          7,
          8,
          9,
          10
         ],
         "y": [
          0.11988114338535223,
          0.12394148922394936,
          0.10173505078379898,
          0.0961344356611015,
          0.10226297238729282,
          0.1044342980158682,
          0.09393340196500537,
          0.10938429847053832,
          0.10230675358450549
         ]
        }
       ],
       "layout": {
        "height": 500,
        "template": {
         "data": {
          "bar": [
           {
            "error_x": {
             "color": "#2a3f5f"
            },
            "error_y": {
             "color": "#2a3f5f"
            },
            "marker": {
             "line": {
              "color": "white",
              "width": 0.5
             },
             "pattern": {
              "fillmode": "overlay",
              "size": 10,
              "solidity": 0.2
             }
            },
            "type": "bar"
           }
          ],
          "barpolar": [
           {
            "marker": {
             "line": {
              "color": "white",
              "width": 0.5
             },
             "pattern": {
              "fillmode": "overlay",
              "size": 10,
              "solidity": 0.2
             }
            },
            "type": "barpolar"
           }
          ],
          "carpet": [
           {
            "aaxis": {
             "endlinecolor": "#2a3f5f",
             "gridcolor": "#C8D4E3",
             "linecolor": "#C8D4E3",
             "minorgridcolor": "#C8D4E3",
             "startlinecolor": "#2a3f5f"
            },
            "baxis": {
             "endlinecolor": "#2a3f5f",
             "gridcolor": "#C8D4E3",
             "linecolor": "#C8D4E3",
             "minorgridcolor": "#C8D4E3",
             "startlinecolor": "#2a3f5f"
            },
            "type": "carpet"
           }
          ],
          "choropleth": [
           {
            "colorbar": {
             "outlinewidth": 0,
             "ticks": ""
            },
            "type": "choropleth"
           }
          ],
          "contour": [
           {
            "colorbar": {
             "outlinewidth": 0,
             "ticks": ""
            },
            "colorscale": [
             [
              0,
              "#0d0887"
             ],
             [
              0.1111111111111111,
              "#46039f"
             ],
             [
              0.2222222222222222,
              "#7201a8"
             ],
             [
              0.3333333333333333,
              "#9c179e"
             ],
             [
              0.4444444444444444,
              "#bd3786"
             ],
             [
              0.5555555555555556,
              "#d8576b"
             ],
             [
              0.6666666666666666,
              "#ed7953"
             ],
             [
              0.7777777777777778,
              "#fb9f3a"
             ],
             [
              0.8888888888888888,
              "#fdca26"
             ],
             [
              1,
              "#f0f921"
             ]
            ],
            "type": "contour"
           }
          ],
          "contourcarpet": [
           {
            "colorbar": {
             "outlinewidth": 0,
             "ticks": ""
            },
            "type": "contourcarpet"
           }
          ],
          "heatmap": [
           {
            "colorbar": {
             "outlinewidth": 0,
             "ticks": ""
            },
            "colorscale": [
             [
              0,
              "#0d0887"
             ],
             [
              0.1111111111111111,
              "#46039f"
             ],
             [
              0.2222222222222222,
              "#7201a8"
             ],
             [
              0.3333333333333333,
              "#9c179e"
             ],
             [
              0.4444444444444444,
              "#bd3786"
             ],
             [
              0.5555555555555556,
              "#d8576b"
             ],
             [
              0.6666666666666666,
              "#ed7953"
             ],
             [
              0.7777777777777778,
              "#fb9f3a"
             ],
             [
              0.8888888888888888,
              "#fdca26"
             ],
             [
              1,
              "#f0f921"
             ]
            ],
            "type": "heatmap"
           }
          ],
          "heatmapgl": [
           {
            "colorbar": {
             "outlinewidth": 0,
             "ticks": ""
            },
            "colorscale": [
             [
              0,
              "#0d0887"
             ],
             [
              0.1111111111111111,
              "#46039f"
             ],
             [
              0.2222222222222222,
              "#7201a8"
             ],
             [
              0.3333333333333333,
              "#9c179e"
             ],
             [
              0.4444444444444444,
              "#bd3786"
             ],
             [
              0.5555555555555556,
              "#d8576b"
             ],
             [
              0.6666666666666666,
              "#ed7953"
             ],
             [
              0.7777777777777778,
              "#fb9f3a"
             ],
             [
              0.8888888888888888,
              "#fdca26"
             ],
             [
              1,
              "#f0f921"
             ]
            ],
            "type": "heatmapgl"
           }
          ],
          "histogram": [
           {
            "marker": {
             "pattern": {
              "fillmode": "overlay",
              "size": 10,
              "solidity": 0.2
             }
            },
            "type": "histogram"
           }
          ],
          "histogram2d": [
           {
            "colorbar": {
             "outlinewidth": 0,
             "ticks": ""
            },
            "colorscale": [
             [
              0,
              "#0d0887"
             ],
             [
              0.1111111111111111,
              "#46039f"
             ],
             [
              0.2222222222222222,
              "#7201a8"
             ],
             [
              0.3333333333333333,
              "#9c179e"
             ],
             [
              0.4444444444444444,
              "#bd3786"
             ],
             [
              0.5555555555555556,
              "#d8576b"
             ],
             [
              0.6666666666666666,
              "#ed7953"
             ],
             [
              0.7777777777777778,
              "#fb9f3a"
             ],
             [
              0.8888888888888888,
              "#fdca26"
             ],
             [
              1,
              "#f0f921"
             ]
            ],
            "type": "histogram2d"
           }
          ],
          "histogram2dcontour": [
           {
            "colorbar": {
             "outlinewidth": 0,
             "ticks": ""
            },
            "colorscale": [
             [
              0,
              "#0d0887"
             ],
             [
              0.1111111111111111,
              "#46039f"
             ],
             [
              0.2222222222222222,
              "#7201a8"
             ],
             [
              0.3333333333333333,
              "#9c179e"
             ],
             [
              0.4444444444444444,
              "#bd3786"
             ],
             [
              0.5555555555555556,
              "#d8576b"
             ],
             [
              0.6666666666666666,
              "#ed7953"
             ],
             [
              0.7777777777777778,
              "#fb9f3a"
             ],
             [
              0.8888888888888888,
              "#fdca26"
             ],
             [
              1,
              "#f0f921"
             ]
            ],
            "type": "histogram2dcontour"
           }
          ],
          "mesh3d": [
           {
            "colorbar": {
             "outlinewidth": 0,
             "ticks": ""
            },
            "type": "mesh3d"
           }
          ],
          "parcoords": [
           {
            "line": {
             "colorbar": {
              "outlinewidth": 0,
              "ticks": ""
             }
            },
            "type": "parcoords"
           }
          ],
          "pie": [
           {
            "automargin": true,
            "type": "pie"
           }
          ],
          "scatter": [
           {
            "fillpattern": {
             "fillmode": "overlay",
             "size": 10,
             "solidity": 0.2
            },
            "type": "scatter"
           }
          ],
          "scatter3d": [
           {
            "line": {
             "colorbar": {
              "outlinewidth": 0,
              "ticks": ""
             }
            },
            "marker": {
             "colorbar": {
              "outlinewidth": 0,
              "ticks": ""
             }
            },
            "type": "scatter3d"
           }
          ],
          "scattercarpet": [
           {
            "marker": {
             "colorbar": {
              "outlinewidth": 0,
              "ticks": ""
             }
            },
            "type": "scattercarpet"
           }
          ],
          "scattergeo": [
           {
            "marker": {
             "colorbar": {
              "outlinewidth": 0,
              "ticks": ""
             }
            },
            "type": "scattergeo"
           }
          ],
          "scattergl": [
           {
            "marker": {
             "colorbar": {
              "outlinewidth": 0,
              "ticks": ""
             }
            },
            "type": "scattergl"
           }
          ],
          "scattermapbox": [
           {
            "marker": {
             "colorbar": {
              "outlinewidth": 0,
              "ticks": ""
             }
            },
            "type": "scattermapbox"
           }
          ],
          "scatterpolar": [
           {
            "marker": {
             "colorbar": {
              "outlinewidth": 0,
              "ticks": ""
             }
            },
            "type": "scatterpolar"
           }
          ],
          "scatterpolargl": [
           {
            "marker": {
             "colorbar": {
              "outlinewidth": 0,
              "ticks": ""
             }
            },
            "type": "scatterpolargl"
           }
          ],
          "scatterternary": [
           {
            "marker": {
             "colorbar": {
              "outlinewidth": 0,
              "ticks": ""
             }
            },
            "type": "scatterternary"
           }
          ],
          "surface": [
           {
            "colorbar": {
             "outlinewidth": 0,
             "ticks": ""
            },
            "colorscale": [
             [
              0,
              "#0d0887"
             ],
             [
              0.1111111111111111,
              "#46039f"
             ],
             [
              0.2222222222222222,
              "#7201a8"
             ],
             [
              0.3333333333333333,
              "#9c179e"
             ],
             [
              0.4444444444444444,
              "#bd3786"
             ],
             [
              0.5555555555555556,
              "#d8576b"
             ],
             [
              0.6666666666666666,
              "#ed7953"
             ],
             [
              0.7777777777777778,
              "#fb9f3a"
             ],
             [
              0.8888888888888888,
              "#fdca26"
             ],
             [
              1,
              "#f0f921"
             ]
            ],
            "type": "surface"
           }
          ],
          "table": [
           {
            "cells": {
             "fill": {
              "color": "#EBF0F8"
             },
             "line": {
              "color": "white"
             }
            },
            "header": {
             "fill": {
              "color": "#C8D4E3"
             },
             "line": {
              "color": "white"
             }
            },
            "type": "table"
           }
          ]
         },
         "layout": {
          "annotationdefaults": {
           "arrowcolor": "#2a3f5f",
           "arrowhead": 0,
           "arrowwidth": 1
          },
          "autotypenumbers": "strict",
          "coloraxis": {
           "colorbar": {
            "outlinewidth": 0,
            "ticks": ""
           }
          },
          "colorscale": {
           "diverging": [
            [
             0,
             "#8e0152"
            ],
            [
             0.1,
             "#c51b7d"
            ],
            [
             0.2,
             "#de77ae"
            ],
            [
             0.3,
             "#f1b6da"
            ],
            [
             0.4,
             "#fde0ef"
            ],
            [
             0.5,
             "#f7f7f7"
            ],
            [
             0.6,
             "#e6f5d0"
            ],
            [
             0.7,
             "#b8e186"
            ],
            [
             0.8,
             "#7fbc41"
            ],
            [
             0.9,
             "#4d9221"
            ],
            [
             1,
             "#276419"
            ]
           ],
           "sequential": [
            [
             0,
             "#0d0887"
            ],
            [
             0.1111111111111111,
             "#46039f"
            ],
            [
             0.2222222222222222,
             "#7201a8"
            ],
            [
             0.3333333333333333,
             "#9c179e"
            ],
            [
             0.4444444444444444,
             "#bd3786"
            ],
            [
             0.5555555555555556,
             "#d8576b"
            ],
            [
             0.6666666666666666,
             "#ed7953"
            ],
            [
             0.7777777777777778,
             "#fb9f3a"
            ],
            [
             0.8888888888888888,
             "#fdca26"
            ],
            [
             1,
             "#f0f921"
            ]
           ],
           "sequentialminus": [
            [
             0,
             "#0d0887"
            ],
            [
             0.1111111111111111,
             "#46039f"
            ],
            [
             0.2222222222222222,
             "#7201a8"
            ],
            [
             0.3333333333333333,
             "#9c179e"
            ],
            [
             0.4444444444444444,
             "#bd3786"
            ],
            [
             0.5555555555555556,
             "#d8576b"
            ],
            [
             0.6666666666666666,
             "#ed7953"
            ],
            [
             0.7777777777777778,
             "#fb9f3a"
            ],
            [
             0.8888888888888888,
             "#fdca26"
            ],
            [
             1,
             "#f0f921"
            ]
           ]
          },
          "colorway": [
           "#636efa",
           "#EF553B",
           "#00cc96",
           "#ab63fa",
           "#FFA15A",
           "#19d3f3",
           "#FF6692",
           "#B6E880",
           "#FF97FF",
           "#FECB52"
          ],
          "font": {
           "color": "#2a3f5f"
          },
          "geo": {
           "bgcolor": "white",
           "lakecolor": "white",
           "landcolor": "white",
           "showlakes": true,
           "showland": true,
           "subunitcolor": "#C8D4E3"
          },
          "hoverlabel": {
           "align": "left"
          },
          "hovermode": "closest",
          "mapbox": {
           "style": "light"
          },
          "paper_bgcolor": "white",
          "plot_bgcolor": "white",
          "polar": {
           "angularaxis": {
            "gridcolor": "#EBF0F8",
            "linecolor": "#EBF0F8",
            "ticks": ""
           },
           "bgcolor": "white",
           "radialaxis": {
            "gridcolor": "#EBF0F8",
            "linecolor": "#EBF0F8",
            "ticks": ""
           }
          },
          "scene": {
           "xaxis": {
            "backgroundcolor": "white",
            "gridcolor": "#DFE8F3",
            "gridwidth": 2,
            "linecolor": "#EBF0F8",
            "showbackground": true,
            "ticks": "",
            "zerolinecolor": "#EBF0F8"
           },
           "yaxis": {
            "backgroundcolor": "white",
            "gridcolor": "#DFE8F3",
            "gridwidth": 2,
            "linecolor": "#EBF0F8",
            "showbackground": true,
            "ticks": "",
            "zerolinecolor": "#EBF0F8"
           },
           "zaxis": {
            "backgroundcolor": "white",
            "gridcolor": "#DFE8F3",
            "gridwidth": 2,
            "linecolor": "#EBF0F8",
            "showbackground": true,
            "ticks": "",
            "zerolinecolor": "#EBF0F8"
           }
          },
          "shapedefaults": {
           "line": {
            "color": "#2a3f5f"
           }
          },
          "ternary": {
           "aaxis": {
            "gridcolor": "#DFE8F3",
            "linecolor": "#A2B1C6",
            "ticks": ""
           },
           "baxis": {
            "gridcolor": "#DFE8F3",
            "linecolor": "#A2B1C6",
            "ticks": ""
           },
           "bgcolor": "white",
           "caxis": {
            "gridcolor": "#DFE8F3",
            "linecolor": "#A2B1C6",
            "ticks": ""
           }
          },
          "title": {
           "x": 0.05
          },
          "xaxis": {
           "automargin": true,
           "gridcolor": "#EBF0F8",
           "linecolor": "#EBF0F8",
           "ticks": "",
           "title": {
            "standoff": 15
           },
           "zerolinecolor": "#EBF0F8",
           "zerolinewidth": 2
          },
          "yaxis": {
           "automargin": true,
           "gridcolor": "#EBF0F8",
           "linecolor": "#EBF0F8",
           "ticks": "",
           "title": {
            "standoff": 15
           },
           "zerolinecolor": "#EBF0F8",
           "zerolinewidth": 2
          }
         }
        },
        "title": {
         "text": "Análise do Índice de Silhouette"
        },
        "width": 800,
        "xaxis": {
         "title": {
          "text": "Número de Clusters (K)"
         }
        },
        "yaxis": {
         "title": {
          "text": "Silhouette Score"
         }
        }
       }
      }
     },
     "metadata": {},
     "output_type": "display_data"
    }
   ],
   "source": [
    "# Análise do Índice de Silhouette\n",
    "silhouette_scores = []\n",
    "K_range_sil = range(2, 11)\n",
    "for k in K_range_sil:\n",
    "    kmeans = KMeans(n_clusters=k, random_state=42)\n",
    "    labels = kmeans.fit_predict(df_pca)\n",
    "    score = silhouette_score(df_pca, labels)\n",
    "    silhouette_scores.append(score)\n",
    "# Agora, o código Plotly para o gráfico do Índice de Silhouette:\n",
    "fig_silhouette = go.Figure()\n",
    "fig_silhouette.add_trace(\n",
    "    go.Scatter(\n",
    "        x=list(K_range_sil),\n",
    "        y=silhouette_scores,\n",
    "        mode='lines+markers',\n",
    "        marker=dict(\n",
    "            size=8,\n",
    "            color='blue',\n",
    "            symbol='circle'\n",
    "        ),\n",
    "        line=dict(\n",
    "            width=2,\n",
    "            color='blue'\n",
    "        ),\n",
    "        name='Silhouette Score'\n",
    "    )\n",
    ")\n",
    "\n",
    "fig_silhouette.update_layout(\n",
    "    title='Análise do Índice de Silhouette',\n",
    "    xaxis_title='Número de Clusters (K)',\n",
    "    yaxis_title='Silhouette Score',\n",
    "    template='plotly_white',\n",
    "    width=800,\n",
    "    height=500\n",
    ")\n",
    "\n",
    "fig_silhouette.show()"
   ]
  },
  {
   "cell_type": "code",
   "execution_count": 34,
   "id": "d21d9f19",
   "metadata": {
    "scrolled": true
   },
   "outputs": [
    {
     "name": "stdout",
     "output_type": "stream",
     "text": [
      "K=2: Silhouette Score=0.1199\n",
      "K=3: Silhouette Score=0.1239\n",
      "K=4: Silhouette Score=0.1017\n",
      "K=5: Silhouette Score=0.0961\n",
      "K=6: Silhouette Score=0.1023\n",
      "K=7: Silhouette Score=0.1044\n",
      "K=8: Silhouette Score=0.0939\n",
      "K=9: Silhouette Score=0.1094\n",
      "K=10: Silhouette Score=0.1023\n"
     ]
    }
   ],
   "source": [
    "# Verificando os valores de silhouette\n",
    "for k, score in zip(K_range_sil, silhouette_scores):\n",
    "    print(f\"K={k}: Silhouette Score={score:.4f}\")"
   ]
  },
  {
   "cell_type": "markdown",
   "id": "0e7b282d",
   "metadata": {},
   "source": [
    "Interpretação: Os valoresm medem a qualidade dos clusters calculando o quão semelhante um ponto é ao seu próprio cluster em comparação com outros clusters. O valor varia entre **-1** (má agrupamento) e **1** (ótimo agrupamento).Aqui consiguimos visualizar  o melhor valor para k=3, mas muito próximo para k=2."
   ]
  },
  {
   "cell_type": "markdown",
   "id": "8147f029",
   "metadata": {},
   "source": [
    "### Resultados e decisão\n",
    "\n",
    "**Método do Cotovelo - K = 2**\n",
    "O cotovelo mostra onde a redução da inércia começa a se estabilizar.\n",
    "\n",
    "Interpretação prática: Os dados podem ter duas macro estruturas, ou seja, uma divisão mais grosseira.\n",
    "\n",
    "**Silhouette - Melhor em K = 3**\n",
    "O maior valor de silhouette (0.1239) ocorre com K=3."
   ]
  },
  {
   "cell_type": "markdown",
   "id": "ea2408a3",
   "metadata": {},
   "source": [
    "Vamos utilizar k = 2 e k=3 e analisar qual algoritimo melhor se encaixa para nosso projeto"
   ]
  },
  {
   "cell_type": "markdown",
   "id": "9c25eb5d",
   "metadata": {},
   "source": [
    "**Aplicando Algoritimo KMeans**"
   ]
  },
  {
   "cell_type": "code",
   "execution_count": 35,
   "id": "5274d10e",
   "metadata": {},
   "outputs": [],
   "source": [
    "# Aplicar KMeans para k=2\n",
    "kmeans_k2 = KMeans(n_clusters=2, random_state=42)\n",
    "clusters_k2 = kmeans_k2.fit_predict(df_pca)\n",
    "# DataFrame com clusters K=2\n",
    "df_clusters_k2 = pd.DataFrame(df_pca, columns=[f'PC{i+1}' for i in range(df_pca.shape[1])])\n",
    "df_clusters_k2['Cluster'] = clusters_k2\n",
    "# Aplicar KMeans para K=3\n",
    "kmeans_k3 = KMeans(n_clusters=3, random_state=42)\n",
    "clusters_k3 = kmeans_k3.fit_predict(df_pca)\n",
    "# DataFrame com clusters K=3\n",
    "df_clusters_k3 = pd.DataFrame(df_pca, columns=[f'PC{i+1}' for i in range(df_pca.shape[1])])\n",
    "df_clusters_k3['Cluster'] = clusters_k3"
   ]
  },
  {
   "cell_type": "code",
   "execution_count": 36,
   "id": "26de0a0d",
   "metadata": {},
   "outputs": [
    {
     "name": "stdout",
     "output_type": "stream",
     "text": [
      "Silhouette Score K=2: 0.11988114338535223\n",
      "Silhouette Score K=3: 0.12394148922394936\n"
     ]
    }
   ],
   "source": [
    "# Avaliação Quantitativa dos dois modelos -- Silhouete Score\n",
    "silhouette_k2 = silhouette_score(df_pca, clusters_k2)\n",
    "silhouette_k3 = silhouette_score(df_pca, clusters_k3)\n",
    "print(f'Silhouette Score K=2: {silhouette_k2}')\n",
    "print(f'Silhouette Score K=3: {silhouette_k3}')"
   ]
  },
  {
   "cell_type": "code",
   "execution_count": 37,
   "id": "7c1b9bff",
   "metadata": {},
   "outputs": [
    {
     "name": "stdout",
     "output_type": "stream",
     "text": [
      "\n",
      "Distribuição dos Clusters - K=2\n",
      "1    252\n",
      "0    243\n",
      "Name: count, dtype: int64\n",
      "\n",
      "Distribuição dos Clusters - K=3\n",
      "1    234\n",
      "0    206\n",
      "2     55\n",
      "Name: count, dtype: int64\n"
     ]
    }
   ],
   "source": [
    "## Distribuição dos Clusters\n",
    "print(\"\\nDistribuição dos Clusters - K=2\")\n",
    "print(pd.Series(clusters_k2).value_counts())\n",
    "\n",
    "print(\"\\nDistribuição dos Clusters - K=3\")\n",
    "print(pd.Series(clusters_k3).value_counts())"
   ]
  },
  {
   "cell_type": "code",
   "execution_count": 38,
   "id": "fa899c7d",
   "metadata": {},
   "outputs": [
    {
     "data": {
      "application/vnd.plotly.v1+json": {
       "config": {
        "plotlyServerURL": "https://plot.ly"
       },
       "data": [
        {
         "legendgroup": "k2_group",
         "marker": {
          "color": "rgb(68, 1, 84)",
          "opacity": 0.7,
          "size": 7
         },
         "mode": "markers",
         "name": "K=2, Cluster 0",
         "type": "scatter",
         "x": [
          0.9470665013008686,
          -0.24171453372932847,
          0.8588021332452077,
          1.1651480811314663,
          1.3305133090206178,
          1.3553715534370445,
          0.2977406183048445,
          0.3741412602919578,
          0.9335249959496839,
          1.355371553437043,
          0.6462623972347119,
          -0.22559634829899974,
          0.07001997350641655,
          0.7010865897550869,
          0.032688664313734885,
          1.497697569600246,
          0.24309391040469916,
          0.005156102677577754,
          1.2496347039277362,
          1.322755331360171,
          0.7481322891704522,
          0.48023921858359236,
          0.2648672255102003,
          0.40578845823249254,
          0.6654754601318291,
          0.4625883579603327,
          1.10395397646449,
          0.16258580124373495,
          0.2979181029250739,
          -0.4051164607890124,
          1.3326559271033227,
          0.6008879852538621,
          0.8653230760774157,
          0.43909449551290264,
          0.766683280772741,
          0.3680448655676101,
          0.6673484371894807,
          0.3050402565263506,
          0.10338659456171384,
          0.23810432688456104,
          0.4839263195991585,
          0.15573160440039582,
          0.20377071599913651,
          -0.04611314072943637,
          0.9641979798747319,
          0.8582009759278358,
          0.5094426300042455,
          0.7267232565014483,
          0.2977406183048442,
          0.9818636545113033,
          1.355371553437044,
          0.4812430602934597,
          0.23649351718063694,
          1.0345739501683855,
          1.543387922793204,
          0.3342934613192179,
          0.9443515896655424,
          0.5644648417271368,
          0.2977406183048442,
          0.5292205711906778,
          1.058889765766102,
          0.681681181237455,
          0.34526859848841984,
          0.335283615748821,
          1.31675258566571,
          0.5312195583165532,
          0.2977406183048442,
          0.2574553909045898,
          0.6325306145473796,
          0.44013818814927486,
          1.10640648836947,
          0.9408998949580604,
          0.0006700897664631682,
          0.2979181029250739,
          0.23397154515794297,
          1.3058305345161327,
          0.5293164805096788,
          0.1633841364477033,
          0.2979181029250739,
          0.26405578412865194,
          -0.14997805593757912,
          0.1767719926405331,
          0.040790818489785774,
          1.2738243583101383,
          1.0052688913702919,
          0.021617742763603072,
          0.3078371387925793,
          0.36225651895281497,
          0.7122727314559765,
          0.8824419198115333,
          0.09776027994532613,
          0.6464398818549417,
          1.098548812525707,
          1.3077693766459086,
          0.2314187005406782,
          -0.08167956812651406,
          0.3378613470281666,
          0.6314054633383722,
          0.27272695575523703,
          -0.29356809184132737,
          0.15962823769549217,
          0.07097433702922919,
          0.2830488070840296,
          0.2977406183048442,
          0.24695207367248342,
          0.9665500986907607,
          0.34251185861621297,
          0.1839950471348491,
          1.7051635362349837,
          1.4318467093812723,
          -0.11513103986679192,
          0.8371689880039012,
          0.7758276844589896,
          -0.241941768040069,
          0.4818873234057486,
          0.2977406183048442,
          0.6029683289652303,
          1.355371553437044,
          1.2817817090684818,
          0.8341387893763234,
          0.2977406183048442,
          0.3923513347749762,
          -0.050966786582861946,
          0.5066375905336703,
          0.39974363858110706,
          0.600308608150896,
          -0.02452341736215348,
          0.20723191289482396,
          0.9467541055693532,
          0.7009091051348576,
          -0.06451997985466061,
          -0.07112037307872275,
          0.6059426105451668,
          0.48011505235277663,
          0.9381727666184214,
          0.7948426749385387,
          0.5269875281071884,
          1.0269910565185987,
          0.20665253579185827,
          0.896423505399133,
          0.2362701777800518,
          0.2977406183048442,
          0.45951623174662515,
          -0.04949060522256738,
          1.2462801754159418,
          1.6160561572875805,
          0.5707213260890014,
          0.14693130734846108,
          1.2767606183606395,
          1.0311040036556578,
          1.3305133090206154,
          -0.007193852851176088,
          1.5725253351888524,
          0.22582662348573118,
          0.5397175977098366,
          0.9837928181173374,
          0.3741590565567453,
          -0.07207473660153584,
          -0.0991591775536657,
          0.2977406183048442,
          0.407482970136334,
          0.9806898431224577,
          0.8723572380144079,
          0.40770192823733686,
          0.2178573659312709,
          0.5214441534058796,
          0.642339127026801,
          0.32515974988948415,
          1.2130942148509631,
          0.9512915046004543,
          0.7548894240101753,
          1.0643206775687075,
          0.6704061968367591,
          0.21116184842803168,
          1.246494878875052,
          1.4091237166030355,
          1.2098942507280972,
          0.0006700897664631682,
          0.061554080312603066,
          1.177885714563323,
          1.606611463001118,
          0.2302741303301455,
          0.4932207642118227,
          0.42521288852973044,
          0.2592100054757385,
          1.425948580235833,
          0.32868506489638255,
          0.22188204726611516,
          0.699183511948212,
          0.22055411998943208,
          -0.1058128891671418,
          0.2977406183048442,
          -0.004744502668254391,
          0.595125550074579,
          0.25432227903547633,
          0.5850936650212316,
          0.2742764708472025,
          1.2595211813793983,
          0.6335667833909744,
          0.9426817355543063,
          0.5136058396388897,
          1.7051635362349837,
          -0.06583602496363992,
          0.030369308095199624,
          0.1523293375133285,
          0.4578876992506592,
          0.2642332687488814,
          0.8548207759589992,
          0.24815930041877912,
          0.6164214158459334,
          0.6493576891196037,
          0.29131770970101145,
          0.2977406183048442,
          1.31675258566571,
          0.02938149327451204,
          1.2117915456335988,
          0.34351856706262873,
          0.2977406183048442,
          0.6479232787111284,
          0.30490087874207855,
          0.862156298320824,
          0.44261371199767235,
          -0.06583602496363992,
          0.17266625116857612,
          0.35691440071866576,
          1.2243749122790673,
          0.7961687539223926,
          0.6729635349216767,
          0.20896223499526312,
          1.298090265377075,
          0.2977406183048442,
          0.8255236964941434,
          1.5376474810998388,
          0.5113407951563538,
          0.1863219488448077,
          0.8801912202462204,
          0.4582912376065422,
          0.2977406183048442,
          0.7773097471219733,
          0.3086838890766457,
          0.10127223104462246,
          -0.09533134803743393,
          0.9561065618779788
         ],
         "xaxis": "x",
         "y": [
          0.4867759156508626,
          0.3475578268334126,
          0.03394342318168781,
          -0.9607698796290209,
          0.4893121222554774,
          -1.5592612499789926,
          -0.3581956369093537,
          0.35574833146569196,
          0.31015515825819484,
          -1.5592612499789906,
          0.1672613734407929,
          1.4684020400532873,
          0.3664574102815392,
          0.01694043097403664,
          0.24654778769601987,
          -0.26846002243452466,
          -0.20763669957613187,
          1.1194547781477462,
          0.3861505121895557,
          -0.12049552108419985,
          0.7526218481375561,
          1.0693867345737547,
          0.18160087571452363,
          0.7009452180261313,
          -0.6752858018074075,
          0.06018220611233758,
          -0.8844715299838383,
          0.8561223032061477,
          -0.3579576420428887,
          0.7741084847319712,
          -0.04726416983620031,
          0.33500774130282457,
          0.9387770509512078,
          -0.19968151643289248,
          0.4766810836430212,
          0.16114548867975037,
          0.6186137658471254,
          0.30922975303739964,
          0.7251469940833515,
          -0.27375482571722487,
          1.6155168121605967,
          0.5977728496726594,
          0.08536859184139466,
          0.5461568884909352,
          0.2508373752573977,
          -0.1729157139419048,
          -0.305310414635318,
          -0.19542775820787953,
          -0.35819563690935324,
          -0.8846033928157356,
          -1.559261249978991,
          1.1656220123424175,
          0.13130107106052813,
          -0.10055803433262198,
          -0.36755627311509964,
          0.3242758137332791,
          -0.6923721565830553,
          0.12058334151324618,
          -0.35819563690935324,
          1.1601114164746147,
          0.3113441117257992,
          0.41829692542068636,
          1.6319445831062507,
          -0.13058287271845403,
          -1.4863265738565674,
          0.5279130816262378,
          -0.35819563690935324,
          0.22483243772395495,
          -0.40216449749214234,
          1.0006547176240586,
          0.05717981888546166,
          0.5600936945309933,
          -0.019455306818215806,
          -0.3579576420428887,
          0.866415416850911,
          0.05097908779117559,
          0.6570412875114217,
          -0.10363186416928384,
          -0.3579576420428887,
          -0.1141053329127049,
          0.6287270926413849,
          0.10254626876521715,
          1.2208669259785194,
          0.027982250431461235,
          0.35794010083230454,
          0.4070185648700823,
          0.8530662283250889,
          0.515530184511821,
          -0.38297842802412874,
          -0.1932984714655336,
          0.6058374992844096,
          0.16749936830725823,
          0.001977957750226569,
          -0.6052247176049018,
          -0.04801266856800428,
          0.3683519227339305,
          0.8821265958873818,
          -0.4754561073495474,
          -0.005790306996840241,
          0.16298592973016454,
          0.7347744737658178,
          0.499885818770888,
          0.45406996978857816,
          -0.35819563690935324,
          0.26406636861141575,
          -0.11740018058298991,
          0.19768637342330025,
          1.5041243475670905,
          -0.4052010877060299,
          -0.567373144868714,
          1.0468940652661798,
          -0.5693160849686256,
          0.5889797114104975,
          1.1408760776784592,
          -0.14129270863928092,
          -0.35819563690935324,
          0.4327027966799258,
          -1.559261249978991,
          -0.9496306329919267,
          -0.21898501188342373,
          -0.35819563690935324,
          -0.5209484087779249,
          -0.02495746816128692,
          0.6907097441491742,
          0.308929105033584,
          0.8340083125530309,
          1.3068952719327758,
          0.26754351428772977,
          0.41931875296590837,
          0.016702436107572043,
          0.4243940648789462,
          0.7633318355156063,
          -0.8622534537080249,
          0.7115657088308492,
          0.22216831218997693,
          0.20635933595386108,
          0.36390280921610274,
          -1.2628448619482657,
          0.7665440855379362,
          0.16599286402222896,
          -0.036432189910293435,
          -0.35819563690935324,
          -0.39584045150028324,
          1.2700137154809679,
          -1.112383626194477,
          -1.0288582966891924,
          0.4033196923816112,
          0.8613760050219526,
          0.020006387837878073,
          0.8444824261486603,
          0.4893121222554765,
          1.0441198275196597,
          -0.08099364381423364,
          0.8553790570602398,
          0.9581752699311137,
          0.352837861430504,
          0.5428832599837399,
          0.6299034270262573,
          0.5350559603862455,
          -0.35819563690935324,
          0.21459059785136325,
          -1.0022810082480138,
          0.09614250849260306,
          -0.24616299827386176,
          1.2602720384369068,
          -0.587488745985039,
          1.293204253015114,
          -0.14127667876021363,
          -0.33289291223405637,
          -0.5034054374882955,
          0.255676573866326,
          -0.02065837143073963,
          -0.35840215442165846,
          0.17635366190371687,
          -0.02857794815749798,
          -0.366112595898865,
          -0.24324034281354104,
          -0.019455306818215806,
          0.34950516944365184,
          0.7079460635316884,
          -0.7155756410855026,
          0.4587699363282583,
          0.5316594603501078,
          0.18034561135530133,
          0.812417899312303,
          0.053335528907608065,
          0.6560403020233533,
          0.29890096466223887,
          0.14606863685922028,
          0.8161120058938943,
          1.2315767618993463,
          -0.35819563690935324,
          0.8841744136764931,
          0.05092215707214286,
          1.1372915690141232,
          1.00250145048518,
          1.4549775580646422,
          0.31234509721386733,
          1.1914890350880887,
          -1.090813935145267,
          1.428076318375567,
          -0.4052010877060299,
          0.9424877531061365,
          0.9646944152437935,
          0.9185851929350745,
          0.7883063331287044,
          -0.11386733804624041,
          1.0426327558545176,
          0.4322728141396239,
          0.8025043879182014,
          1.002284297675869,
          -0.019019871406228753,
          -0.35819563690935324,
          -1.4863265738565674,
          0.1985720248559783,
          -0.39246064535176595,
          0.2513095722896028,
          -0.35819563690935324,
          0.5495431574292419,
          0.8610420909186716,
          0.40042925380313993,
          1.251109293333958,
          0.9424877531061365,
          0.11745741883892176,
          0.4407207812627557,
          -0.5273651947294827,
          1.2498415033993568,
          0.6992687858691436,
          1.5410059040188986,
          -0.1973502652850087,
          -0.35819563690935324,
          1.2281040546108823,
          -0.6811683680287485,
          0.021087533602287142,
          0.7209739689455071,
          0.4509368003344325,
          1.1654847424068537,
          -0.35819563690935324,
          0.730646404482617,
          0.9041020395423216,
          0.43972895991398314,
          0.47816815530816326,
          0.7241652113186691
         ],
         "yaxis": "y"
        },
        {
         "legendgroup": "k2_group",
         "marker": {
          "color": "rgb(253, 231, 37)",
          "opacity": 0.7,
          "size": 7
         },
         "mode": "markers",
         "name": "K=2, Cluster 1",
         "type": "scatter",
         "x": [
          0.26416047483604493,
          -0.6139114704750105,
          -1.0794589065722837,
          -0.983375424839836,
          0.7526035587846096,
          -0.9584902809079727,
          -0.6257370446487585,
          -0.5650833828648198,
          0.053200750429996085,
          -0.7347867458069371,
          -0.7204432156479074,
          -1.2493259380108177,
          -0.1954969612183276,
          -1.0311507256097066,
          -0.2815244392453267,
          -0.24699503037910236,
          -0.25147338769528654,
          -0.6949271019255546,
          -0.4448315989836734,
          -0.5628843269129188,
          -0.8533227128264584,
          -0.6614197523695914,
          -1.0466443383640802,
          -1.076501343024041,
          -0.6566253762617248,
          -1.0631672427253827,
          -1.0428165088478487,
          -0.7659192295667719,
          -1.082395166622785,
          -0.33544169162346443,
          -0.6743359369143322,
          -0.6043211007452209,
          -0.42835036043554847,
          -0.6004938700756518,
          -1.0076751560728054,
          0.009387302859045378,
          -0.44519378734760806,
          0.11441006365764403,
          -0.6043211007452209,
          -0.39294497695718733,
          -0.31137910920132794,
          -1.0631672427253827,
          -0.7257917884977417,
          -1.1945017454904432,
          -0.9532059327928901,
          -0.35022088251354094,
          -0.35225136929947776,
          -0.3561503495126965,
          -0.6003163854554223,
          -0.748267952332162,
          -0.5423090447981317,
          -0.686052008529131,
          0.32005564426482586,
          -0.2759406038267757,
          0.1889025935862243,
          -0.9584902809079727,
          -0.4149745943237128,
          -0.5994248159896916,
          -0.41097454203307104,
          -0.15163576373525253,
          0.1436392761099656,
          -1.0631672427253827,
          -0.5437065027809893,
          -0.5764243508467295,
          -0.008514158425123087,
          -0.9583127962877432,
          -0.8642199542216736,
          -0.5408560810780282,
          -0.7660967141870016,
          -0.2958932889395004,
          -0.2516508723155162,
          -0.9584902809079727,
          -0.9921751150841649,
          0.2718149348286934,
          -0.28265469190581927,
          0.563612959870775,
          0.01076807051296736,
          -0.7602946561669078,
          -1.0631672427253827,
          -0.8160045555568723,
          -0.25147338769528654,
          -1.0629897581051528,
          -0.48934616050715146,
          -0.9584902809079727,
          -0.5784009208936285,
          -0.7660967141870016,
          -0.5582141170358673,
          -0.9584902809079727,
          -0.28133039235524737,
          -0.6614197523695914,
          -0.6475963046512135,
          -0.9921751150841649,
          -0.7495738098256994,
          -0.3991905998296176,
          -0.1030705946116899,
          -0.5668090358994596,
          -1.0631672427253827,
          -0.20282278470531462,
          -1.0631672427253827,
          -0.6291642618774939,
          0.29051580673407335,
          0.06081181432063574,
          -0.4180883389944435,
          -0.5333289731040035,
          -0.9881698009477037,
          -0.30629758021566134,
          -0.42306601232046576,
          -0.6627255640797594,
          -0.6614197523695914,
          0.21027721266581442,
          -0.8756548854083833,
          -0.09426925497864677,
          -1.0248121986721386,
          -0.34274653594283316,
          -0.7197202804354731,
          -0.30448653302709017,
          -1.1120118926054339,
          -0.9919976304639354,
          -0.5668090358994596,
          -0.8312867838081254,
          -0.6574933006866768,
          -0.7457459803094679,
          -0.3579623763506746,
          0.7212163825223927,
          -0.2489714532121766,
          -0.5020002789065126,
          -1.1236871024694546,
          0.10840103086524452,
          -0.7457299570382859,
          -0.40630433215601974,
          -0.9584902809079727,
          -0.5376349947187209,
          -0.471688063374402,
          -1.2080133304093312,
          -0.03782280480325727,
          -0.43771621726855625,
          -0.24800106641818204,
          -0.6614197523695914,
          -0.3827624931567557,
          -0.9584902809079727,
          -0.25147338769528654,
          0.5085369640029168,
          -0.8106423004074892,
          -0.6614197523695914,
          -0.0857463773531217,
          -0.6802333882391873,
          -0.3359755155016475,
          -1.0129595041878883,
          -0.367685364384686,
          -0.288552143230674,
          -0.9921751150841649,
          -0.43771621726855625,
          -1.0170602590160291,
          -0.37261949797982735,
          -0.37261949797982735,
          -0.7804731033847633,
          -0.4539638141545719,
          -0.6142434195500568,
          -0.6147793948999734,
          -0.6287648351290105,
          0.10049508366103682,
          -0.3516576242558746,
          -0.9532059327928901,
          -0.4038144421725294,
          0.007831810462466844,
          -0.5112517813936841,
          -0.9584902809079727,
          -0.5374575100984913,
          -1.1743284962331388,
          -0.5396257854924327,
          -0.3561503495126965,
          -0.38298537508057656,
          -0.33613856160444033,
          0.3789742239967546,
          -0.5406107776729021,
          -0.6142434195500568,
          -0.16855290303502288,
          -0.9911060609982046,
          -1.1236871024694546,
          -0.977083394812527,
          -0.6330476287937736,
          -1.0129595041878883,
          -0.7574211901734887,
          -1.0631672427253827,
          -0.7730576555723464,
          -0.7574211901734887,
          -0.6150433186180634,
          -0.7457299570382859,
          -0.6486039865634401,
          -0.3953938360465154,
          -0.8772579676947574,
          -0.7435977424551106,
          -0.013421298497205924,
          0.15308397039642782,
          -0.05824585719798869,
          -0.4090987902876122,
          0.14377781028141848,
          -0.44759168485733264,
          -0.6330476287937736,
          -0.3714876498367854,
          -0.6614197523695914,
          -0.37261949797982735,
          0.05171545273450388,
          -0.5593723758136226,
          -0.30629758021566134,
          -0.9584902809079727,
          -0.9584902809079727,
          0.012742897863492085,
          -0.21327452476453074,
          -0.7527902465646651,
          0.20810676621144641,
          -0.20473655920373854,
          -1.2080133304093312,
          -0.08490339814563932,
          -0.9584902809079727,
          0.06618830585431641,
          -0.7660967141870016,
          -0.727564185513528,
          -0.2463847436063721,
          -0.45820736509550913,
          -0.6614197523695914,
          -0.9583127962877432,
          -0.30245372742824805,
          -0.49964413892781084,
          -0.9881698009477037,
          -0.412237552740511,
          -0.33579803088141796,
          -1.0235028659088672,
          -0.8110975112796392,
          0.018027245978574826,
          -0.7849103500565969,
          -0.07672554105102568,
          -0.9921751150841649,
          0.5826574654267911,
          -0.47970945307268625,
          -0.5330036760024243,
          -0.9198713131366387,
          -0.7159090131890913,
          -0.42507335608624663,
          -1.1743284962331388,
          -1.1591686805292796,
          -0.7347867458069371,
          -0.7044006770315945,
          -0.6370529429302351,
          -1.0900022682932626,
          -1.2243587501504034,
          0.22651324518844254,
          -0.7347867458069371,
          -0.9584902809079728,
          -0.9584902809079727,
          -0.7823883780339025,
          -0.2516508723155162
         ],
         "xaxis": "x",
         "y": [
          -1.0818851848423077,
          0.13131223123651226,
          0.11224446283365926,
          0.6839140700699787,
          -1.073180994365387,
          -0.348497442840913,
          -0.7521965864608913,
          0.32077580557235197,
          -1.3221822763473385,
          -0.5777905519165989,
          -0.3167061801150172,
          0.6232171134858586,
          -1.2372893260518747,
          0.29047373135643445,
          0.49676393677461145,
          -0.40009544431157185,
          -0.6510394756853205,
          -0.44290947406893777,
          -0.29682596142417644,
          0.0644692360016033,
          -0.2928272459526088,
          -0.6872377729320505,
          0.046389793355421094,
          0.2335922922739868,
          0.15773324619381274,
          -0.28137416388587394,
          -0.010498011722661257,
          -0.6198764991105468,
          0.12022032542724027,
          -0.8818423585824674,
          -0.22346936733001815,
          -0.6577593085679414,
          -0.1898565418720017,
          -0.6059002408039739,
          -0.018544593050696626,
          0.22709274039800645,
          -0.5768750295102203,
          -0.20549489025250925,
          -0.6577593085679414,
          -0.3606488716750825,
          -0.028034186397627874,
          -0.28137416388587394,
          -0.03155235276327985,
          0.47289617101910164,
          -0.1693415252503825,
          -0.4595787332927483,
          0.1660284058936736,
          -0.5839161967302813,
          -0.6056622459375093,
          0.3858760039765839,
          0.320675080641451,
          0.7815177112469226,
          -0.6172963921516762,
          -0.9541756965986664,
          -0.1744582429172472,
          -0.34849744284091305,
          -0.48402846034274233,
          -0.654574188422009,
          -0.4335952542635244,
          -0.581058686161593,
          -1.1323853414458762,
          -0.28137416388587394,
          0.39111371426963415,
          -0.0752888482417228,
          -1.4077851875921703,
          -0.34825944797444863,
          -0.21252305670218377,
          0.5502015216204289,
          -0.6201144939770112,
          0.21904577283367527,
          -0.651277470551785,
          -0.34849744284091305,
          -0.10440713884426471,
          -1.1953451013888399,
          -0.7249624692897274,
          -1.5733524826463234,
          -0.9760527938219642,
          0.0007019027617599797,
          -0.28137416388587394,
          -0.056316919008639145,
          -0.6510394756853205,
          -0.2811361690194096,
          -0.03792252515248359,
          -0.34849744284091305,
          -0.12509664667561748,
          -0.6201144939770112,
          0.5516192293845614,
          -0.34849744284091305,
          -0.4638369767667547,
          -0.6872377729320505,
          0.37540253523316275,
          -0.10440713884426471,
          -0.29235053673571615,
          0.18037913069752345,
          -0.6121795080387176,
          -0.8499905448006223,
          -0.28137416388587394,
          -0.46181389621594715,
          -0.28137416388587394,
          -0.26280022685390236,
          -0.40388321482483075,
          -0.38090373232296537,
          -0.4762905926156236,
          -0.48079228352633235,
          -0.16105694905588278,
          -0.5007185332185635,
          -0.010700624281471222,
          -0.4494974744930248,
          -0.6872377729320505,
          -0.8485413220351106,
          0.12967932014625624,
          -0.5703876112861218,
          -0.038314474499564204,
          -0.6516352794775847,
          0.0647691068357404,
          -1.1522183299987319,
          0.49000117018611894,
          -0.10416914397780039,
          -0.8499905448006223,
          -0.1762651222798491,
          -0.2919275226707342,
          -0.3492383418137987,
          0.5884435148348491,
          -1.2584475904672185,
          0.11900722942214972,
          0.5888473216994274,
          0.6496252011942463,
          -0.010699979429262966,
          0.09880217374504335,
          0.05355473911943352,
          -0.34849744284091305,
          0.4874351738686542,
          -0.4551767742122498,
          0.9876246323124976,
          -0.17412963196159587,
          -0.9165308820077364,
          0.7004761534703406,
          -0.6872377729320505,
          -1.0125105437473347,
          -0.34849744284091305,
          -0.6510394756853205,
          -1.151102323749925,
          -0.3144080464173703,
          -0.6872377729320505,
          -0.279004196769378,
          0.44149519957786326,
          -0.9756782983691923,
          -0.19770051064122715,
          -0.019379937002990344,
          -0.059997902381845755,
          -0.10440713884426471,
          -0.9165308820077364,
          0.9280043740666284,
          -0.19053556487721454,
          -0.19053556487721454,
          -0.051521916570229365,
          1.0860669769612277,
          -0.6426749077650864,
          -0.31834853762803256,
          1.093503967036364,
          0.2739432337977566,
          -0.09700419821378789,
          -0.1693415252503825,
          0.12374030839204943,
          -0.9680769312283812,
          -0.582686426677605,
          -0.34849744284091305,
          0.48767316873511873,
          0.7435343283158499,
          0.770569880459631,
          -0.5839161967302813,
          0.10299286435319038,
          0.1345244812588443,
          -0.8401761092626682,
          0.6986167308400297,
          -0.6426749077650864,
          -0.7473867154442311,
          -0.15308108646229956,
          0.6496252011942463,
          0.6389153652734186,
          0.025462290657604067,
          -0.19770051064122715,
          -0.18961431080567118,
          -0.28137416388587394,
          0.34923244239123963,
          -0.18961431080567118,
          -0.002354172119298738,
          0.09880217374504335,
          0.5995571576202547,
          -0.19043483994631352,
          0.4047939982247127,
          0.8730259973595416,
          -0.33256134764411077,
          -1.4456679970495652,
          -0.530860327100324,
          -0.05541560919848125,
          -0.5385963485602261,
          -0.21008993434186107,
          0.025462290657604067,
          -0.05686916152140148,
          -0.6872377729320505,
          -0.19053556487721454,
          -0.4188276884648326,
          -0.10163930336882333,
          -0.5007185332185635,
          -0.34849744284091305,
          -0.34849744284091305,
          -0.4070954648471607,
          -0.27889408913156244,
          0.05483872743757496,
          -0.1344236949979539,
          0.22046595752406303,
          0.9876246323124976,
          0.15628672884961242,
          -0.34849744284091305,
          -0.7703396990375383,
          -0.6201144939770112,
          -0.3768168097242371,
          -0.13959216654954923,
          -0.002654042953435895,
          -0.6872377729320505,
          -0.34825944797444863,
          -0.10956582273780407,
          -0.7248825875229804,
          -0.16105694905588278,
          -0.22136046650683103,
          -0.9754403035027281,
          0.09558992372271352,
          0.5424135505757413,
          -0.22793954725663035,
          0.5086184785329027,
          -0.6332734675868569,
          -0.10440713884426471,
          -1.0612840066697982,
          -0.8970006856386915,
          0.4133021590696723,
          -0.4214321189633371,
          0.9687202101654884,
          -0.0029943461612832625,
          0.7435343283158499,
          0.21624929824050526,
          -0.5777905519165989,
          -0.23570709251973318,
          0.08211210086922216,
          0.40553489719759783,
          0.6600986699376675,
          -0.8118468740312553,
          -0.5777905519165989,
          -0.3484974428409131,
          -0.34849744284091305,
          -0.22649586725748003,
          -0.6512774705517851
         ],
         "yaxis": "y"
        },
        {
         "legendgroup": "k3_group",
         "marker": {
          "color": "#636EFA",
          "opacity": 0.7,
          "size": 7
         },
         "mode": "markers",
         "name": "K=3, Cluster 0",
         "type": "scatter",
         "x": [
          0.9470665013008686,
          -0.24171453372932847,
          0.8588021332452077,
          1.3305133090206178,
          0.2977406183048445,
          0.3741412602919578,
          0.9335249959496839,
          0.6462623972347119,
          -0.22559634829899974,
          0.07001997350641655,
          0.7010865897550869,
          0.032688664313734885,
          0.24309391040469916,
          0.005156102677577754,
          1.2496347039277362,
          0.7481322891704522,
          0.48023921858359236,
          0.2648672255102003,
          0.40578845823249254,
          0.16258580124373495,
          0.2979181029250739,
          -0.4051164607890124,
          1.3326559271033227,
          0.6008879852538621,
          0.8653230760774157,
          0.43909449551290264,
          0.766683280772741,
          0.3680448655676101,
          0.6673484371894807,
          0.3050402565263506,
          0.10338659456171384,
          0.23810432688456104,
          0.4839263195991585,
          0.15573160440039582,
          0.20377071599913651,
          -0.04611314072943637,
          0.9641979798747319,
          0.5094426300042455,
          0.7267232565014483,
          0.2977406183048442,
          0.4812430602934597,
          0.23649351718063694,
          1.0345739501683855,
          0.3342934613192179,
          0.5644648417271368,
          0.2977406183048442,
          0.5292205711906778,
          1.058889765766102,
          0.681681181237455,
          0.34526859848841984,
          0.335283615748821,
          0.5312195583165532,
          0.2977406183048442,
          0.2574553909045898,
          0.44013818814927486,
          1.10640648836947,
          0.9408998949580604,
          0.0006700897664631682,
          0.2979181029250739,
          0.23397154515794297,
          0.5293164805096788,
          0.1633841364477033,
          0.2979181029250739,
          0.26405578412865194,
          -0.14997805593757912,
          0.1767719926405331,
          0.040790818489785774,
          1.2738243583101383,
          1.0052688913702919,
          0.021617742763603072,
          0.3078371387925793,
          0.36225651895281497,
          0.8824419198115333,
          0.09776027994532613,
          0.6464398818549417,
          1.098548812525707,
          0.2314187005406782,
          -0.08167956812651406,
          0.3378613470281666,
          0.6314054633383722,
          0.27272695575523703,
          -0.29356809184132737,
          0.15962823769549217,
          0.07097433702922919,
          0.2830488070840296,
          0.2977406183048442,
          0.24695207367248342,
          0.34251185861621297,
          0.1839950471348491,
          -0.11513103986679192,
          0.8371689880039012,
          0.7758276844589896,
          -0.241941768040069,
          0.4818873234057486,
          0.2977406183048442,
          0.6029683289652303,
          0.8341387893763234,
          0.2977406183048442,
          0.3923513347749762,
          -0.050966786582861946,
          0.5066375905336703,
          0.39974363858110706,
          0.600308608150896,
          -0.02452341736215348,
          0.20723191289482396,
          0.9467541055693532,
          0.7009091051348576,
          -0.06451997985466061,
          -0.07112037307872275,
          -0.6287648351290105,
          -0.4038144421725294,
          0.48011505235277663,
          0.9381727666184214,
          0.7948426749385387,
          0.5269875281071884,
          0.20665253579185827,
          -0.5406107776729021,
          0.896423505399133,
          0.2362701777800518,
          0.2977406183048442,
          0.45951623174662515,
          -0.04949060522256738,
          0.5707213260890014,
          0.14693130734846108,
          1.2767606183606395,
          1.0311040036556578,
          1.3305133090206154,
          -0.007193852851176088,
          0.22582662348573118,
          0.5397175977098366,
          0.9837928181173374,
          0.3741590565567453,
          -0.07207473660153584,
          -0.0991591775536657,
          0.2977406183048442,
          0.407482970136334,
          0.40770192823733686,
          0.2178573659312709,
          0.5214441534058796,
          0.642339127026801,
          0.32515974988948415,
          0.7548894240101753,
          0.6704061968367591,
          0.21116184842803168,
          0.0006700897664631682,
          0.061554080312603066,
          1.177885714563323,
          0.2302741303301455,
          0.4932207642118227,
          0.42521288852973044,
          0.2592100054757385,
          1.425948580235833,
          0.32868506489638255,
          0.22188204726611516,
          0.699183511948212,
          0.22055411998943208,
          -0.1058128891671418,
          0.2977406183048442,
          -0.004744502668254391,
          0.595125550074579,
          -0.20473655920373854,
          0.25432227903547633,
          0.5850936650212316,
          0.2742764708472025,
          1.2595211813793983,
          0.6335667833909744,
          0.5136058396388897,
          -0.06583602496363992,
          -0.2463847436063721,
          0.030369308095199624,
          0.1523293375133285,
          0.4578876992506592,
          0.2642332687488814,
          0.8548207759589992,
          0.24815930041877912,
          0.6164214158459334,
          0.6493576891196037,
          0.29131770970101145,
          0.2977406183048442,
          0.02938149327451204,
          1.2117915456335988,
          0.34351856706262873,
          0.2977406183048442,
          0.6479232787111284,
          0.30490087874207855,
          0.862156298320824,
          0.44261371199767235,
          -0.06583602496363992,
          0.17266625116857612,
          0.35691440071866576,
          0.7961687539223926,
          0.6729635349216767,
          -0.5330036760024243,
          0.20896223499526312,
          1.298090265377075,
          0.2977406183048442,
          0.8255236964941434,
          0.5113407951563538,
          0.1863219488448077,
          0.4582912376065422,
          0.2977406183048442,
          0.7773097471219733,
          0.3086838890766457,
          0.10127223104462246,
          -0.09533134803743393,
          0.9561065618779788
         ],
         "xaxis": "x2",
         "y": [
          0.4867759156508626,
          0.3475578268334126,
          0.03394342318168781,
          0.4893121222554774,
          -0.3581956369093537,
          0.35574833146569196,
          0.31015515825819484,
          0.1672613734407929,
          1.4684020400532873,
          0.3664574102815392,
          0.01694043097403664,
          0.24654778769601987,
          -0.20763669957613187,
          1.1194547781477462,
          0.3861505121895557,
          0.7526218481375561,
          1.0693867345737547,
          0.18160087571452363,
          0.7009452180261313,
          0.8561223032061477,
          -0.3579576420428887,
          0.7741084847319712,
          -0.04726416983620031,
          0.33500774130282457,
          0.9387770509512078,
          -0.19968151643289248,
          0.4766810836430212,
          0.16114548867975037,
          0.6186137658471254,
          0.30922975303739964,
          0.7251469940833515,
          -0.27375482571722487,
          1.6155168121605967,
          0.5977728496726594,
          0.08536859184139466,
          0.5461568884909352,
          0.2508373752573977,
          -0.305310414635318,
          -0.19542775820787953,
          -0.35819563690935324,
          1.1656220123424175,
          0.13130107106052813,
          -0.10055803433262198,
          0.3242758137332791,
          0.12058334151324618,
          -0.35819563690935324,
          1.1601114164746147,
          0.3113441117257992,
          0.41829692542068636,
          1.6319445831062507,
          -0.13058287271845403,
          0.5279130816262378,
          -0.35819563690935324,
          0.22483243772395495,
          1.0006547176240586,
          0.05717981888546166,
          0.5600936945309933,
          -0.019455306818215806,
          -0.3579576420428887,
          0.866415416850911,
          0.6570412875114217,
          -0.10363186416928384,
          -0.3579576420428887,
          -0.1141053329127049,
          0.6287270926413849,
          0.10254626876521715,
          1.2208669259785194,
          0.027982250431461235,
          0.35794010083230454,
          0.4070185648700823,
          0.8530662283250889,
          0.515530184511821,
          -0.1932984714655336,
          0.6058374992844096,
          0.16749936830725823,
          0.001977957750226569,
          -0.04801266856800428,
          0.3683519227339305,
          0.8821265958873818,
          -0.4754561073495474,
          -0.005790306996840241,
          0.16298592973016454,
          0.7347744737658178,
          0.499885818770888,
          0.45406996978857816,
          -0.35819563690935324,
          0.26406636861141575,
          0.19768637342330025,
          1.5041243475670905,
          1.0468940652661798,
          -0.5693160849686256,
          0.5889797114104975,
          1.1408760776784592,
          -0.14129270863928092,
          -0.35819563690935324,
          0.4327027966799258,
          -0.21898501188342373,
          -0.35819563690935324,
          -0.5209484087779249,
          -0.02495746816128692,
          0.6907097441491742,
          0.308929105033584,
          0.8340083125530309,
          1.3068952719327758,
          0.26754351428772977,
          0.41931875296590837,
          0.016702436107572043,
          0.4243940648789462,
          0.7633318355156063,
          1.093503967036364,
          0.12374030839204943,
          0.7115657088308492,
          0.22216831218997693,
          0.20635933595386108,
          0.36390280921610274,
          0.7665440855379362,
          0.6986167308400297,
          0.16599286402222896,
          -0.036432189910293435,
          -0.35819563690935324,
          -0.39584045150028324,
          1.2700137154809679,
          0.4033196923816112,
          0.8613760050219526,
          0.020006387837878073,
          0.8444824261486603,
          0.4893121222554765,
          1.0441198275196597,
          0.8553790570602398,
          0.9581752699311137,
          0.352837861430504,
          0.5428832599837399,
          0.6299034270262573,
          0.5350559603862455,
          -0.35819563690935324,
          0.21459059785136325,
          -0.24616299827386176,
          1.2602720384369068,
          -0.587488745985039,
          1.293204253015114,
          -0.14127667876021363,
          0.255676573866326,
          -0.35840215442165846,
          0.17635366190371687,
          -0.019455306818215806,
          0.34950516944365184,
          0.7079460635316884,
          0.4587699363282583,
          0.5316594603501078,
          0.18034561135530133,
          0.812417899312303,
          0.053335528907608065,
          0.6560403020233533,
          0.29890096466223887,
          0.14606863685922028,
          0.8161120058938943,
          1.2315767618993463,
          -0.35819563690935324,
          0.8841744136764931,
          0.05092215707214286,
          0.22046595752406303,
          1.1372915690141232,
          1.00250145048518,
          1.4549775580646422,
          0.31234509721386733,
          1.1914890350880887,
          1.428076318375567,
          0.9424877531061365,
          -0.13959216654954923,
          0.9646944152437935,
          0.9185851929350745,
          0.7883063331287044,
          -0.11386733804624041,
          1.0426327558545176,
          0.4322728141396239,
          0.8025043879182014,
          1.002284297675869,
          -0.019019871406228753,
          -0.35819563690935324,
          0.1985720248559783,
          -0.39246064535176595,
          0.2513095722896028,
          -0.35819563690935324,
          0.5495431574292419,
          0.8610420909186716,
          0.40042925380313993,
          1.251109293333958,
          0.9424877531061365,
          0.11745741883892176,
          0.4407207812627557,
          1.2498415033993568,
          0.6992687858691436,
          0.4133021590696723,
          1.5410059040188986,
          -0.1973502652850087,
          -0.35819563690935324,
          1.2281040546108823,
          0.021087533602287142,
          0.7209739689455071,
          1.1654847424068537,
          -0.35819563690935324,
          0.730646404482617,
          0.9041020395423216,
          0.43972895991398314,
          0.47816815530816326,
          0.7241652113186691
         ],
         "yaxis": "y2"
        },
        {
         "legendgroup": "k3_group",
         "marker": {
          "color": "#EF553B",
          "opacity": 0.7,
          "size": 7
         },
         "mode": "markers",
         "name": "K=3, Cluster 1",
         "type": "scatter",
         "x": [
          0.26416047483604493,
          -0.6139114704750105,
          -1.0794589065722837,
          -0.983375424839836,
          -0.9584902809079727,
          -0.6257370446487585,
          -0.5650833828648198,
          -0.7347867458069371,
          -0.7204432156479074,
          -1.2493259380108177,
          -0.1954969612183276,
          -1.0311507256097066,
          -0.2815244392453267,
          -0.24699503037910236,
          -0.25147338769528654,
          -0.6949271019255546,
          -0.4448315989836734,
          -0.5628843269129188,
          -0.8533227128264584,
          -0.6614197523695914,
          -1.0466443383640802,
          -1.076501343024041,
          -0.6566253762617248,
          -1.0631672427253827,
          -1.0428165088478487,
          -0.7659192295667719,
          -1.082395166622785,
          -0.6743359369143322,
          -0.6043211007452209,
          -0.42835036043554847,
          -0.6004938700756518,
          -1.0076751560728054,
          0.009387302859045378,
          -0.44519378734760806,
          0.11441006365764403,
          -0.6043211007452209,
          -0.39294497695718733,
          -0.31137910920132794,
          -1.0631672427253827,
          -0.7257917884977417,
          -1.1945017454904432,
          -0.9532059327928901,
          -0.35022088251354094,
          -0.35225136929947776,
          -0.3561503495126965,
          -0.6003163854554223,
          -0.748267952332162,
          -0.5423090447981317,
          -0.686052008529131,
          0.32005564426482586,
          -0.2759406038267757,
          0.1889025935862243,
          -0.9584902809079727,
          -0.4149745943237128,
          -0.5994248159896916,
          -0.41097454203307104,
          -0.15163576373525253,
          -1.0631672427253827,
          -0.5437065027809893,
          -0.5764243508467295,
          -0.9583127962877432,
          -0.8642199542216736,
          -0.5408560810780282,
          -0.7660967141870016,
          -0.2958932889395004,
          -0.2516508723155162,
          -0.9584902809079727,
          -0.9921751150841649,
          -0.28265469190581927,
          0.01076807051296736,
          -0.7602946561669078,
          -1.0631672427253827,
          -0.8160045555568723,
          -0.25147338769528654,
          -1.0629897581051528,
          -0.48934616050715146,
          -0.9584902809079727,
          -0.5784009208936285,
          -0.7660967141870016,
          -0.5582141170358673,
          -0.9584902809079727,
          -0.28133039235524737,
          -0.6614197523695914,
          -0.6475963046512135,
          -0.9921751150841649,
          -0.7495738098256994,
          -0.3991905998296176,
          -0.1030705946116899,
          -0.5668090358994596,
          -1.0631672427253827,
          -0.20282278470531462,
          -1.0631672427253827,
          -0.6291642618774939,
          0.29051580673407335,
          0.06081181432063574,
          -0.4180883389944435,
          -0.5333289731040035,
          -0.9881698009477037,
          -0.30629758021566134,
          -0.42306601232046576,
          -0.6627255640797594,
          -0.6614197523695914,
          0.21027721266581442,
          -0.8756548854083833,
          -0.09426925497864677,
          -1.0248121986721386,
          -0.34274653594283316,
          -0.7197202804354731,
          -0.30448653302709017,
          -1.1120118926054339,
          -0.9919976304639354,
          -0.5668090358994596,
          -0.8312867838081254,
          -0.6574933006866768,
          -0.7457459803094679,
          -0.3579623763506746,
          -0.2489714532121766,
          -0.5020002789065126,
          -1.1236871024694546,
          0.10840103086524452,
          -0.7457299570382859,
          -0.40630433215601974,
          -0.9584902809079727,
          -0.5376349947187209,
          -0.471688063374402,
          -1.2080133304093312,
          -0.03782280480325727,
          -0.43771621726855625,
          -0.24800106641818204,
          -0.6614197523695914,
          -0.3827624931567557,
          -0.9584902809079727,
          -0.25147338769528654,
          -0.8106423004074892,
          -0.6614197523695914,
          -0.0857463773531217,
          -0.6802333882391873,
          -0.3359755155016475,
          -1.0129595041878883,
          -0.367685364384686,
          -0.288552143230674,
          -0.9921751150841649,
          -0.43771621726855625,
          -1.0170602590160291,
          -0.37261949797982735,
          -0.37261949797982735,
          -0.7804731033847633,
          -0.4539638141545719,
          -0.6142434195500568,
          -0.6147793948999734,
          0.10049508366103682,
          -0.3516576242558746,
          -0.9532059327928901,
          0.007831810462466844,
          -0.5112517813936841,
          -0.9584902809079727,
          -0.5374575100984913,
          -1.1743284962331388,
          -0.5396257854924327,
          -0.3561503495126965,
          -0.38298537508057656,
          -0.33613856160444033,
          -0.6142434195500568,
          -0.16855290303502288,
          -0.9911060609982046,
          -1.1236871024694546,
          -0.977083394812527,
          -0.6330476287937736,
          -1.0129595041878883,
          -0.7574211901734887,
          -1.0631672427253827,
          -0.7730576555723464,
          -0.7574211901734887,
          -0.6150433186180634,
          -0.7457299570382859,
          -0.6486039865634401,
          -0.3953938360465154,
          -0.8772579676947574,
          -0.7435977424551106,
          -0.013421298497205924,
          -0.05824585719798869,
          -0.4090987902876122,
          0.14377781028141848,
          -0.44759168485733264,
          -0.6330476287937736,
          -0.3714876498367854,
          -0.6614197523695914,
          -0.37261949797982735,
          0.05171545273450388,
          -0.5593723758136226,
          -0.30629758021566134,
          -0.9584902809079727,
          -0.9584902809079727,
          0.012742897863492085,
          -0.21327452476453074,
          -0.7527902465646651,
          0.20810676621144641,
          -1.2080133304093312,
          -0.08490339814563932,
          -0.9584902809079727,
          0.06618830585431641,
          -0.7660967141870016,
          -0.727564185513528,
          -0.45820736509550913,
          -0.6614197523695914,
          -0.9583127962877432,
          -0.30245372742824805,
          -0.49964413892781084,
          -0.9881698009477037,
          -0.412237552740511,
          -0.33579803088141796,
          -1.0235028659088672,
          -0.8110975112796392,
          0.018027245978574826,
          -0.7849103500565969,
          -0.07672554105102568,
          -0.9921751150841649,
          -0.47970945307268625,
          -0.9198713131366387,
          -0.7159090131890913,
          -0.42507335608624663,
          -1.1743284962331388,
          -1.1591686805292796,
          -0.7347867458069371,
          -0.7044006770315945,
          -0.6370529429302351,
          -1.0900022682932626,
          -1.2243587501504034,
          0.22651324518844254,
          -0.7347867458069371,
          -0.9584902809079728,
          -0.9584902809079727,
          -0.7823883780339025,
          -0.2516508723155162
         ],
         "xaxis": "x2",
         "y": [
          -1.0818851848423077,
          0.13131223123651226,
          0.11224446283365926,
          0.6839140700699787,
          -0.348497442840913,
          -0.7521965864608913,
          0.32077580557235197,
          -0.5777905519165989,
          -0.3167061801150172,
          0.6232171134858586,
          -1.2372893260518747,
          0.29047373135643445,
          0.49676393677461145,
          -0.40009544431157185,
          -0.6510394756853205,
          -0.44290947406893777,
          -0.29682596142417644,
          0.0644692360016033,
          -0.2928272459526088,
          -0.6872377729320505,
          0.046389793355421094,
          0.2335922922739868,
          0.15773324619381274,
          -0.28137416388587394,
          -0.010498011722661257,
          -0.6198764991105468,
          0.12022032542724027,
          -0.22346936733001815,
          -0.6577593085679414,
          -0.1898565418720017,
          -0.6059002408039739,
          -0.018544593050696626,
          0.22709274039800645,
          -0.5768750295102203,
          -0.20549489025250925,
          -0.6577593085679414,
          -0.3606488716750825,
          -0.028034186397627874,
          -0.28137416388587394,
          -0.03155235276327985,
          0.47289617101910164,
          -0.1693415252503825,
          -0.4595787332927483,
          0.1660284058936736,
          -0.5839161967302813,
          -0.6056622459375093,
          0.3858760039765839,
          0.320675080641451,
          0.7815177112469226,
          -0.6172963921516762,
          -0.9541756965986664,
          -0.1744582429172472,
          -0.34849744284091305,
          -0.48402846034274233,
          -0.654574188422009,
          -0.4335952542635244,
          -0.581058686161593,
          -0.28137416388587394,
          0.39111371426963415,
          -0.0752888482417228,
          -0.34825944797444863,
          -0.21252305670218377,
          0.5502015216204289,
          -0.6201144939770112,
          0.21904577283367527,
          -0.651277470551785,
          -0.34849744284091305,
          -0.10440713884426471,
          -0.7249624692897274,
          -0.9760527938219642,
          0.0007019027617599797,
          -0.28137416388587394,
          -0.056316919008639145,
          -0.6510394756853205,
          -0.2811361690194096,
          -0.03792252515248359,
          -0.34849744284091305,
          -0.12509664667561748,
          -0.6201144939770112,
          0.5516192293845614,
          -0.34849744284091305,
          -0.4638369767667547,
          -0.6872377729320505,
          0.37540253523316275,
          -0.10440713884426471,
          -0.29235053673571615,
          0.18037913069752345,
          -0.6121795080387176,
          -0.8499905448006223,
          -0.28137416388587394,
          -0.46181389621594715,
          -0.28137416388587394,
          -0.26280022685390236,
          -0.40388321482483075,
          -0.38090373232296537,
          -0.4762905926156236,
          -0.48079228352633235,
          -0.16105694905588278,
          -0.5007185332185635,
          -0.010700624281471222,
          -0.4494974744930248,
          -0.6872377729320505,
          -0.8485413220351106,
          0.12967932014625624,
          -0.5703876112861218,
          -0.038314474499564204,
          -0.6516352794775847,
          0.0647691068357404,
          -1.1522183299987319,
          0.49000117018611894,
          -0.10416914397780039,
          -0.8499905448006223,
          -0.1762651222798491,
          -0.2919275226707342,
          -0.3492383418137987,
          0.5884435148348491,
          0.11900722942214972,
          0.5888473216994274,
          0.6496252011942463,
          -0.010699979429262966,
          0.09880217374504335,
          0.05355473911943352,
          -0.34849744284091305,
          0.4874351738686542,
          -0.4551767742122498,
          0.9876246323124976,
          -0.17412963196159587,
          -0.9165308820077364,
          0.7004761534703406,
          -0.6872377729320505,
          -1.0125105437473347,
          -0.34849744284091305,
          -0.6510394756853205,
          -0.3144080464173703,
          -0.6872377729320505,
          -0.279004196769378,
          0.44149519957786326,
          -0.9756782983691923,
          -0.19770051064122715,
          -0.019379937002990344,
          -0.059997902381845755,
          -0.10440713884426471,
          -0.9165308820077364,
          0.9280043740666284,
          -0.19053556487721454,
          -0.19053556487721454,
          -0.051521916570229365,
          1.0860669769612277,
          -0.6426749077650864,
          -0.31834853762803256,
          0.2739432337977566,
          -0.09700419821378789,
          -0.1693415252503825,
          -0.9680769312283812,
          -0.582686426677605,
          -0.34849744284091305,
          0.48767316873511873,
          0.7435343283158499,
          0.770569880459631,
          -0.5839161967302813,
          0.10299286435319038,
          0.1345244812588443,
          -0.6426749077650864,
          -0.7473867154442311,
          -0.15308108646229956,
          0.6496252011942463,
          0.6389153652734186,
          0.025462290657604067,
          -0.19770051064122715,
          -0.18961431080567118,
          -0.28137416388587394,
          0.34923244239123963,
          -0.18961431080567118,
          -0.002354172119298738,
          0.09880217374504335,
          0.5995571576202547,
          -0.19043483994631352,
          0.4047939982247127,
          0.8730259973595416,
          -0.33256134764411077,
          -0.530860327100324,
          -0.05541560919848125,
          -0.5385963485602261,
          -0.21008993434186107,
          0.025462290657604067,
          -0.05686916152140148,
          -0.6872377729320505,
          -0.19053556487721454,
          -0.4188276884648326,
          -0.10163930336882333,
          -0.5007185332185635,
          -0.34849744284091305,
          -0.34849744284091305,
          -0.4070954648471607,
          -0.27889408913156244,
          0.05483872743757496,
          -0.1344236949979539,
          0.9876246323124976,
          0.15628672884961242,
          -0.34849744284091305,
          -0.7703396990375383,
          -0.6201144939770112,
          -0.3768168097242371,
          -0.002654042953435895,
          -0.6872377729320505,
          -0.34825944797444863,
          -0.10956582273780407,
          -0.7248825875229804,
          -0.16105694905588278,
          -0.22136046650683103,
          -0.9754403035027281,
          0.09558992372271352,
          0.5424135505757413,
          -0.22793954725663035,
          0.5086184785329027,
          -0.6332734675868569,
          -0.10440713884426471,
          -0.8970006856386915,
          -0.4214321189633371,
          0.9687202101654884,
          -0.0029943461612832625,
          0.7435343283158499,
          0.21624929824050526,
          -0.5777905519165989,
          -0.23570709251973318,
          0.08211210086922216,
          0.40553489719759783,
          0.6600986699376675,
          -0.8118468740312553,
          -0.5777905519165989,
          -0.3484974428409131,
          -0.34849744284091305,
          -0.22649586725748003,
          -0.6512774705517851
         ],
         "yaxis": "y2"
        },
        {
         "legendgroup": "k3_group",
         "marker": {
          "color": "#00CC96",
          "opacity": 0.7,
          "size": 7
         },
         "mode": "markers",
         "name": "K=3, Cluster 2",
         "type": "scatter",
         "x": [
          1.1651480811314663,
          1.3553715534370445,
          1.355371553437043,
          0.7526035587846096,
          0.053200750429996085,
          1.497697569600246,
          1.322755331360171,
          0.6654754601318291,
          0.4625883579603327,
          1.10395397646449,
          -0.33544169162346443,
          0.8582009759278358,
          0.9818636545113033,
          1.355371553437044,
          1.543387922793204,
          0.9443515896655424,
          0.1436392761099656,
          1.31675258566571,
          -0.008514158425123087,
          0.6325306145473796,
          0.2718149348286934,
          0.563612959870775,
          1.3058305345161327,
          0.7122727314559765,
          1.3077693766459086,
          0.7212163825223927,
          0.9665500986907607,
          1.7051635362349837,
          1.4318467093812723,
          0.5085369640029168,
          1.355371553437044,
          1.2817817090684818,
          0.6059426105451668,
          1.0269910565185987,
          0.3789742239967546,
          1.2462801754159418,
          1.6160561572875805,
          1.5725253351888524,
          0.9806898431224577,
          0.8723572380144079,
          0.15308397039642782,
          1.2130942148509631,
          0.9512915046004543,
          1.0643206775687075,
          1.246494878875052,
          1.4091237166030355,
          1.2098942507280972,
          1.606611463001118,
          0.9426817355543063,
          1.7051635362349837,
          1.31675258566571,
          0.5826574654267911,
          1.2243749122790673,
          1.5376474810998388,
          0.8801912202462204
         ],
         "xaxis": "x2",
         "y": [
          -0.9607698796290209,
          -1.5592612499789926,
          -1.5592612499789906,
          -1.073180994365387,
          -1.3221822763473385,
          -0.26846002243452466,
          -0.12049552108419985,
          -0.6752858018074075,
          0.06018220611233758,
          -0.8844715299838383,
          -0.8818423585824674,
          -0.1729157139419048,
          -0.8846033928157356,
          -1.559261249978991,
          -0.36755627311509964,
          -0.6923721565830553,
          -1.1323853414458762,
          -1.4863265738565674,
          -1.4077851875921703,
          -0.40216449749214234,
          -1.1953451013888399,
          -1.5733524826463234,
          0.05097908779117559,
          -0.38297842802412874,
          -0.6052247176049018,
          -1.2584475904672185,
          -0.11740018058298991,
          -0.4052010877060299,
          -0.567373144868714,
          -1.151102323749925,
          -1.559261249978991,
          -0.9496306329919267,
          -0.8622534537080249,
          -1.2628448619482657,
          -0.8401761092626682,
          -1.112383626194477,
          -1.0288582966891924,
          -0.08099364381423364,
          -1.0022810082480138,
          0.09614250849260306,
          -1.4456679970495652,
          -0.33289291223405637,
          -0.5034054374882955,
          -0.02065837143073963,
          -0.02857794815749798,
          -0.366112595898865,
          -0.24324034281354104,
          -0.7155756410855026,
          -1.090813935145267,
          -0.4052010877060299,
          -1.4863265738565674,
          -1.0612840066697982,
          -0.5273651947294827,
          -0.6811683680287485,
          0.4509368003344325
         ],
         "yaxis": "y2"
        }
       ],
       "layout": {
        "annotations": [
         {
          "font": {
           "size": 16
          },
          "showarrow": false,
          "text": "Clusters com K=2",
          "x": 0.225,
          "xanchor": "center",
          "xref": "paper",
          "y": 1,
          "yanchor": "bottom",
          "yref": "paper"
         },
         {
          "font": {
           "size": 16
          },
          "showarrow": false,
          "text": "Clusters com K=3",
          "x": 0.775,
          "xanchor": "center",
          "xref": "paper",
          "y": 1,
          "yanchor": "bottom",
          "yref": "paper"
         }
        ],
        "height": 550,
        "hovermode": "closest",
        "legend": {
         "title": {
          "text": "Legenda dos Clusters"
         }
        },
        "template": {
         "data": {
          "bar": [
           {
            "error_x": {
             "color": "#2a3f5f"
            },
            "error_y": {
             "color": "#2a3f5f"
            },
            "marker": {
             "line": {
              "color": "#E5ECF6",
              "width": 0.5
             },
             "pattern": {
              "fillmode": "overlay",
              "size": 10,
              "solidity": 0.2
             }
            },
            "type": "bar"
           }
          ],
          "barpolar": [
           {
            "marker": {
             "line": {
              "color": "#E5ECF6",
              "width": 0.5
             },
             "pattern": {
              "fillmode": "overlay",
              "size": 10,
              "solidity": 0.2
             }
            },
            "type": "barpolar"
           }
          ],
          "carpet": [
           {
            "aaxis": {
             "endlinecolor": "#2a3f5f",
             "gridcolor": "white",
             "linecolor": "white",
             "minorgridcolor": "white",
             "startlinecolor": "#2a3f5f"
            },
            "baxis": {
             "endlinecolor": "#2a3f5f",
             "gridcolor": "white",
             "linecolor": "white",
             "minorgridcolor": "white",
             "startlinecolor": "#2a3f5f"
            },
            "type": "carpet"
           }
          ],
          "choropleth": [
           {
            "colorbar": {
             "outlinewidth": 0,
             "ticks": ""
            },
            "type": "choropleth"
           }
          ],
          "contour": [
           {
            "colorbar": {
             "outlinewidth": 0,
             "ticks": ""
            },
            "colorscale": [
             [
              0,
              "#0d0887"
             ],
             [
              0.1111111111111111,
              "#46039f"
             ],
             [
              0.2222222222222222,
              "#7201a8"
             ],
             [
              0.3333333333333333,
              "#9c179e"
             ],
             [
              0.4444444444444444,
              "#bd3786"
             ],
             [
              0.5555555555555556,
              "#d8576b"
             ],
             [
              0.6666666666666666,
              "#ed7953"
             ],
             [
              0.7777777777777778,
              "#fb9f3a"
             ],
             [
              0.8888888888888888,
              "#fdca26"
             ],
             [
              1,
              "#f0f921"
             ]
            ],
            "type": "contour"
           }
          ],
          "contourcarpet": [
           {
            "colorbar": {
             "outlinewidth": 0,
             "ticks": ""
            },
            "type": "contourcarpet"
           }
          ],
          "heatmap": [
           {
            "colorbar": {
             "outlinewidth": 0,
             "ticks": ""
            },
            "colorscale": [
             [
              0,
              "#0d0887"
             ],
             [
              0.1111111111111111,
              "#46039f"
             ],
             [
              0.2222222222222222,
              "#7201a8"
             ],
             [
              0.3333333333333333,
              "#9c179e"
             ],
             [
              0.4444444444444444,
              "#bd3786"
             ],
             [
              0.5555555555555556,
              "#d8576b"
             ],
             [
              0.6666666666666666,
              "#ed7953"
             ],
             [
              0.7777777777777778,
              "#fb9f3a"
             ],
             [
              0.8888888888888888,
              "#fdca26"
             ],
             [
              1,
              "#f0f921"
             ]
            ],
            "type": "heatmap"
           }
          ],
          "heatmapgl": [
           {
            "colorbar": {
             "outlinewidth": 0,
             "ticks": ""
            },
            "colorscale": [
             [
              0,
              "#0d0887"
             ],
             [
              0.1111111111111111,
              "#46039f"
             ],
             [
              0.2222222222222222,
              "#7201a8"
             ],
             [
              0.3333333333333333,
              "#9c179e"
             ],
             [
              0.4444444444444444,
              "#bd3786"
             ],
             [
              0.5555555555555556,
              "#d8576b"
             ],
             [
              0.6666666666666666,
              "#ed7953"
             ],
             [
              0.7777777777777778,
              "#fb9f3a"
             ],
             [
              0.8888888888888888,
              "#fdca26"
             ],
             [
              1,
              "#f0f921"
             ]
            ],
            "type": "heatmapgl"
           }
          ],
          "histogram": [
           {
            "marker": {
             "pattern": {
              "fillmode": "overlay",
              "size": 10,
              "solidity": 0.2
             }
            },
            "type": "histogram"
           }
          ],
          "histogram2d": [
           {
            "colorbar": {
             "outlinewidth": 0,
             "ticks": ""
            },
            "colorscale": [
             [
              0,
              "#0d0887"
             ],
             [
              0.1111111111111111,
              "#46039f"
             ],
             [
              0.2222222222222222,
              "#7201a8"
             ],
             [
              0.3333333333333333,
              "#9c179e"
             ],
             [
              0.4444444444444444,
              "#bd3786"
             ],
             [
              0.5555555555555556,
              "#d8576b"
             ],
             [
              0.6666666666666666,
              "#ed7953"
             ],
             [
              0.7777777777777778,
              "#fb9f3a"
             ],
             [
              0.8888888888888888,
              "#fdca26"
             ],
             [
              1,
              "#f0f921"
             ]
            ],
            "type": "histogram2d"
           }
          ],
          "histogram2dcontour": [
           {
            "colorbar": {
             "outlinewidth": 0,
             "ticks": ""
            },
            "colorscale": [
             [
              0,
              "#0d0887"
             ],
             [
              0.1111111111111111,
              "#46039f"
             ],
             [
              0.2222222222222222,
              "#7201a8"
             ],
             [
              0.3333333333333333,
              "#9c179e"
             ],
             [
              0.4444444444444444,
              "#bd3786"
             ],
             [
              0.5555555555555556,
              "#d8576b"
             ],
             [
              0.6666666666666666,
              "#ed7953"
             ],
             [
              0.7777777777777778,
              "#fb9f3a"
             ],
             [
              0.8888888888888888,
              "#fdca26"
             ],
             [
              1,
              "#f0f921"
             ]
            ],
            "type": "histogram2dcontour"
           }
          ],
          "mesh3d": [
           {
            "colorbar": {
             "outlinewidth": 0,
             "ticks": ""
            },
            "type": "mesh3d"
           }
          ],
          "parcoords": [
           {
            "line": {
             "colorbar": {
              "outlinewidth": 0,
              "ticks": ""
             }
            },
            "type": "parcoords"
           }
          ],
          "pie": [
           {
            "automargin": true,
            "type": "pie"
           }
          ],
          "scatter": [
           {
            "fillpattern": {
             "fillmode": "overlay",
             "size": 10,
             "solidity": 0.2
            },
            "type": "scatter"
           }
          ],
          "scatter3d": [
           {
            "line": {
             "colorbar": {
              "outlinewidth": 0,
              "ticks": ""
             }
            },
            "marker": {
             "colorbar": {
              "outlinewidth": 0,
              "ticks": ""
             }
            },
            "type": "scatter3d"
           }
          ],
          "scattercarpet": [
           {
            "marker": {
             "colorbar": {
              "outlinewidth": 0,
              "ticks": ""
             }
            },
            "type": "scattercarpet"
           }
          ],
          "scattergeo": [
           {
            "marker": {
             "colorbar": {
              "outlinewidth": 0,
              "ticks": ""
             }
            },
            "type": "scattergeo"
           }
          ],
          "scattergl": [
           {
            "marker": {
             "colorbar": {
              "outlinewidth": 0,
              "ticks": ""
             }
            },
            "type": "scattergl"
           }
          ],
          "scattermapbox": [
           {
            "marker": {
             "colorbar": {
              "outlinewidth": 0,
              "ticks": ""
             }
            },
            "type": "scattermapbox"
           }
          ],
          "scatterpolar": [
           {
            "marker": {
             "colorbar": {
              "outlinewidth": 0,
              "ticks": ""
             }
            },
            "type": "scatterpolar"
           }
          ],
          "scatterpolargl": [
           {
            "marker": {
             "colorbar": {
              "outlinewidth": 0,
              "ticks": ""
             }
            },
            "type": "scatterpolargl"
           }
          ],
          "scatterternary": [
           {
            "marker": {
             "colorbar": {
              "outlinewidth": 0,
              "ticks": ""
             }
            },
            "type": "scatterternary"
           }
          ],
          "surface": [
           {
            "colorbar": {
             "outlinewidth": 0,
             "ticks": ""
            },
            "colorscale": [
             [
              0,
              "#0d0887"
             ],
             [
              0.1111111111111111,
              "#46039f"
             ],
             [
              0.2222222222222222,
              "#7201a8"
             ],
             [
              0.3333333333333333,
              "#9c179e"
             ],
             [
              0.4444444444444444,
              "#bd3786"
             ],
             [
              0.5555555555555556,
              "#d8576b"
             ],
             [
              0.6666666666666666,
              "#ed7953"
             ],
             [
              0.7777777777777778,
              "#fb9f3a"
             ],
             [
              0.8888888888888888,
              "#fdca26"
             ],
             [
              1,
              "#f0f921"
             ]
            ],
            "type": "surface"
           }
          ],
          "table": [
           {
            "cells": {
             "fill": {
              "color": "#EBF0F8"
             },
             "line": {
              "color": "white"
             }
            },
            "header": {
             "fill": {
              "color": "#C8D4E3"
             },
             "line": {
              "color": "white"
             }
            },
            "type": "table"
           }
          ]
         },
         "layout": {
          "annotationdefaults": {
           "arrowcolor": "#2a3f5f",
           "arrowhead": 0,
           "arrowwidth": 1
          },
          "autotypenumbers": "strict",
          "coloraxis": {
           "colorbar": {
            "outlinewidth": 0,
            "ticks": ""
           }
          },
          "colorscale": {
           "diverging": [
            [
             0,
             "#8e0152"
            ],
            [
             0.1,
             "#c51b7d"
            ],
            [
             0.2,
             "#de77ae"
            ],
            [
             0.3,
             "#f1b6da"
            ],
            [
             0.4,
             "#fde0ef"
            ],
            [
             0.5,
             "#f7f7f7"
            ],
            [
             0.6,
             "#e6f5d0"
            ],
            [
             0.7,
             "#b8e186"
            ],
            [
             0.8,
             "#7fbc41"
            ],
            [
             0.9,
             "#4d9221"
            ],
            [
             1,
             "#276419"
            ]
           ],
           "sequential": [
            [
             0,
             "#0d0887"
            ],
            [
             0.1111111111111111,
             "#46039f"
            ],
            [
             0.2222222222222222,
             "#7201a8"
            ],
            [
             0.3333333333333333,
             "#9c179e"
            ],
            [
             0.4444444444444444,
             "#bd3786"
            ],
            [
             0.5555555555555556,
             "#d8576b"
            ],
            [
             0.6666666666666666,
             "#ed7953"
            ],
            [
             0.7777777777777778,
             "#fb9f3a"
            ],
            [
             0.8888888888888888,
             "#fdca26"
            ],
            [
             1,
             "#f0f921"
            ]
           ],
           "sequentialminus": [
            [
             0,
             "#0d0887"
            ],
            [
             0.1111111111111111,
             "#46039f"
            ],
            [
             0.2222222222222222,
             "#7201a8"
            ],
            [
             0.3333333333333333,
             "#9c179e"
            ],
            [
             0.4444444444444444,
             "#bd3786"
            ],
            [
             0.5555555555555556,
             "#d8576b"
            ],
            [
             0.6666666666666666,
             "#ed7953"
            ],
            [
             0.7777777777777778,
             "#fb9f3a"
            ],
            [
             0.8888888888888888,
             "#fdca26"
            ],
            [
             1,
             "#f0f921"
            ]
           ]
          },
          "colorway": [
           "#636efa",
           "#EF553B",
           "#00cc96",
           "#ab63fa",
           "#FFA15A",
           "#19d3f3",
           "#FF6692",
           "#B6E880",
           "#FF97FF",
           "#FECB52"
          ],
          "font": {
           "color": "#2a3f5f"
          },
          "geo": {
           "bgcolor": "white",
           "lakecolor": "white",
           "landcolor": "#E5ECF6",
           "showlakes": true,
           "showland": true,
           "subunitcolor": "white"
          },
          "hoverlabel": {
           "align": "left"
          },
          "hovermode": "closest",
          "mapbox": {
           "style": "light"
          },
          "paper_bgcolor": "white",
          "plot_bgcolor": "#E5ECF6",
          "polar": {
           "angularaxis": {
            "gridcolor": "white",
            "linecolor": "white",
            "ticks": ""
           },
           "bgcolor": "#E5ECF6",
           "radialaxis": {
            "gridcolor": "white",
            "linecolor": "white",
            "ticks": ""
           }
          },
          "scene": {
           "xaxis": {
            "backgroundcolor": "#E5ECF6",
            "gridcolor": "white",
            "gridwidth": 2,
            "linecolor": "white",
            "showbackground": true,
            "ticks": "",
            "zerolinecolor": "white"
           },
           "yaxis": {
            "backgroundcolor": "#E5ECF6",
            "gridcolor": "white",
            "gridwidth": 2,
            "linecolor": "white",
            "showbackground": true,
            "ticks": "",
            "zerolinecolor": "white"
           },
           "zaxis": {
            "backgroundcolor": "#E5ECF6",
            "gridcolor": "white",
            "gridwidth": 2,
            "linecolor": "white",
            "showbackground": true,
            "ticks": "",
            "zerolinecolor": "white"
           }
          },
          "shapedefaults": {
           "line": {
            "color": "#2a3f5f"
           }
          },
          "ternary": {
           "aaxis": {
            "gridcolor": "white",
            "linecolor": "white",
            "ticks": ""
           },
           "baxis": {
            "gridcolor": "white",
            "linecolor": "white",
            "ticks": ""
           },
           "bgcolor": "#E5ECF6",
           "caxis": {
            "gridcolor": "white",
            "linecolor": "white",
            "ticks": ""
           }
          },
          "title": {
           "x": 0.05
          },
          "xaxis": {
           "automargin": true,
           "gridcolor": "white",
           "linecolor": "white",
           "ticks": "",
           "title": {
            "standoff": 15
           },
           "zerolinecolor": "white",
           "zerolinewidth": 2
          },
          "yaxis": {
           "automargin": true,
           "gridcolor": "white",
           "linecolor": "white",
           "ticks": "",
           "title": {
            "standoff": 15
           },
           "zerolinecolor": "white",
           "zerolinewidth": 2
          }
         }
        },
        "width": 1300,
        "xaxis": {
         "anchor": "y",
         "domain": [
          0,
          0.45
         ],
         "title": {
          "text": "PC1"
         }
        },
        "xaxis2": {
         "anchor": "y2",
         "domain": [
          0.55,
          1
         ],
         "title": {
          "text": "PC1"
         }
        },
        "yaxis": {
         "anchor": "x",
         "domain": [
          0,
          1
         ],
         "title": {
          "text": "PC2"
         }
        },
        "yaxis2": {
         "anchor": "x2",
         "domain": [
          0,
          1
         ],
         "title": {
          "text": "PC2"
         }
        }
       }
      }
     },
     "metadata": {},
     "output_type": "display_data"
    }
   ],
   "source": [
    "# Grafico Comparativo de K2 e k3\n",
    "fig = make_subplots(rows=1, cols=2, subplot_titles=('Clusters com K=2', 'Clusters com K=3'))\n",
    "unique_clusters_k2 = sorted(df_clusters_k2['Cluster'].unique())\n",
    "if len(unique_clusters_k2) > 1:\n",
    "    colors_k2 = pcolors.sample_colorscale(\"Viridis\", np.linspace(0, 1, len(unique_clusters_k2)))\n",
    "elif len(unique_clusters_k2) == 1:\n",
    "    colors_k2 = [pcolors.sample_colorscale(\"Viridis\", 0.5)[0]]\n",
    "else:\n",
    "    colors_k2 = []\n",
    "for i, cluster_val in enumerate(unique_clusters_k2):\n",
    "    df_subset = df_clusters_k2[df_clusters_k2['Cluster'] == cluster_val]\n",
    "    fig.add_trace(go.Scatter(\n",
    "        x=df_subset['PC1'],\n",
    "        y=df_subset['PC2'],\n",
    "        mode='markers',\n",
    "        marker=dict(\n",
    "            color=colors_k2[i],\n",
    "            opacity=0.7,\n",
    "            size=7\n",
    "        ),\n",
    "        name=f'K=2, Cluster {cluster_val}',\n",
    "        legendgroup='k2_group'\n",
    "    ), row=1, col=1)\n",
    "unique_clusters_k3 = sorted(df_clusters_k3['Cluster'].unique())\n",
    "qualitative_palette_for_k3 = pcolors.qualitative.Plotly\n",
    "if len(unique_clusters_k3) > 0:\n",
    "    colors_k3 = [qualitative_palette_for_k3[j % len(qualitative_palette_for_k3)] for j in range(len(unique_clusters_k3))]\n",
    "else:\n",
    "    colors_k3 = []\n",
    "\n",
    "for i, cluster_val in enumerate(unique_clusters_k3):\n",
    "    df_subset = df_clusters_k3[df_clusters_k3['Cluster'] == cluster_val]\n",
    "    fig.add_trace(go.Scatter(\n",
    "        x=df_subset['PC1'],\n",
    "        y=df_subset['PC2'],\n",
    "        mode='markers',\n",
    "        marker=dict(\n",
    "            color=colors_k3[i],\n",
    "            opacity=0.7,\n",
    "            size=7\n",
    "        ),\n",
    "        name=f'K=3, Cluster {cluster_val}',\n",
    "        legendgroup='k3_group'\n",
    "    ), row=1, col=2)\n",
    "fig.update_xaxes(title_text=\"PC1\", row=1, col=1)\n",
    "fig.update_yaxes(title_text=\"PC2\", row=1, col=1)\n",
    "fig.update_xaxes(title_text=\"PC1\", row=1, col=2)\n",
    "fig.update_yaxes(title_text=\"PC2\", row=1, col=2)\n",
    "fig.update_layout(\n",
    "    width=1300,\n",
    "    height=550,\n",
    "    legend_title_text='Legenda dos Clusters',\n",
    "    hovermode='closest'\n",
    ")\n",
    "fig.show()"
   ]
  },
  {
   "cell_type": "markdown",
   "id": "a31b2a04",
   "metadata": {},
   "source": [
    "Plotando o centro de cada cluster"
   ]
  },
  {
   "cell_type": "code",
   "execution_count": 39,
   "id": "2bacb73a",
   "metadata": {},
   "outputs": [
    {
     "data": {
      "application/vnd.plotly.v1+json": {
       "config": {
        "plotlyServerURL": "https://plot.ly"
       },
       "data": [
        {
         "marker": {
          "color": "red",
          "opacity": 0.7,
          "size": 8
         },
         "mode": "markers",
         "name": "Cluster 0",
         "type": "scatter",
         "x": [
          0.9470665013008686,
          -0.24171453372932847,
          0.8588021332452077,
          1.3305133090206178,
          0.2977406183048445,
          0.3741412602919578,
          0.9335249959496839,
          0.6462623972347119,
          -0.22559634829899974,
          0.07001997350641655,
          0.7010865897550869,
          0.032688664313734885,
          0.24309391040469916,
          0.005156102677577754,
          1.2496347039277362,
          0.7481322891704522,
          0.48023921858359236,
          0.2648672255102003,
          0.40578845823249254,
          0.16258580124373495,
          0.2979181029250739,
          -0.4051164607890124,
          1.3326559271033227,
          0.6008879852538621,
          0.8653230760774157,
          0.43909449551290264,
          0.766683280772741,
          0.3680448655676101,
          0.6673484371894807,
          0.3050402565263506,
          0.10338659456171384,
          0.23810432688456104,
          0.4839263195991585,
          0.15573160440039582,
          0.20377071599913651,
          -0.04611314072943637,
          0.9641979798747319,
          0.5094426300042455,
          0.7267232565014483,
          0.2977406183048442,
          0.4812430602934597,
          0.23649351718063694,
          1.0345739501683855,
          0.3342934613192179,
          0.5644648417271368,
          0.2977406183048442,
          0.5292205711906778,
          1.058889765766102,
          0.681681181237455,
          0.34526859848841984,
          0.335283615748821,
          0.5312195583165532,
          0.2977406183048442,
          0.2574553909045898,
          0.44013818814927486,
          1.10640648836947,
          0.9408998949580604,
          0.0006700897664631682,
          0.2979181029250739,
          0.23397154515794297,
          0.5293164805096788,
          0.1633841364477033,
          0.2979181029250739,
          0.26405578412865194,
          -0.14997805593757912,
          0.1767719926405331,
          0.040790818489785774,
          1.2738243583101383,
          1.0052688913702919,
          0.021617742763603072,
          0.3078371387925793,
          0.36225651895281497,
          0.8824419198115333,
          0.09776027994532613,
          0.6464398818549417,
          1.098548812525707,
          0.2314187005406782,
          -0.08167956812651406,
          0.3378613470281666,
          0.6314054633383722,
          0.27272695575523703,
          -0.29356809184132737,
          0.15962823769549217,
          0.07097433702922919,
          0.2830488070840296,
          0.2977406183048442,
          0.24695207367248342,
          0.34251185861621297,
          0.1839950471348491,
          -0.11513103986679192,
          0.8371689880039012,
          0.7758276844589896,
          -0.241941768040069,
          0.4818873234057486,
          0.2977406183048442,
          0.6029683289652303,
          0.8341387893763234,
          0.2977406183048442,
          0.3923513347749762,
          -0.050966786582861946,
          0.5066375905336703,
          0.39974363858110706,
          0.600308608150896,
          -0.02452341736215348,
          0.20723191289482396,
          0.9467541055693532,
          0.7009091051348576,
          -0.06451997985466061,
          -0.07112037307872275,
          -0.6287648351290105,
          -0.4038144421725294,
          0.48011505235277663,
          0.9381727666184214,
          0.7948426749385387,
          0.5269875281071884,
          0.20665253579185827,
          -0.5406107776729021,
          0.896423505399133,
          0.2362701777800518,
          0.2977406183048442,
          0.45951623174662515,
          -0.04949060522256738,
          0.5707213260890014,
          0.14693130734846108,
          1.2767606183606395,
          1.0311040036556578,
          1.3305133090206154,
          -0.007193852851176088,
          0.22582662348573118,
          0.5397175977098366,
          0.9837928181173374,
          0.3741590565567453,
          -0.07207473660153584,
          -0.0991591775536657,
          0.2977406183048442,
          0.407482970136334,
          0.40770192823733686,
          0.2178573659312709,
          0.5214441534058796,
          0.642339127026801,
          0.32515974988948415,
          0.7548894240101753,
          0.6704061968367591,
          0.21116184842803168,
          0.0006700897664631682,
          0.061554080312603066,
          1.177885714563323,
          0.2302741303301455,
          0.4932207642118227,
          0.42521288852973044,
          0.2592100054757385,
          1.425948580235833,
          0.32868506489638255,
          0.22188204726611516,
          0.699183511948212,
          0.22055411998943208,
          -0.1058128891671418,
          0.2977406183048442,
          -0.004744502668254391,
          0.595125550074579,
          -0.20473655920373854,
          0.25432227903547633,
          0.5850936650212316,
          0.2742764708472025,
          1.2595211813793983,
          0.6335667833909744,
          0.5136058396388897,
          -0.06583602496363992,
          -0.2463847436063721,
          0.030369308095199624,
          0.1523293375133285,
          0.4578876992506592,
          0.2642332687488814,
          0.8548207759589992,
          0.24815930041877912,
          0.6164214158459334,
          0.6493576891196037,
          0.29131770970101145,
          0.2977406183048442,
          0.02938149327451204,
          1.2117915456335988,
          0.34351856706262873,
          0.2977406183048442,
          0.6479232787111284,
          0.30490087874207855,
          0.862156298320824,
          0.44261371199767235,
          -0.06583602496363992,
          0.17266625116857612,
          0.35691440071866576,
          0.7961687539223926,
          0.6729635349216767,
          -0.5330036760024243,
          0.20896223499526312,
          1.298090265377075,
          0.2977406183048442,
          0.8255236964941434,
          0.5113407951563538,
          0.1863219488448077,
          0.4582912376065422,
          0.2977406183048442,
          0.7773097471219733,
          0.3086838890766457,
          0.10127223104462246,
          -0.09533134803743393,
          0.9561065618779788
         ],
         "y": [
          0.4867759156508626,
          0.3475578268334126,
          0.03394342318168781,
          0.4893121222554774,
          -0.3581956369093537,
          0.35574833146569196,
          0.31015515825819484,
          0.1672613734407929,
          1.4684020400532873,
          0.3664574102815392,
          0.01694043097403664,
          0.24654778769601987,
          -0.20763669957613187,
          1.1194547781477462,
          0.3861505121895557,
          0.7526218481375561,
          1.0693867345737547,
          0.18160087571452363,
          0.7009452180261313,
          0.8561223032061477,
          -0.3579576420428887,
          0.7741084847319712,
          -0.04726416983620031,
          0.33500774130282457,
          0.9387770509512078,
          -0.19968151643289248,
          0.4766810836430212,
          0.16114548867975037,
          0.6186137658471254,
          0.30922975303739964,
          0.7251469940833515,
          -0.27375482571722487,
          1.6155168121605967,
          0.5977728496726594,
          0.08536859184139466,
          0.5461568884909352,
          0.2508373752573977,
          -0.305310414635318,
          -0.19542775820787953,
          -0.35819563690935324,
          1.1656220123424175,
          0.13130107106052813,
          -0.10055803433262198,
          0.3242758137332791,
          0.12058334151324618,
          -0.35819563690935324,
          1.1601114164746147,
          0.3113441117257992,
          0.41829692542068636,
          1.6319445831062507,
          -0.13058287271845403,
          0.5279130816262378,
          -0.35819563690935324,
          0.22483243772395495,
          1.0006547176240586,
          0.05717981888546166,
          0.5600936945309933,
          -0.019455306818215806,
          -0.3579576420428887,
          0.866415416850911,
          0.6570412875114217,
          -0.10363186416928384,
          -0.3579576420428887,
          -0.1141053329127049,
          0.6287270926413849,
          0.10254626876521715,
          1.2208669259785194,
          0.027982250431461235,
          0.35794010083230454,
          0.4070185648700823,
          0.8530662283250889,
          0.515530184511821,
          -0.1932984714655336,
          0.6058374992844096,
          0.16749936830725823,
          0.001977957750226569,
          -0.04801266856800428,
          0.3683519227339305,
          0.8821265958873818,
          -0.4754561073495474,
          -0.005790306996840241,
          0.16298592973016454,
          0.7347744737658178,
          0.499885818770888,
          0.45406996978857816,
          -0.35819563690935324,
          0.26406636861141575,
          0.19768637342330025,
          1.5041243475670905,
          1.0468940652661798,
          -0.5693160849686256,
          0.5889797114104975,
          1.1408760776784592,
          -0.14129270863928092,
          -0.35819563690935324,
          0.4327027966799258,
          -0.21898501188342373,
          -0.35819563690935324,
          -0.5209484087779249,
          -0.02495746816128692,
          0.6907097441491742,
          0.308929105033584,
          0.8340083125530309,
          1.3068952719327758,
          0.26754351428772977,
          0.41931875296590837,
          0.016702436107572043,
          0.4243940648789462,
          0.7633318355156063,
          1.093503967036364,
          0.12374030839204943,
          0.7115657088308492,
          0.22216831218997693,
          0.20635933595386108,
          0.36390280921610274,
          0.7665440855379362,
          0.6986167308400297,
          0.16599286402222896,
          -0.036432189910293435,
          -0.35819563690935324,
          -0.39584045150028324,
          1.2700137154809679,
          0.4033196923816112,
          0.8613760050219526,
          0.020006387837878073,
          0.8444824261486603,
          0.4893121222554765,
          1.0441198275196597,
          0.8553790570602398,
          0.9581752699311137,
          0.352837861430504,
          0.5428832599837399,
          0.6299034270262573,
          0.5350559603862455,
          -0.35819563690935324,
          0.21459059785136325,
          -0.24616299827386176,
          1.2602720384369068,
          -0.587488745985039,
          1.293204253015114,
          -0.14127667876021363,
          0.255676573866326,
          -0.35840215442165846,
          0.17635366190371687,
          -0.019455306818215806,
          0.34950516944365184,
          0.7079460635316884,
          0.4587699363282583,
          0.5316594603501078,
          0.18034561135530133,
          0.812417899312303,
          0.053335528907608065,
          0.6560403020233533,
          0.29890096466223887,
          0.14606863685922028,
          0.8161120058938943,
          1.2315767618993463,
          -0.35819563690935324,
          0.8841744136764931,
          0.05092215707214286,
          0.22046595752406303,
          1.1372915690141232,
          1.00250145048518,
          1.4549775580646422,
          0.31234509721386733,
          1.1914890350880887,
          1.428076318375567,
          0.9424877531061365,
          -0.13959216654954923,
          0.9646944152437935,
          0.9185851929350745,
          0.7883063331287044,
          -0.11386733804624041,
          1.0426327558545176,
          0.4322728141396239,
          0.8025043879182014,
          1.002284297675869,
          -0.019019871406228753,
          -0.35819563690935324,
          0.1985720248559783,
          -0.39246064535176595,
          0.2513095722896028,
          -0.35819563690935324,
          0.5495431574292419,
          0.8610420909186716,
          0.40042925380313993,
          1.251109293333958,
          0.9424877531061365,
          0.11745741883892176,
          0.4407207812627557,
          1.2498415033993568,
          0.6992687858691436,
          0.4133021590696723,
          1.5410059040188986,
          -0.1973502652850087,
          -0.35819563690935324,
          1.2281040546108823,
          0.021087533602287142,
          0.7209739689455071,
          1.1654847424068537,
          -0.35819563690935324,
          0.730646404482617,
          0.9041020395423216,
          0.43972895991398314,
          0.47816815530816326,
          0.7241652113186691
         ]
        },
        {
         "marker": {
          "color": "blue",
          "opacity": 0.7,
          "size": 8
         },
         "mode": "markers",
         "name": "Cluster 1",
         "type": "scatter",
         "x": [
          0.26416047483604493,
          -0.6139114704750105,
          -1.0794589065722837,
          -0.983375424839836,
          -0.9584902809079727,
          -0.6257370446487585,
          -0.5650833828648198,
          -0.7347867458069371,
          -0.7204432156479074,
          -1.2493259380108177,
          -0.1954969612183276,
          -1.0311507256097066,
          -0.2815244392453267,
          -0.24699503037910236,
          -0.25147338769528654,
          -0.6949271019255546,
          -0.4448315989836734,
          -0.5628843269129188,
          -0.8533227128264584,
          -0.6614197523695914,
          -1.0466443383640802,
          -1.076501343024041,
          -0.6566253762617248,
          -1.0631672427253827,
          -1.0428165088478487,
          -0.7659192295667719,
          -1.082395166622785,
          -0.6743359369143322,
          -0.6043211007452209,
          -0.42835036043554847,
          -0.6004938700756518,
          -1.0076751560728054,
          0.009387302859045378,
          -0.44519378734760806,
          0.11441006365764403,
          -0.6043211007452209,
          -0.39294497695718733,
          -0.31137910920132794,
          -1.0631672427253827,
          -0.7257917884977417,
          -1.1945017454904432,
          -0.9532059327928901,
          -0.35022088251354094,
          -0.35225136929947776,
          -0.3561503495126965,
          -0.6003163854554223,
          -0.748267952332162,
          -0.5423090447981317,
          -0.686052008529131,
          0.32005564426482586,
          -0.2759406038267757,
          0.1889025935862243,
          -0.9584902809079727,
          -0.4149745943237128,
          -0.5994248159896916,
          -0.41097454203307104,
          -0.15163576373525253,
          -1.0631672427253827,
          -0.5437065027809893,
          -0.5764243508467295,
          -0.9583127962877432,
          -0.8642199542216736,
          -0.5408560810780282,
          -0.7660967141870016,
          -0.2958932889395004,
          -0.2516508723155162,
          -0.9584902809079727,
          -0.9921751150841649,
          -0.28265469190581927,
          0.01076807051296736,
          -0.7602946561669078,
          -1.0631672427253827,
          -0.8160045555568723,
          -0.25147338769528654,
          -1.0629897581051528,
          -0.48934616050715146,
          -0.9584902809079727,
          -0.5784009208936285,
          -0.7660967141870016,
          -0.5582141170358673,
          -0.9584902809079727,
          -0.28133039235524737,
          -0.6614197523695914,
          -0.6475963046512135,
          -0.9921751150841649,
          -0.7495738098256994,
          -0.3991905998296176,
          -0.1030705946116899,
          -0.5668090358994596,
          -1.0631672427253827,
          -0.20282278470531462,
          -1.0631672427253827,
          -0.6291642618774939,
          0.29051580673407335,
          0.06081181432063574,
          -0.4180883389944435,
          -0.5333289731040035,
          -0.9881698009477037,
          -0.30629758021566134,
          -0.42306601232046576,
          -0.6627255640797594,
          -0.6614197523695914,
          0.21027721266581442,
          -0.8756548854083833,
          -0.09426925497864677,
          -1.0248121986721386,
          -0.34274653594283316,
          -0.7197202804354731,
          -0.30448653302709017,
          -1.1120118926054339,
          -0.9919976304639354,
          -0.5668090358994596,
          -0.8312867838081254,
          -0.6574933006866768,
          -0.7457459803094679,
          -0.3579623763506746,
          -0.2489714532121766,
          -0.5020002789065126,
          -1.1236871024694546,
          0.10840103086524452,
          -0.7457299570382859,
          -0.40630433215601974,
          -0.9584902809079727,
          -0.5376349947187209,
          -0.471688063374402,
          -1.2080133304093312,
          -0.03782280480325727,
          -0.43771621726855625,
          -0.24800106641818204,
          -0.6614197523695914,
          -0.3827624931567557,
          -0.9584902809079727,
          -0.25147338769528654,
          -0.8106423004074892,
          -0.6614197523695914,
          -0.0857463773531217,
          -0.6802333882391873,
          -0.3359755155016475,
          -1.0129595041878883,
          -0.367685364384686,
          -0.288552143230674,
          -0.9921751150841649,
          -0.43771621726855625,
          -1.0170602590160291,
          -0.37261949797982735,
          -0.37261949797982735,
          -0.7804731033847633,
          -0.4539638141545719,
          -0.6142434195500568,
          -0.6147793948999734,
          0.10049508366103682,
          -0.3516576242558746,
          -0.9532059327928901,
          0.007831810462466844,
          -0.5112517813936841,
          -0.9584902809079727,
          -0.5374575100984913,
          -1.1743284962331388,
          -0.5396257854924327,
          -0.3561503495126965,
          -0.38298537508057656,
          -0.33613856160444033,
          -0.6142434195500568,
          -0.16855290303502288,
          -0.9911060609982046,
          -1.1236871024694546,
          -0.977083394812527,
          -0.6330476287937736,
          -1.0129595041878883,
          -0.7574211901734887,
          -1.0631672427253827,
          -0.7730576555723464,
          -0.7574211901734887,
          -0.6150433186180634,
          -0.7457299570382859,
          -0.6486039865634401,
          -0.3953938360465154,
          -0.8772579676947574,
          -0.7435977424551106,
          -0.013421298497205924,
          -0.05824585719798869,
          -0.4090987902876122,
          0.14377781028141848,
          -0.44759168485733264,
          -0.6330476287937736,
          -0.3714876498367854,
          -0.6614197523695914,
          -0.37261949797982735,
          0.05171545273450388,
          -0.5593723758136226,
          -0.30629758021566134,
          -0.9584902809079727,
          -0.9584902809079727,
          0.012742897863492085,
          -0.21327452476453074,
          -0.7527902465646651,
          0.20810676621144641,
          -1.2080133304093312,
          -0.08490339814563932,
          -0.9584902809079727,
          0.06618830585431641,
          -0.7660967141870016,
          -0.727564185513528,
          -0.45820736509550913,
          -0.6614197523695914,
          -0.9583127962877432,
          -0.30245372742824805,
          -0.49964413892781084,
          -0.9881698009477037,
          -0.412237552740511,
          -0.33579803088141796,
          -1.0235028659088672,
          -0.8110975112796392,
          0.018027245978574826,
          -0.7849103500565969,
          -0.07672554105102568,
          -0.9921751150841649,
          -0.47970945307268625,
          -0.9198713131366387,
          -0.7159090131890913,
          -0.42507335608624663,
          -1.1743284962331388,
          -1.1591686805292796,
          -0.7347867458069371,
          -0.7044006770315945,
          -0.6370529429302351,
          -1.0900022682932626,
          -1.2243587501504034,
          0.22651324518844254,
          -0.7347867458069371,
          -0.9584902809079728,
          -0.9584902809079727,
          -0.7823883780339025,
          -0.2516508723155162
         ],
         "y": [
          -1.0818851848423077,
          0.13131223123651226,
          0.11224446283365926,
          0.6839140700699787,
          -0.348497442840913,
          -0.7521965864608913,
          0.32077580557235197,
          -0.5777905519165989,
          -0.3167061801150172,
          0.6232171134858586,
          -1.2372893260518747,
          0.29047373135643445,
          0.49676393677461145,
          -0.40009544431157185,
          -0.6510394756853205,
          -0.44290947406893777,
          -0.29682596142417644,
          0.0644692360016033,
          -0.2928272459526088,
          -0.6872377729320505,
          0.046389793355421094,
          0.2335922922739868,
          0.15773324619381274,
          -0.28137416388587394,
          -0.010498011722661257,
          -0.6198764991105468,
          0.12022032542724027,
          -0.22346936733001815,
          -0.6577593085679414,
          -0.1898565418720017,
          -0.6059002408039739,
          -0.018544593050696626,
          0.22709274039800645,
          -0.5768750295102203,
          -0.20549489025250925,
          -0.6577593085679414,
          -0.3606488716750825,
          -0.028034186397627874,
          -0.28137416388587394,
          -0.03155235276327985,
          0.47289617101910164,
          -0.1693415252503825,
          -0.4595787332927483,
          0.1660284058936736,
          -0.5839161967302813,
          -0.6056622459375093,
          0.3858760039765839,
          0.320675080641451,
          0.7815177112469226,
          -0.6172963921516762,
          -0.9541756965986664,
          -0.1744582429172472,
          -0.34849744284091305,
          -0.48402846034274233,
          -0.654574188422009,
          -0.4335952542635244,
          -0.581058686161593,
          -0.28137416388587394,
          0.39111371426963415,
          -0.0752888482417228,
          -0.34825944797444863,
          -0.21252305670218377,
          0.5502015216204289,
          -0.6201144939770112,
          0.21904577283367527,
          -0.651277470551785,
          -0.34849744284091305,
          -0.10440713884426471,
          -0.7249624692897274,
          -0.9760527938219642,
          0.0007019027617599797,
          -0.28137416388587394,
          -0.056316919008639145,
          -0.6510394756853205,
          -0.2811361690194096,
          -0.03792252515248359,
          -0.34849744284091305,
          -0.12509664667561748,
          -0.6201144939770112,
          0.5516192293845614,
          -0.34849744284091305,
          -0.4638369767667547,
          -0.6872377729320505,
          0.37540253523316275,
          -0.10440713884426471,
          -0.29235053673571615,
          0.18037913069752345,
          -0.6121795080387176,
          -0.8499905448006223,
          -0.28137416388587394,
          -0.46181389621594715,
          -0.28137416388587394,
          -0.26280022685390236,
          -0.40388321482483075,
          -0.38090373232296537,
          -0.4762905926156236,
          -0.48079228352633235,
          -0.16105694905588278,
          -0.5007185332185635,
          -0.010700624281471222,
          -0.4494974744930248,
          -0.6872377729320505,
          -0.8485413220351106,
          0.12967932014625624,
          -0.5703876112861218,
          -0.038314474499564204,
          -0.6516352794775847,
          0.0647691068357404,
          -1.1522183299987319,
          0.49000117018611894,
          -0.10416914397780039,
          -0.8499905448006223,
          -0.1762651222798491,
          -0.2919275226707342,
          -0.3492383418137987,
          0.5884435148348491,
          0.11900722942214972,
          0.5888473216994274,
          0.6496252011942463,
          -0.010699979429262966,
          0.09880217374504335,
          0.05355473911943352,
          -0.34849744284091305,
          0.4874351738686542,
          -0.4551767742122498,
          0.9876246323124976,
          -0.17412963196159587,
          -0.9165308820077364,
          0.7004761534703406,
          -0.6872377729320505,
          -1.0125105437473347,
          -0.34849744284091305,
          -0.6510394756853205,
          -0.3144080464173703,
          -0.6872377729320505,
          -0.279004196769378,
          0.44149519957786326,
          -0.9756782983691923,
          -0.19770051064122715,
          -0.019379937002990344,
          -0.059997902381845755,
          -0.10440713884426471,
          -0.9165308820077364,
          0.9280043740666284,
          -0.19053556487721454,
          -0.19053556487721454,
          -0.051521916570229365,
          1.0860669769612277,
          -0.6426749077650864,
          -0.31834853762803256,
          0.2739432337977566,
          -0.09700419821378789,
          -0.1693415252503825,
          -0.9680769312283812,
          -0.582686426677605,
          -0.34849744284091305,
          0.48767316873511873,
          0.7435343283158499,
          0.770569880459631,
          -0.5839161967302813,
          0.10299286435319038,
          0.1345244812588443,
          -0.6426749077650864,
          -0.7473867154442311,
          -0.15308108646229956,
          0.6496252011942463,
          0.6389153652734186,
          0.025462290657604067,
          -0.19770051064122715,
          -0.18961431080567118,
          -0.28137416388587394,
          0.34923244239123963,
          -0.18961431080567118,
          -0.002354172119298738,
          0.09880217374504335,
          0.5995571576202547,
          -0.19043483994631352,
          0.4047939982247127,
          0.8730259973595416,
          -0.33256134764411077,
          -0.530860327100324,
          -0.05541560919848125,
          -0.5385963485602261,
          -0.21008993434186107,
          0.025462290657604067,
          -0.05686916152140148,
          -0.6872377729320505,
          -0.19053556487721454,
          -0.4188276884648326,
          -0.10163930336882333,
          -0.5007185332185635,
          -0.34849744284091305,
          -0.34849744284091305,
          -0.4070954648471607,
          -0.27889408913156244,
          0.05483872743757496,
          -0.1344236949979539,
          0.9876246323124976,
          0.15628672884961242,
          -0.34849744284091305,
          -0.7703396990375383,
          -0.6201144939770112,
          -0.3768168097242371,
          -0.002654042953435895,
          -0.6872377729320505,
          -0.34825944797444863,
          -0.10956582273780407,
          -0.7248825875229804,
          -0.16105694905588278,
          -0.22136046650683103,
          -0.9754403035027281,
          0.09558992372271352,
          0.5424135505757413,
          -0.22793954725663035,
          0.5086184785329027,
          -0.6332734675868569,
          -0.10440713884426471,
          -0.8970006856386915,
          -0.4214321189633371,
          0.9687202101654884,
          -0.0029943461612832625,
          0.7435343283158499,
          0.21624929824050526,
          -0.5777905519165989,
          -0.23570709251973318,
          0.08211210086922216,
          0.40553489719759783,
          0.6600986699376675,
          -0.8118468740312553,
          -0.5777905519165989,
          -0.3484974428409131,
          -0.34849744284091305,
          -0.22649586725748003,
          -0.6512774705517851
         ]
        },
        {
         "marker": {
          "color": "green",
          "opacity": 0.7,
          "size": 8
         },
         "mode": "markers",
         "name": "Cluster 2",
         "type": "scatter",
         "x": [
          1.1651480811314663,
          1.3553715534370445,
          1.355371553437043,
          0.7526035587846096,
          0.053200750429996085,
          1.497697569600246,
          1.322755331360171,
          0.6654754601318291,
          0.4625883579603327,
          1.10395397646449,
          -0.33544169162346443,
          0.8582009759278358,
          0.9818636545113033,
          1.355371553437044,
          1.543387922793204,
          0.9443515896655424,
          0.1436392761099656,
          1.31675258566571,
          -0.008514158425123087,
          0.6325306145473796,
          0.2718149348286934,
          0.563612959870775,
          1.3058305345161327,
          0.7122727314559765,
          1.3077693766459086,
          0.7212163825223927,
          0.9665500986907607,
          1.7051635362349837,
          1.4318467093812723,
          0.5085369640029168,
          1.355371553437044,
          1.2817817090684818,
          0.6059426105451668,
          1.0269910565185987,
          0.3789742239967546,
          1.2462801754159418,
          1.6160561572875805,
          1.5725253351888524,
          0.9806898431224577,
          0.8723572380144079,
          0.15308397039642782,
          1.2130942148509631,
          0.9512915046004543,
          1.0643206775687075,
          1.246494878875052,
          1.4091237166030355,
          1.2098942507280972,
          1.606611463001118,
          0.9426817355543063,
          1.7051635362349837,
          1.31675258566571,
          0.5826574654267911,
          1.2243749122790673,
          1.5376474810998388,
          0.8801912202462204
         ],
         "y": [
          -0.9607698796290209,
          -1.5592612499789926,
          -1.5592612499789906,
          -1.073180994365387,
          -1.3221822763473385,
          -0.26846002243452466,
          -0.12049552108419985,
          -0.6752858018074075,
          0.06018220611233758,
          -0.8844715299838383,
          -0.8818423585824674,
          -0.1729157139419048,
          -0.8846033928157356,
          -1.559261249978991,
          -0.36755627311509964,
          -0.6923721565830553,
          -1.1323853414458762,
          -1.4863265738565674,
          -1.4077851875921703,
          -0.40216449749214234,
          -1.1953451013888399,
          -1.5733524826463234,
          0.05097908779117559,
          -0.38297842802412874,
          -0.6052247176049018,
          -1.2584475904672185,
          -0.11740018058298991,
          -0.4052010877060299,
          -0.567373144868714,
          -1.151102323749925,
          -1.559261249978991,
          -0.9496306329919267,
          -0.8622534537080249,
          -1.2628448619482657,
          -0.8401761092626682,
          -1.112383626194477,
          -1.0288582966891924,
          -0.08099364381423364,
          -1.0022810082480138,
          0.09614250849260306,
          -1.4456679970495652,
          -0.33289291223405637,
          -0.5034054374882955,
          -0.02065837143073963,
          -0.02857794815749798,
          -0.366112595898865,
          -0.24324034281354104,
          -0.7155756410855026,
          -1.090813935145267,
          -0.4052010877060299,
          -1.4863265738565674,
          -1.0612840066697982,
          -0.5273651947294827,
          -0.6811683680287485,
          0.4509368003344325
         ]
        },
        {
         "marker": {
          "color": "black",
          "size": 16,
          "symbol": "x"
         },
         "mode": "markers",
         "name": "Centróides",
         "type": "scatter",
         "x": [
          0.4078388528875427,
          -0.5925473502310097,
          0.9934777501676819
         ],
         "y": [
          0.40786833406787976,
          -0.18121853759628734,
          -0.7566498003718541
         ]
        }
       ],
       "layout": {
        "height": 650,
        "legend": {
         "title": {
          "text": "Legenda"
         }
        },
        "template": {
         "data": {
          "bar": [
           {
            "error_x": {
             "color": "#2a3f5f"
            },
            "error_y": {
             "color": "#2a3f5f"
            },
            "marker": {
             "line": {
              "color": "#E5ECF6",
              "width": 0.5
             },
             "pattern": {
              "fillmode": "overlay",
              "size": 10,
              "solidity": 0.2
             }
            },
            "type": "bar"
           }
          ],
          "barpolar": [
           {
            "marker": {
             "line": {
              "color": "#E5ECF6",
              "width": 0.5
             },
             "pattern": {
              "fillmode": "overlay",
              "size": 10,
              "solidity": 0.2
             }
            },
            "type": "barpolar"
           }
          ],
          "carpet": [
           {
            "aaxis": {
             "endlinecolor": "#2a3f5f",
             "gridcolor": "white",
             "linecolor": "white",
             "minorgridcolor": "white",
             "startlinecolor": "#2a3f5f"
            },
            "baxis": {
             "endlinecolor": "#2a3f5f",
             "gridcolor": "white",
             "linecolor": "white",
             "minorgridcolor": "white",
             "startlinecolor": "#2a3f5f"
            },
            "type": "carpet"
           }
          ],
          "choropleth": [
           {
            "colorbar": {
             "outlinewidth": 0,
             "ticks": ""
            },
            "type": "choropleth"
           }
          ],
          "contour": [
           {
            "colorbar": {
             "outlinewidth": 0,
             "ticks": ""
            },
            "colorscale": [
             [
              0,
              "#0d0887"
             ],
             [
              0.1111111111111111,
              "#46039f"
             ],
             [
              0.2222222222222222,
              "#7201a8"
             ],
             [
              0.3333333333333333,
              "#9c179e"
             ],
             [
              0.4444444444444444,
              "#bd3786"
             ],
             [
              0.5555555555555556,
              "#d8576b"
             ],
             [
              0.6666666666666666,
              "#ed7953"
             ],
             [
              0.7777777777777778,
              "#fb9f3a"
             ],
             [
              0.8888888888888888,
              "#fdca26"
             ],
             [
              1,
              "#f0f921"
             ]
            ],
            "type": "contour"
           }
          ],
          "contourcarpet": [
           {
            "colorbar": {
             "outlinewidth": 0,
             "ticks": ""
            },
            "type": "contourcarpet"
           }
          ],
          "heatmap": [
           {
            "colorbar": {
             "outlinewidth": 0,
             "ticks": ""
            },
            "colorscale": [
             [
              0,
              "#0d0887"
             ],
             [
              0.1111111111111111,
              "#46039f"
             ],
             [
              0.2222222222222222,
              "#7201a8"
             ],
             [
              0.3333333333333333,
              "#9c179e"
             ],
             [
              0.4444444444444444,
              "#bd3786"
             ],
             [
              0.5555555555555556,
              "#d8576b"
             ],
             [
              0.6666666666666666,
              "#ed7953"
             ],
             [
              0.7777777777777778,
              "#fb9f3a"
             ],
             [
              0.8888888888888888,
              "#fdca26"
             ],
             [
              1,
              "#f0f921"
             ]
            ],
            "type": "heatmap"
           }
          ],
          "heatmapgl": [
           {
            "colorbar": {
             "outlinewidth": 0,
             "ticks": ""
            },
            "colorscale": [
             [
              0,
              "#0d0887"
             ],
             [
              0.1111111111111111,
              "#46039f"
             ],
             [
              0.2222222222222222,
              "#7201a8"
             ],
             [
              0.3333333333333333,
              "#9c179e"
             ],
             [
              0.4444444444444444,
              "#bd3786"
             ],
             [
              0.5555555555555556,
              "#d8576b"
             ],
             [
              0.6666666666666666,
              "#ed7953"
             ],
             [
              0.7777777777777778,
              "#fb9f3a"
             ],
             [
              0.8888888888888888,
              "#fdca26"
             ],
             [
              1,
              "#f0f921"
             ]
            ],
            "type": "heatmapgl"
           }
          ],
          "histogram": [
           {
            "marker": {
             "pattern": {
              "fillmode": "overlay",
              "size": 10,
              "solidity": 0.2
             }
            },
            "type": "histogram"
           }
          ],
          "histogram2d": [
           {
            "colorbar": {
             "outlinewidth": 0,
             "ticks": ""
            },
            "colorscale": [
             [
              0,
              "#0d0887"
             ],
             [
              0.1111111111111111,
              "#46039f"
             ],
             [
              0.2222222222222222,
              "#7201a8"
             ],
             [
              0.3333333333333333,
              "#9c179e"
             ],
             [
              0.4444444444444444,
              "#bd3786"
             ],
             [
              0.5555555555555556,
              "#d8576b"
             ],
             [
              0.6666666666666666,
              "#ed7953"
             ],
             [
              0.7777777777777778,
              "#fb9f3a"
             ],
             [
              0.8888888888888888,
              "#fdca26"
             ],
             [
              1,
              "#f0f921"
             ]
            ],
            "type": "histogram2d"
           }
          ],
          "histogram2dcontour": [
           {
            "colorbar": {
             "outlinewidth": 0,
             "ticks": ""
            },
            "colorscale": [
             [
              0,
              "#0d0887"
             ],
             [
              0.1111111111111111,
              "#46039f"
             ],
             [
              0.2222222222222222,
              "#7201a8"
             ],
             [
              0.3333333333333333,
              "#9c179e"
             ],
             [
              0.4444444444444444,
              "#bd3786"
             ],
             [
              0.5555555555555556,
              "#d8576b"
             ],
             [
              0.6666666666666666,
              "#ed7953"
             ],
             [
              0.7777777777777778,
              "#fb9f3a"
             ],
             [
              0.8888888888888888,
              "#fdca26"
             ],
             [
              1,
              "#f0f921"
             ]
            ],
            "type": "histogram2dcontour"
           }
          ],
          "mesh3d": [
           {
            "colorbar": {
             "outlinewidth": 0,
             "ticks": ""
            },
            "type": "mesh3d"
           }
          ],
          "parcoords": [
           {
            "line": {
             "colorbar": {
              "outlinewidth": 0,
              "ticks": ""
             }
            },
            "type": "parcoords"
           }
          ],
          "pie": [
           {
            "automargin": true,
            "type": "pie"
           }
          ],
          "scatter": [
           {
            "fillpattern": {
             "fillmode": "overlay",
             "size": 10,
             "solidity": 0.2
            },
            "type": "scatter"
           }
          ],
          "scatter3d": [
           {
            "line": {
             "colorbar": {
              "outlinewidth": 0,
              "ticks": ""
             }
            },
            "marker": {
             "colorbar": {
              "outlinewidth": 0,
              "ticks": ""
             }
            },
            "type": "scatter3d"
           }
          ],
          "scattercarpet": [
           {
            "marker": {
             "colorbar": {
              "outlinewidth": 0,
              "ticks": ""
             }
            },
            "type": "scattercarpet"
           }
          ],
          "scattergeo": [
           {
            "marker": {
             "colorbar": {
              "outlinewidth": 0,
              "ticks": ""
             }
            },
            "type": "scattergeo"
           }
          ],
          "scattergl": [
           {
            "marker": {
             "colorbar": {
              "outlinewidth": 0,
              "ticks": ""
             }
            },
            "type": "scattergl"
           }
          ],
          "scattermapbox": [
           {
            "marker": {
             "colorbar": {
              "outlinewidth": 0,
              "ticks": ""
             }
            },
            "type": "scattermapbox"
           }
          ],
          "scatterpolar": [
           {
            "marker": {
             "colorbar": {
              "outlinewidth": 0,
              "ticks": ""
             }
            },
            "type": "scatterpolar"
           }
          ],
          "scatterpolargl": [
           {
            "marker": {
             "colorbar": {
              "outlinewidth": 0,
              "ticks": ""
             }
            },
            "type": "scatterpolargl"
           }
          ],
          "scatterternary": [
           {
            "marker": {
             "colorbar": {
              "outlinewidth": 0,
              "ticks": ""
             }
            },
            "type": "scatterternary"
           }
          ],
          "surface": [
           {
            "colorbar": {
             "outlinewidth": 0,
             "ticks": ""
            },
            "colorscale": [
             [
              0,
              "#0d0887"
             ],
             [
              0.1111111111111111,
              "#46039f"
             ],
             [
              0.2222222222222222,
              "#7201a8"
             ],
             [
              0.3333333333333333,
              "#9c179e"
             ],
             [
              0.4444444444444444,
              "#bd3786"
             ],
             [
              0.5555555555555556,
              "#d8576b"
             ],
             [
              0.6666666666666666,
              "#ed7953"
             ],
             [
              0.7777777777777778,
              "#fb9f3a"
             ],
             [
              0.8888888888888888,
              "#fdca26"
             ],
             [
              1,
              "#f0f921"
             ]
            ],
            "type": "surface"
           }
          ],
          "table": [
           {
            "cells": {
             "fill": {
              "color": "#EBF0F8"
             },
             "line": {
              "color": "white"
             }
            },
            "header": {
             "fill": {
              "color": "#C8D4E3"
             },
             "line": {
              "color": "white"
             }
            },
            "type": "table"
           }
          ]
         },
         "layout": {
          "annotationdefaults": {
           "arrowcolor": "#2a3f5f",
           "arrowhead": 0,
           "arrowwidth": 1
          },
          "autotypenumbers": "strict",
          "coloraxis": {
           "colorbar": {
            "outlinewidth": 0,
            "ticks": ""
           }
          },
          "colorscale": {
           "diverging": [
            [
             0,
             "#8e0152"
            ],
            [
             0.1,
             "#c51b7d"
            ],
            [
             0.2,
             "#de77ae"
            ],
            [
             0.3,
             "#f1b6da"
            ],
            [
             0.4,
             "#fde0ef"
            ],
            [
             0.5,
             "#f7f7f7"
            ],
            [
             0.6,
             "#e6f5d0"
            ],
            [
             0.7,
             "#b8e186"
            ],
            [
             0.8,
             "#7fbc41"
            ],
            [
             0.9,
             "#4d9221"
            ],
            [
             1,
             "#276419"
            ]
           ],
           "sequential": [
            [
             0,
             "#0d0887"
            ],
            [
             0.1111111111111111,
             "#46039f"
            ],
            [
             0.2222222222222222,
             "#7201a8"
            ],
            [
             0.3333333333333333,
             "#9c179e"
            ],
            [
             0.4444444444444444,
             "#bd3786"
            ],
            [
             0.5555555555555556,
             "#d8576b"
            ],
            [
             0.6666666666666666,
             "#ed7953"
            ],
            [
             0.7777777777777778,
             "#fb9f3a"
            ],
            [
             0.8888888888888888,
             "#fdca26"
            ],
            [
             1,
             "#f0f921"
            ]
           ],
           "sequentialminus": [
            [
             0,
             "#0d0887"
            ],
            [
             0.1111111111111111,
             "#46039f"
            ],
            [
             0.2222222222222222,
             "#7201a8"
            ],
            [
             0.3333333333333333,
             "#9c179e"
            ],
            [
             0.4444444444444444,
             "#bd3786"
            ],
            [
             0.5555555555555556,
             "#d8576b"
            ],
            [
             0.6666666666666666,
             "#ed7953"
            ],
            [
             0.7777777777777778,
             "#fb9f3a"
            ],
            [
             0.8888888888888888,
             "#fdca26"
            ],
            [
             1,
             "#f0f921"
            ]
           ]
          },
          "colorway": [
           "#636efa",
           "#EF553B",
           "#00cc96",
           "#ab63fa",
           "#FFA15A",
           "#19d3f3",
           "#FF6692",
           "#B6E880",
           "#FF97FF",
           "#FECB52"
          ],
          "font": {
           "color": "#2a3f5f"
          },
          "geo": {
           "bgcolor": "white",
           "lakecolor": "white",
           "landcolor": "#E5ECF6",
           "showlakes": true,
           "showland": true,
           "subunitcolor": "white"
          },
          "hoverlabel": {
           "align": "left"
          },
          "hovermode": "closest",
          "mapbox": {
           "style": "light"
          },
          "paper_bgcolor": "white",
          "plot_bgcolor": "#E5ECF6",
          "polar": {
           "angularaxis": {
            "gridcolor": "white",
            "linecolor": "white",
            "ticks": ""
           },
           "bgcolor": "#E5ECF6",
           "radialaxis": {
            "gridcolor": "white",
            "linecolor": "white",
            "ticks": ""
           }
          },
          "scene": {
           "xaxis": {
            "backgroundcolor": "#E5ECF6",
            "gridcolor": "white",
            "gridwidth": 2,
            "linecolor": "white",
            "showbackground": true,
            "ticks": "",
            "zerolinecolor": "white"
           },
           "yaxis": {
            "backgroundcolor": "#E5ECF6",
            "gridcolor": "white",
            "gridwidth": 2,
            "linecolor": "white",
            "showbackground": true,
            "ticks": "",
            "zerolinecolor": "white"
           },
           "zaxis": {
            "backgroundcolor": "#E5ECF6",
            "gridcolor": "white",
            "gridwidth": 2,
            "linecolor": "white",
            "showbackground": true,
            "ticks": "",
            "zerolinecolor": "white"
           }
          },
          "shapedefaults": {
           "line": {
            "color": "#2a3f5f"
           }
          },
          "ternary": {
           "aaxis": {
            "gridcolor": "white",
            "linecolor": "white",
            "ticks": ""
           },
           "baxis": {
            "gridcolor": "white",
            "linecolor": "white",
            "ticks": ""
           },
           "bgcolor": "#E5ECF6",
           "caxis": {
            "gridcolor": "white",
            "linecolor": "white",
            "ticks": ""
           }
          },
          "title": {
           "x": 0.05
          },
          "xaxis": {
           "automargin": true,
           "gridcolor": "white",
           "linecolor": "white",
           "ticks": "",
           "title": {
            "standoff": 15
           },
           "zerolinecolor": "white",
           "zerolinewidth": 2
          },
          "yaxis": {
           "automargin": true,
           "gridcolor": "white",
           "linecolor": "white",
           "ticks": "",
           "title": {
            "standoff": 15
           },
           "zerolinecolor": "white",
           "zerolinewidth": 2
          }
         }
        },
        "title": {
         "text": "Cluster Plot"
        },
        "width": 900,
        "xaxis": {
         "title": {
          "text": "PC1"
         }
        },
        "yaxis": {
         "title": {
          "text": "PC2"
         }
        }
       }
      }
     },
     "metadata": {},
     "output_type": "display_data"
    }
   ],
   "source": [
    "# Grafico para plotar o centro de cada cluster\n",
    "cluster_colors = ['red', 'blue', 'green']\n",
    "fig = go.Figure()\n",
    "unique_clusters = sorted(df_clusters_k3['Cluster'].unique())\n",
    "for cluster_idx, cluster_num in enumerate(unique_clusters):\n",
    "    mask = df_clusters_k3['Cluster'] == cluster_num\n",
    "    fig.add_trace(go.Scatter(\n",
    "        x=df_clusters_k3.loc[mask, df_clusters_k3.columns[0]],\n",
    "        y=df_clusters_k3.loc[mask, df_clusters_k3.columns[1]],\n",
    "        mode='markers',\n",
    "        marker=dict(\n",
    "            color=cluster_colors[cluster_idx % len(cluster_colors)],\n",
    "            opacity=0.7,\n",
    "            size=8\n",
    "        ),\n",
    "        name=f'Cluster {cluster_num}'\n",
    "    ))\n",
    "fig.add_trace(go.Scatter(\n",
    "    x=kmeans_k3.cluster_centers_[:, 0],\n",
    "    y=kmeans_k3.cluster_centers_[:, 1],\n",
    "    mode='markers',\n",
    "    marker=dict(\n",
    "        size=16,\n",
    "        color='black',\n",
    "        symbol='x'\n",
    "    ),\n",
    "    name='Centróides'\n",
    "))\n",
    "fig.update_layout(\n",
    "    title=\"Cluster Plot\",\n",
    "    xaxis_title=df_clusters_k3.columns[0] if len(df_clusters_k3.columns) > 0 else 'Componente 1',\n",
    "    yaxis_title=df_clusters_k3.columns[1] if len(df_clusters_k3.columns) > 1 else 'Componente 2',\n",
    "    legend_title_text='Legenda',\n",
    "    width=900,\n",
    "    height=650,\n",
    ")\n",
    "fig.show()"
   ]
  },
  {
   "cell_type": "markdown",
   "id": "784770b0",
   "metadata": {},
   "source": [
    "### Escolha de K=3\n",
    "\n",
    "Embora a métrica de Silhouette seja apenas levemente superior em K=3 (0.1239) comparado a K=2 (0.1198), ela ainda sugere que o modelo com três clusters oferece uma divisão mais refinada dos perfis comportamentais dos respondentes.\n",
    "\n",
    "Os gráficos PCA 2D mostra alguma sobreposição entre os clusters (consistente com os baixos scores de silhueta), mas também revela que os centros dos clusters estão em posições distintas, indicando que o K-Means conseguiu encontrar padrões diferentes e indicando que os grupos capturam diferenças relevantes nos perfis de comportamento."
   ]
  },
  {
   "cell_type": "markdown",
   "id": "c5632fa5",
   "metadata": {},
   "source": [
    "### Interpretação dos Clusters e Geração de Insights"
   ]
  },
  {
   "cell_type": "code",
   "execution_count": 40,
   "id": "50b7c288",
   "metadata": {},
   "outputs": [
    {
     "name": "stdout",
     "output_type": "stream",
     "text": [
      "   pergunta_1_B  pergunta_1_C  pergunta_1_D  pergunta_2_B  pergunta_2_C  \\\n",
      "0      0.263288      0.248406      0.098141      0.387035      0.193359   \n",
      "1      0.219534      0.280162      0.095265      0.474151      0.123222   \n",
      "2      0.025306      0.041283      0.881655      0.205811      0.278800   \n",
      "\n",
      "   pergunta_2_D  pergunta_3_B  pergunta_3_C  pergunta_3_D  pergunta_4_B  ...  \\\n",
      "0      0.029919      0.223320      0.183665      0.055479      0.387110  ...   \n",
      "1      0.069168      0.212591      0.204563      0.059880      0.330362  ...   \n",
      "2      0.357298      0.204543      0.205405      0.155626      0.071828  ...   \n",
      "\n",
      "   pergunta_5_D  pergunta_6_B  pergunta_6_C  pergunta_6_D  pergunta_7_B  \\\n",
      "0      0.049661      0.012986      0.641069      0.119277      0.205592   \n",
      "1      0.041706      0.984988     -0.012480     -0.018666      0.196746   \n",
      "2      0.472921      0.215230      0.397455      0.378123      0.138356   \n",
      "\n",
      "   pergunta_7_C  pergunta_7_D  pergunta_8_B  pergunta_8_C  pergunta_8_D  \n",
      "0      0.237598      0.047379      0.329218      0.284800      0.084105  \n",
      "1      0.193919      0.042967      0.237891      0.185972      0.076092  \n",
      "2      0.375957      0.421558      0.009357      0.069340      0.852161  \n",
      "\n",
      "[3 rows x 24 columns]\n"
     ]
    }
   ],
   "source": [
    "# Obtendo e visualuando os os centroides (valores próximos de 1 indicam forte presença da variável binária)\n",
    "centroids_pca = kmeans_k3.cluster_centers_\n",
    "centroids_ohe = pca.inverse_transform(centroids_pca)\n",
    "centroids_df = pd.DataFrame(centroids_ohe, columns=ohe.get_feature_names_out())\n",
    "print(centroids_df)"
   ]
  },
  {
   "cell_type": "code",
   "execution_count": 41,
   "id": "cf98b288",
   "metadata": {},
   "outputs": [
    {
     "data": {
      "application/vnd.plotly.v1+json": {
       "config": {
        "plotlyServerURL": "https://plot.ly"
       },
       "data": [
        {
         "marker": {
          "color": "rgb(229, 134, 6)"
         },
         "name": "Cluster 0",
         "showlegend": true,
         "type": "bar",
         "x": [
          "A",
          "C",
          "B",
          "D"
         ],
         "xaxis": "x",
         "y": [
          81,
          51,
          54,
          20
         ],
         "yaxis": "y"
        },
        {
         "marker": {
          "color": "rgb(93, 105, 177)"
         },
         "name": "Cluster 1",
         "showlegend": true,
         "type": "bar",
         "x": [
          "A",
          "C",
          "B",
          "D"
         ],
         "xaxis": "x",
         "y": [
          96,
          65,
          51,
          22
         ],
         "yaxis": "y"
        },
        {
         "marker": {
          "color": "rgb(82, 188, 163)"
         },
         "name": "Cluster 2",
         "showlegend": true,
         "type": "bar",
         "x": [
          "A",
          "C",
          "B",
          "D"
         ],
         "xaxis": "x",
         "y": [
          1,
          3,
          2,
          49
         ],
         "yaxis": "y"
        },
        {
         "marker": {
          "color": "rgb(229, 134, 6)"
         },
         "name": "Cluster 0",
         "showlegend": false,
         "type": "bar",
         "x": [
          "B",
          "A",
          "C",
          "D"
         ],
         "xaxis": "x2",
         "y": [
          80,
          79,
          40,
          7
         ],
         "yaxis": "y2"
        },
        {
         "marker": {
          "color": "rgb(93, 105, 177)"
         },
         "name": "Cluster 1",
         "showlegend": false,
         "type": "bar",
         "x": [
          "B",
          "A",
          "C",
          "D"
         ],
         "xaxis": "x2",
         "y": [
          111,
          78,
          29,
          16
         ],
         "yaxis": "y2"
        },
        {
         "marker": {
          "color": "rgb(82, 188, 163)"
         },
         "name": "Cluster 2",
         "showlegend": false,
         "type": "bar",
         "x": [
          "B",
          "A",
          "C",
          "D"
         ],
         "xaxis": "x2",
         "y": [
          11,
          10,
          15,
          19
         ],
         "yaxis": "y2"
        },
        {
         "marker": {
          "color": "rgb(229, 134, 6)"
         },
         "name": "Cluster 0",
         "showlegend": false,
         "type": "bar",
         "x": [
          "A",
          "B",
          "C",
          "D"
         ],
         "xaxis": "x3",
         "y": [
          110,
          46,
          38,
          12
         ],
         "yaxis": "y3"
        },
        {
         "marker": {
          "color": "rgb(93, 105, 177)"
         },
         "name": "Cluster 1",
         "showlegend": false,
         "type": "bar",
         "x": [
          "A",
          "B",
          "C",
          "D"
         ],
         "xaxis": "x3",
         "y": [
          121,
          50,
          48,
          15
         ],
         "yaxis": "y3"
        },
        {
         "marker": {
          "color": "rgb(82, 188, 163)"
         },
         "name": "Cluster 2",
         "showlegend": false,
         "type": "bar",
         "x": [
          "A",
          "B",
          "C",
          "D"
         ],
         "xaxis": "x3",
         "y": [
          26,
          11,
          11,
          7
         ],
         "yaxis": "y3"
        },
        {
         "marker": {
          "color": "rgb(229, 134, 6)"
         },
         "name": "Cluster 0",
         "showlegend": false,
         "type": "bar",
         "x": [
          "A",
          "B",
          "C",
          "D"
         ],
         "xaxis": "x4",
         "y": [
          92,
          80,
          29,
          5
         ],
         "yaxis": "y4"
        },
        {
         "marker": {
          "color": "rgb(93, 105, 177)"
         },
         "name": "Cluster 1",
         "showlegend": false,
         "type": "bar",
         "x": [
          "A",
          "B",
          "C",
          "D"
         ],
         "xaxis": "x4",
         "y": [
          134,
          77,
          18,
          5
         ],
         "yaxis": "y4"
        },
        {
         "marker": {
          "color": "rgb(82, 188, 163)"
         },
         "name": "Cluster 2",
         "showlegend": false,
         "type": "bar",
         "x": [
          "A",
          "B",
          "C",
          "D"
         ],
         "xaxis": "x4",
         "y": [
          4,
          4,
          15,
          32
         ],
         "yaxis": "y4"
        },
        {
         "marker": {
          "color": "rgb(229, 134, 6)"
         },
         "name": "Cluster 0",
         "showlegend": false,
         "type": "bar",
         "x": [
          "B",
          "A",
          "C",
          "D"
         ],
         "xaxis": "x5",
         "y": [
          67,
          95,
          35,
          9
         ],
         "yaxis": "y5"
        },
        {
         "marker": {
          "color": "rgb(93, 105, 177)"
         },
         "name": "Cluster 1",
         "showlegend": false,
         "type": "bar",
         "x": [
          "B",
          "A",
          "C",
          "D"
         ],
         "xaxis": "x5",
         "y": [
          146,
          60,
          18,
          10
         ],
         "yaxis": "y5"
        },
        {
         "marker": {
          "color": "rgb(82, 188, 163)"
         },
         "name": "Cluster 2",
         "showlegend": false,
         "type": "bar",
         "x": [
          "B",
          "A",
          "C",
          "D"
         ],
         "xaxis": "x5",
         "y": [
          9,
          5,
          14,
          27
         ],
         "yaxis": "y5"
        },
        {
         "marker": {
          "color": "rgb(229, 134, 6)"
         },
         "name": "Cluster 0",
         "showlegend": false,
         "type": "bar",
         "x": [
          "B",
          "C",
          "A",
          "D"
         ],
         "xaxis": "x6",
         "y": [
          0,
          129,
          57,
          20
         ],
         "yaxis": "y6"
        },
        {
         "marker": {
          "color": "rgb(93, 105, 177)"
         },
         "name": "Cluster 1",
         "showlegend": false,
         "type": "bar",
         "x": [
          "B",
          "C",
          "A",
          "D"
         ],
         "xaxis": "x6",
         "y": [
          233,
          0,
          1,
          0
         ],
         "yaxis": "y6"
        },
        {
         "marker": {
          "color": "rgb(82, 188, 163)"
         },
         "name": "Cluster 2",
         "showlegend": false,
         "type": "bar",
         "x": [
          "B",
          "C",
          "A",
          "D"
         ],
         "xaxis": "x6",
         "y": [
          12,
          22,
          0,
          21
         ],
         "yaxis": "y6"
        },
        {
         "marker": {
          "color": "rgb(229, 134, 6)"
         },
         "name": "Cluster 0",
         "showlegend": false,
         "type": "bar",
         "x": [
          "A",
          "C",
          "B",
          "D"
         ],
         "xaxis": "x7",
         "y": [
          101,
          50,
          43,
          12
         ],
         "yaxis": "y7"
        },
        {
         "marker": {
          "color": "rgb(93, 105, 177)"
         },
         "name": "Cluster 1",
         "showlegend": false,
         "type": "bar",
         "x": [
          "A",
          "C",
          "B",
          "D"
         ],
         "xaxis": "x7",
         "y": [
          133,
          45,
          46,
          10
         ],
         "yaxis": "y7"
        },
        {
         "marker": {
          "color": "rgb(82, 188, 163)"
         },
         "name": "Cluster 2",
         "showlegend": false,
         "type": "bar",
         "x": [
          "A",
          "C",
          "B",
          "D"
         ],
         "xaxis": "x7",
         "y": [
          7,
          20,
          7,
          21
         ],
         "yaxis": "y7"
        },
        {
         "marker": {
          "color": "rgb(229, 134, 6)"
         },
         "name": "Cluster 0",
         "showlegend": false,
         "type": "bar",
         "x": [
          "A",
          "B",
          "C",
          "D"
         ],
         "xaxis": "x8",
         "y": [
          61,
          68,
          59,
          18
         ],
         "yaxis": "y8"
        },
        {
         "marker": {
          "color": "rgb(93, 105, 177)"
         },
         "name": "Cluster 1",
         "showlegend": false,
         "type": "bar",
         "x": [
          "A",
          "B",
          "C",
          "D"
         ],
         "xaxis": "x8",
         "y": [
          119,
          55,
          43,
          17
         ],
         "yaxis": "y8"
        },
        {
         "marker": {
          "color": "rgb(82, 188, 163)"
         },
         "name": "Cluster 2",
         "showlegend": false,
         "type": "bar",
         "x": [
          "A",
          "B",
          "C",
          "D"
         ],
         "xaxis": "x8",
         "y": [
          3,
          1,
          4,
          47
         ],
         "yaxis": "y8"
        }
       ],
       "layout": {
        "annotations": [
         {
          "font": {
           "size": 16
          },
          "showarrow": false,
          "text": "Nível de clareza ",
          "x": 0.10625,
          "xanchor": "center",
          "xref": "paper",
          "y": 1,
          "yanchor": "bottom",
          "yref": "paper"
         },
         {
          "font": {
           "size": 16
          },
          "showarrow": false,
          "text": "Situação financeira atual ",
          "x": 0.36875,
          "xanchor": "center",
          "xref": "paper",
          "y": 1,
          "yanchor": "bottom",
          "yref": "paper"
         },
         {
          "font": {
           "size": 16
          },
          "showarrow": false,
          "text": "Apoio e envolvimento ",
          "x": 0.6312500000000001,
          "xanchor": "center",
          "xref": "paper",
          "y": 1,
          "yanchor": "bottom",
          "yref": "paper"
         },
         {
          "font": {
           "size": 16
          },
          "showarrow": false,
          "text": "Nível de organização do planejamento ",
          "x": 0.89375,
          "xanchor": "center",
          "xref": "paper",
          "y": 1,
          "yanchor": "bottom",
          "yref": "paper"
         },
         {
          "font": {
           "size": 16
          },
          "showarrow": false,
          "text": "Possibilidade de investimento atual ",
          "x": 0.10625,
          "xanchor": "center",
          "xref": "paper",
          "y": 0.375,
          "yanchor": "bottom",
          "yref": "paper"
         },
         {
          "font": {
           "size": 16
          },
          "showarrow": false,
          "text": "Estilo de casamento desejado ",
          "x": 0.36875,
          "xanchor": "center",
          "xref": "paper",
          "y": 0.375,
          "yanchor": "bottom",
          "yref": "paper"
         },
         {
          "font": {
           "size": 16
          },
          "showarrow": false,
          "text": "Planejamento da lua de mel ",
          "x": 0.6312500000000001,
          "xanchor": "center",
          "xref": "paper",
          "y": 0.375,
          "yanchor": "bottom",
          "yref": "paper"
         },
         {
          "font": {
           "size": 16
          },
          "showarrow": false,
          "text": "Comprometimento em tornar realidade ",
          "x": 0.89375,
          "xanchor": "center",
          "xref": "paper",
          "y": 0.375,
          "yanchor": "bottom",
          "yref": "paper"
         }
        ],
        "barmode": "group",
        "height": 800,
        "legend": {
         "title": {
          "text": "Cluster"
         }
        },
        "template": {
         "data": {
          "bar": [
           {
            "error_x": {
             "color": "#2a3f5f"
            },
            "error_y": {
             "color": "#2a3f5f"
            },
            "marker": {
             "line": {
              "color": "white",
              "width": 0.5
             },
             "pattern": {
              "fillmode": "overlay",
              "size": 10,
              "solidity": 0.2
             }
            },
            "type": "bar"
           }
          ],
          "barpolar": [
           {
            "marker": {
             "line": {
              "color": "white",
              "width": 0.5
             },
             "pattern": {
              "fillmode": "overlay",
              "size": 10,
              "solidity": 0.2
             }
            },
            "type": "barpolar"
           }
          ],
          "carpet": [
           {
            "aaxis": {
             "endlinecolor": "#2a3f5f",
             "gridcolor": "#C8D4E3",
             "linecolor": "#C8D4E3",
             "minorgridcolor": "#C8D4E3",
             "startlinecolor": "#2a3f5f"
            },
            "baxis": {
             "endlinecolor": "#2a3f5f",
             "gridcolor": "#C8D4E3",
             "linecolor": "#C8D4E3",
             "minorgridcolor": "#C8D4E3",
             "startlinecolor": "#2a3f5f"
            },
            "type": "carpet"
           }
          ],
          "choropleth": [
           {
            "colorbar": {
             "outlinewidth": 0,
             "ticks": ""
            },
            "type": "choropleth"
           }
          ],
          "contour": [
           {
            "colorbar": {
             "outlinewidth": 0,
             "ticks": ""
            },
            "colorscale": [
             [
              0,
              "#0d0887"
             ],
             [
              0.1111111111111111,
              "#46039f"
             ],
             [
              0.2222222222222222,
              "#7201a8"
             ],
             [
              0.3333333333333333,
              "#9c179e"
             ],
             [
              0.4444444444444444,
              "#bd3786"
             ],
             [
              0.5555555555555556,
              "#d8576b"
             ],
             [
              0.6666666666666666,
              "#ed7953"
             ],
             [
              0.7777777777777778,
              "#fb9f3a"
             ],
             [
              0.8888888888888888,
              "#fdca26"
             ],
             [
              1,
              "#f0f921"
             ]
            ],
            "type": "contour"
           }
          ],
          "contourcarpet": [
           {
            "colorbar": {
             "outlinewidth": 0,
             "ticks": ""
            },
            "type": "contourcarpet"
           }
          ],
          "heatmap": [
           {
            "colorbar": {
             "outlinewidth": 0,
             "ticks": ""
            },
            "colorscale": [
             [
              0,
              "#0d0887"
             ],
             [
              0.1111111111111111,
              "#46039f"
             ],
             [
              0.2222222222222222,
              "#7201a8"
             ],
             [
              0.3333333333333333,
              "#9c179e"
             ],
             [
              0.4444444444444444,
              "#bd3786"
             ],
             [
              0.5555555555555556,
              "#d8576b"
             ],
             [
              0.6666666666666666,
              "#ed7953"
             ],
             [
              0.7777777777777778,
              "#fb9f3a"
             ],
             [
              0.8888888888888888,
              "#fdca26"
             ],
             [
              1,
              "#f0f921"
             ]
            ],
            "type": "heatmap"
           }
          ],
          "heatmapgl": [
           {
            "colorbar": {
             "outlinewidth": 0,
             "ticks": ""
            },
            "colorscale": [
             [
              0,
              "#0d0887"
             ],
             [
              0.1111111111111111,
              "#46039f"
             ],
             [
              0.2222222222222222,
              "#7201a8"
             ],
             [
              0.3333333333333333,
              "#9c179e"
             ],
             [
              0.4444444444444444,
              "#bd3786"
             ],
             [
              0.5555555555555556,
              "#d8576b"
             ],
             [
              0.6666666666666666,
              "#ed7953"
             ],
             [
              0.7777777777777778,
              "#fb9f3a"
             ],
             [
              0.8888888888888888,
              "#fdca26"
             ],
             [
              1,
              "#f0f921"
             ]
            ],
            "type": "heatmapgl"
           }
          ],
          "histogram": [
           {
            "marker": {
             "pattern": {
              "fillmode": "overlay",
              "size": 10,
              "solidity": 0.2
             }
            },
            "type": "histogram"
           }
          ],
          "histogram2d": [
           {
            "colorbar": {
             "outlinewidth": 0,
             "ticks": ""
            },
            "colorscale": [
             [
              0,
              "#0d0887"
             ],
             [
              0.1111111111111111,
              "#46039f"
             ],
             [
              0.2222222222222222,
              "#7201a8"
             ],
             [
              0.3333333333333333,
              "#9c179e"
             ],
             [
              0.4444444444444444,
              "#bd3786"
             ],
             [
              0.5555555555555556,
              "#d8576b"
             ],
             [
              0.6666666666666666,
              "#ed7953"
             ],
             [
              0.7777777777777778,
              "#fb9f3a"
             ],
             [
              0.8888888888888888,
              "#fdca26"
             ],
             [
              1,
              "#f0f921"
             ]
            ],
            "type": "histogram2d"
           }
          ],
          "histogram2dcontour": [
           {
            "colorbar": {
             "outlinewidth": 0,
             "ticks": ""
            },
            "colorscale": [
             [
              0,
              "#0d0887"
             ],
             [
              0.1111111111111111,
              "#46039f"
             ],
             [
              0.2222222222222222,
              "#7201a8"
             ],
             [
              0.3333333333333333,
              "#9c179e"
             ],
             [
              0.4444444444444444,
              "#bd3786"
             ],
             [
              0.5555555555555556,
              "#d8576b"
             ],
             [
              0.6666666666666666,
              "#ed7953"
             ],
             [
              0.7777777777777778,
              "#fb9f3a"
             ],
             [
              0.8888888888888888,
              "#fdca26"
             ],
             [
              1,
              "#f0f921"
             ]
            ],
            "type": "histogram2dcontour"
           }
          ],
          "mesh3d": [
           {
            "colorbar": {
             "outlinewidth": 0,
             "ticks": ""
            },
            "type": "mesh3d"
           }
          ],
          "parcoords": [
           {
            "line": {
             "colorbar": {
              "outlinewidth": 0,
              "ticks": ""
             }
            },
            "type": "parcoords"
           }
          ],
          "pie": [
           {
            "automargin": true,
            "type": "pie"
           }
          ],
          "scatter": [
           {
            "fillpattern": {
             "fillmode": "overlay",
             "size": 10,
             "solidity": 0.2
            },
            "type": "scatter"
           }
          ],
          "scatter3d": [
           {
            "line": {
             "colorbar": {
              "outlinewidth": 0,
              "ticks": ""
             }
            },
            "marker": {
             "colorbar": {
              "outlinewidth": 0,
              "ticks": ""
             }
            },
            "type": "scatter3d"
           }
          ],
          "scattercarpet": [
           {
            "marker": {
             "colorbar": {
              "outlinewidth": 0,
              "ticks": ""
             }
            },
            "type": "scattercarpet"
           }
          ],
          "scattergeo": [
           {
            "marker": {
             "colorbar": {
              "outlinewidth": 0,
              "ticks": ""
             }
            },
            "type": "scattergeo"
           }
          ],
          "scattergl": [
           {
            "marker": {
             "colorbar": {
              "outlinewidth": 0,
              "ticks": ""
             }
            },
            "type": "scattergl"
           }
          ],
          "scattermapbox": [
           {
            "marker": {
             "colorbar": {
              "outlinewidth": 0,
              "ticks": ""
             }
            },
            "type": "scattermapbox"
           }
          ],
          "scatterpolar": [
           {
            "marker": {
             "colorbar": {
              "outlinewidth": 0,
              "ticks": ""
             }
            },
            "type": "scatterpolar"
           }
          ],
          "scatterpolargl": [
           {
            "marker": {
             "colorbar": {
              "outlinewidth": 0,
              "ticks": ""
             }
            },
            "type": "scatterpolargl"
           }
          ],
          "scatterternary": [
           {
            "marker": {
             "colorbar": {
              "outlinewidth": 0,
              "ticks": ""
             }
            },
            "type": "scatterternary"
           }
          ],
          "surface": [
           {
            "colorbar": {
             "outlinewidth": 0,
             "ticks": ""
            },
            "colorscale": [
             [
              0,
              "#0d0887"
             ],
             [
              0.1111111111111111,
              "#46039f"
             ],
             [
              0.2222222222222222,
              "#7201a8"
             ],
             [
              0.3333333333333333,
              "#9c179e"
             ],
             [
              0.4444444444444444,
              "#bd3786"
             ],
             [
              0.5555555555555556,
              "#d8576b"
             ],
             [
              0.6666666666666666,
              "#ed7953"
             ],
             [
              0.7777777777777778,
              "#fb9f3a"
             ],
             [
              0.8888888888888888,
              "#fdca26"
             ],
             [
              1,
              "#f0f921"
             ]
            ],
            "type": "surface"
           }
          ],
          "table": [
           {
            "cells": {
             "fill": {
              "color": "#EBF0F8"
             },
             "line": {
              "color": "white"
             }
            },
            "header": {
             "fill": {
              "color": "#C8D4E3"
             },
             "line": {
              "color": "white"
             }
            },
            "type": "table"
           }
          ]
         },
         "layout": {
          "annotationdefaults": {
           "arrowcolor": "#2a3f5f",
           "arrowhead": 0,
           "arrowwidth": 1
          },
          "autotypenumbers": "strict",
          "coloraxis": {
           "colorbar": {
            "outlinewidth": 0,
            "ticks": ""
           }
          },
          "colorscale": {
           "diverging": [
            [
             0,
             "#8e0152"
            ],
            [
             0.1,
             "#c51b7d"
            ],
            [
             0.2,
             "#de77ae"
            ],
            [
             0.3,
             "#f1b6da"
            ],
            [
             0.4,
             "#fde0ef"
            ],
            [
             0.5,
             "#f7f7f7"
            ],
            [
             0.6,
             "#e6f5d0"
            ],
            [
             0.7,
             "#b8e186"
            ],
            [
             0.8,
             "#7fbc41"
            ],
            [
             0.9,
             "#4d9221"
            ],
            [
             1,
             "#276419"
            ]
           ],
           "sequential": [
            [
             0,
             "#0d0887"
            ],
            [
             0.1111111111111111,
             "#46039f"
            ],
            [
             0.2222222222222222,
             "#7201a8"
            ],
            [
             0.3333333333333333,
             "#9c179e"
            ],
            [
             0.4444444444444444,
             "#bd3786"
            ],
            [
             0.5555555555555556,
             "#d8576b"
            ],
            [
             0.6666666666666666,
             "#ed7953"
            ],
            [
             0.7777777777777778,
             "#fb9f3a"
            ],
            [
             0.8888888888888888,
             "#fdca26"
            ],
            [
             1,
             "#f0f921"
            ]
           ],
           "sequentialminus": [
            [
             0,
             "#0d0887"
            ],
            [
             0.1111111111111111,
             "#46039f"
            ],
            [
             0.2222222222222222,
             "#7201a8"
            ],
            [
             0.3333333333333333,
             "#9c179e"
            ],
            [
             0.4444444444444444,
             "#bd3786"
            ],
            [
             0.5555555555555556,
             "#d8576b"
            ],
            [
             0.6666666666666666,
             "#ed7953"
            ],
            [
             0.7777777777777778,
             "#fb9f3a"
            ],
            [
             0.8888888888888888,
             "#fdca26"
            ],
            [
             1,
             "#f0f921"
            ]
           ]
          },
          "colorway": [
           "#636efa",
           "#EF553B",
           "#00cc96",
           "#ab63fa",
           "#FFA15A",
           "#19d3f3",
           "#FF6692",
           "#B6E880",
           "#FF97FF",
           "#FECB52"
          ],
          "font": {
           "color": "#2a3f5f"
          },
          "geo": {
           "bgcolor": "white",
           "lakecolor": "white",
           "landcolor": "white",
           "showlakes": true,
           "showland": true,
           "subunitcolor": "#C8D4E3"
          },
          "hoverlabel": {
           "align": "left"
          },
          "hovermode": "closest",
          "mapbox": {
           "style": "light"
          },
          "paper_bgcolor": "white",
          "plot_bgcolor": "white",
          "polar": {
           "angularaxis": {
            "gridcolor": "#EBF0F8",
            "linecolor": "#EBF0F8",
            "ticks": ""
           },
           "bgcolor": "white",
           "radialaxis": {
            "gridcolor": "#EBF0F8",
            "linecolor": "#EBF0F8",
            "ticks": ""
           }
          },
          "scene": {
           "xaxis": {
            "backgroundcolor": "white",
            "gridcolor": "#DFE8F3",
            "gridwidth": 2,
            "linecolor": "#EBF0F8",
            "showbackground": true,
            "ticks": "",
            "zerolinecolor": "#EBF0F8"
           },
           "yaxis": {
            "backgroundcolor": "white",
            "gridcolor": "#DFE8F3",
            "gridwidth": 2,
            "linecolor": "#EBF0F8",
            "showbackground": true,
            "ticks": "",
            "zerolinecolor": "#EBF0F8"
           },
           "zaxis": {
            "backgroundcolor": "white",
            "gridcolor": "#DFE8F3",
            "gridwidth": 2,
            "linecolor": "#EBF0F8",
            "showbackground": true,
            "ticks": "",
            "zerolinecolor": "#EBF0F8"
           }
          },
          "shapedefaults": {
           "line": {
            "color": "#2a3f5f"
           }
          },
          "ternary": {
           "aaxis": {
            "gridcolor": "#DFE8F3",
            "linecolor": "#A2B1C6",
            "ticks": ""
           },
           "baxis": {
            "gridcolor": "#DFE8F3",
            "linecolor": "#A2B1C6",
            "ticks": ""
           },
           "bgcolor": "white",
           "caxis": {
            "gridcolor": "#DFE8F3",
            "linecolor": "#A2B1C6",
            "ticks": ""
           }
          },
          "title": {
           "x": 0.05
          },
          "xaxis": {
           "automargin": true,
           "gridcolor": "#EBF0F8",
           "linecolor": "#EBF0F8",
           "ticks": "",
           "title": {
            "standoff": 15
           },
           "zerolinecolor": "#EBF0F8",
           "zerolinewidth": 2
          },
          "yaxis": {
           "automargin": true,
           "gridcolor": "#EBF0F8",
           "linecolor": "#EBF0F8",
           "ticks": "",
           "title": {
            "standoff": 15
           },
           "zerolinecolor": "#EBF0F8",
           "zerolinewidth": 2
          }
         }
        },
        "width": 1600,
        "xaxis": {
         "anchor": "y",
         "categoryarray": [
          "A",
          "C",
          "B",
          "D"
         ],
         "categoryorder": "array",
         "domain": [
          0,
          0.2125
         ],
         "showticklabels": true,
         "tickangle": 0,
         "type": "category"
        },
        "xaxis2": {
         "anchor": "y2",
         "categoryarray": [
          "B",
          "A",
          "C",
          "D"
         ],
         "categoryorder": "array",
         "domain": [
          0.2625,
          0.475
         ],
         "showticklabels": true,
         "tickangle": 0,
         "type": "category"
        },
        "xaxis3": {
         "anchor": "y3",
         "categoryarray": [
          "A",
          "B",
          "C",
          "D"
         ],
         "categoryorder": "array",
         "domain": [
          0.525,
          0.7375
         ],
         "showticklabels": true,
         "tickangle": 0,
         "type": "category"
        },
        "xaxis4": {
         "anchor": "y4",
         "categoryarray": [
          "A",
          "B",
          "C",
          "D"
         ],
         "categoryorder": "array",
         "domain": [
          0.7875,
          1
         ],
         "showticklabels": true,
         "tickangle": 0,
         "type": "category"
        },
        "xaxis5": {
         "anchor": "y5",
         "categoryarray": [
          "B",
          "A",
          "C",
          "D"
         ],
         "categoryorder": "array",
         "domain": [
          0,
          0.2125
         ],
         "showticklabels": true,
         "tickangle": 0,
         "type": "category"
        },
        "xaxis6": {
         "anchor": "y6",
         "categoryarray": [
          "B",
          "C",
          "A",
          "D"
         ],
         "categoryorder": "array",
         "domain": [
          0.2625,
          0.475
         ],
         "showticklabels": true,
         "tickangle": 0,
         "type": "category"
        },
        "xaxis7": {
         "anchor": "y7",
         "categoryarray": [
          "A",
          "C",
          "B",
          "D"
         ],
         "categoryorder": "array",
         "domain": [
          0.525,
          0.7375
         ],
         "showticklabels": true,
         "tickangle": 0,
         "type": "category"
        },
        "xaxis8": {
         "anchor": "y8",
         "categoryarray": [
          "A",
          "B",
          "C",
          "D"
         ],
         "categoryorder": "array",
         "domain": [
          0.7875,
          1
         ],
         "showticklabels": true,
         "tickangle": 0,
         "type": "category"
        },
        "yaxis": {
         "anchor": "x",
         "domain": [
          0.625,
          1
         ],
         "title": {
          "text": "Frequência"
         }
        },
        "yaxis2": {
         "anchor": "x2",
         "domain": [
          0.625,
          1
         ],
         "title": {
          "text": "Frequência"
         }
        },
        "yaxis3": {
         "anchor": "x3",
         "domain": [
          0.625,
          1
         ],
         "title": {
          "text": "Frequência"
         }
        },
        "yaxis4": {
         "anchor": "x4",
         "domain": [
          0.625,
          1
         ],
         "title": {
          "text": "Frequência"
         }
        },
        "yaxis5": {
         "anchor": "x5",
         "domain": [
          0,
          0.375
         ],
         "title": {
          "text": "Frequência"
         }
        },
        "yaxis6": {
         "anchor": "x6",
         "domain": [
          0,
          0.375
         ],
         "title": {
          "text": "Frequência"
         }
        },
        "yaxis7": {
         "anchor": "x7",
         "domain": [
          0,
          0.375
         ],
         "title": {
          "text": "Frequência"
         }
        },
        "yaxis8": {
         "anchor": "x8",
         "domain": [
          0,
          0.375
         ],
         "title": {
          "text": "Frequência"
         }
        }
       }
      }
     },
     "metadata": {},
     "output_type": "display_data"
    }
   ],
   "source": [
    "# Junta o cluster ao dataframe original\n",
    "df_clusters = df_gf.copy()\n",
    "df_clusters['Cluster'] = clusters_k3\n",
    "titulos_perguntas = {\n",
    "    'pergunta_1': 'Nível de clareza',\n",
    "    'pergunta_2': 'Situação financeira atual',\n",
    "    'pergunta_3': 'Apoio e envolvimento',\n",
    "    'pergunta_4': 'Nível de organização do planejamento',\n",
    "    'pergunta_5': 'Possibilidade de investimento atual',\n",
    "    'pergunta_6': 'Estilo de casamento desejado',\n",
    "    'pergunta_7': 'Planejamento da lua de mel',\n",
    "    'pergunta_8': 'Comprometimento em tornar realidade'\n",
    "}\n",
    "perguntas = df_gf.columns.tolist()\n",
    "num_perguntas = len(perguntas)\n",
    "n_rows = 2\n",
    "n_cols = 4\n",
    "subplot_titles_list = []\n",
    "for i in range(n_rows * n_cols):\n",
    "    if i < num_perguntas:\n",
    "        pergunta_nome = perguntas[i]\n",
    "        titulo = titulos_perguntas.get(pergunta_nome, pergunta_nome)\n",
    "        subplot_titles_list.append(f'{titulo} ')\n",
    "    else:\n",
    "        subplot_titles_list.append('')\n",
    "fig = make_subplots(\n",
    "    rows=n_rows,\n",
    "    cols=n_cols,\n",
    "    subplot_titles=subplot_titles_list\n",
    ")\n",
    "palette = qualitative.Vivid\n",
    "unique_cluster_values = sorted(df_clusters['Cluster'].unique())\n",
    "cluster_color_map = {\n",
    "    cluster_val: palette[i % len(palette)]\n",
    "    for i, cluster_val in enumerate(unique_cluster_values)\n",
    "}\n",
    "for i, pergunta in enumerate(perguntas):\n",
    "    if i >= n_rows * n_cols:\n",
    "        break\n",
    "    row_num = (i // n_cols) + 1\n",
    "    col_num = (i % n_cols) + 1\n",
    "\n",
    "    ordem_categorias = df_clusters[pergunta].value_counts().index.tolist()\n",
    "\n",
    "    for cluster_val in unique_cluster_values:\n",
    "        df_subset_cluster = df_clusters[df_clusters['Cluster'] == cluster_val]\n",
    "\n",
    "        counts = df_subset_cluster[pergunta].value_counts()\n",
    "        y_values = [counts.get(cat, 0) for cat in ordem_categorias]\n",
    "\n",
    "        fig.add_trace(go.Bar(\n",
    "            x=ordem_categorias,\n",
    "            y=y_values,\n",
    "            name=f'Cluster {cluster_val}',\n",
    "            marker_color=cluster_color_map[cluster_val],\n",
    "            showlegend=(i == 0)\n",
    "        ), row=row_num, col=col_num)\n",
    "    fig.update_xaxes(\n",
    "        type='category',\n",
    "        categoryorder='array',\n",
    "        categoryarray=ordem_categorias,\n",
    "        tickangle=0,\n",
    "        showticklabels=True,\n",
    "        row=row_num,\n",
    "        col=col_num\n",
    "    )\n",
    "    fig.update_yaxes(\n",
    "        title_text='Frequência',\n",
    "        row=row_num,\n",
    "        col=col_num\n",
    "    )\n",
    "fig.update_layout(\n",
    "    height=800,\n",
    "    width=1600,\n",
    "    barmode='group',\n",
    "    legend_title_text='Cluster',\n",
    "    template='plotly_white'\n",
    ")\n",
    "fig.show()"
   ]
  },
  {
   "cell_type": "code",
   "execution_count": 42,
   "id": "43254fc5",
   "metadata": {},
   "outputs": [
    {
     "data": {
      "application/vnd.plotly.v1+json": {
       "config": {
        "plotlyServerURL": "https://plot.ly"
       },
       "data": [
        {
         "cells": {
          "align": "left",
          "height": 30,
          "values": [
           [
            "pergunta_6_C",
            "pergunta_3_A",
            "pergunta_7_A",
            "pergunta_5_A",
            "pergunta_4_A"
           ],
           [
            0.626,
            0.534,
            0.49,
            0.461,
            0.447
           ]
          ]
         },
         "domain": {
          "x": [
           0,
           0.2888888888888889
          ],
          "y": [
           0,
           1
          ]
         },
         "header": {
          "align": "left",
          "fill": {
           "color": "lightgrey"
          },
          "font": {
           "color": "black",
           "size": 12
          },
          "values": [
           "Resposta",
           "Proporção"
          ]
         },
         "type": "table"
        },
        {
         "cells": {
          "align": "left",
          "height": 30,
          "values": [
           [
            "pergunta_6_B",
            "pergunta_5_B",
            "pergunta_4_A",
            "pergunta_7_A",
            "pergunta_3_A"
           ],
           [
            0.996,
            0.624,
            0.573,
            0.568,
            0.517
           ]
          ]
         },
         "domain": {
          "x": [
           0.35555555555555557,
           0.6444444444444445
          ],
          "y": [
           0,
           1
          ]
         },
         "header": {
          "align": "left",
          "fill": {
           "color": "lightgrey"
          },
          "font": {
           "color": "black",
           "size": 12
          },
          "values": [
           "Resposta",
           "Proporção"
          ]
         },
         "type": "table"
        },
        {
         "cells": {
          "align": "left",
          "height": 30,
          "values": [
           [
            "pergunta_1_D",
            "pergunta_8_D",
            "pergunta_4_D",
            "pergunta_5_D",
            "pergunta_3_A"
           ],
           [
            0.891,
            0.855,
            0.582,
            0.491,
            0.473
           ]
          ]
         },
         "domain": {
          "x": [
           0.7111111111111111,
           1
          ],
          "y": [
           0,
           1
          ]
         },
         "header": {
          "align": "left",
          "fill": {
           "color": "lightgrey"
          },
          "font": {
           "color": "black",
           "size": 12
          },
          "values": [
           "Resposta",
           "Proporção"
          ]
         },
         "type": "table"
        }
       ],
       "layout": {
        "annotations": [
         {
          "font": {
           "size": 16
          },
          "showarrow": false,
          "text": "Cluster 0",
          "x": 0.14444444444444446,
          "xanchor": "center",
          "xref": "paper",
          "y": 1,
          "yanchor": "bottom",
          "yref": "paper"
         },
         {
          "font": {
           "size": 16
          },
          "showarrow": false,
          "text": "Cluster 1",
          "x": 0.5,
          "xanchor": "center",
          "xref": "paper",
          "y": 1,
          "yanchor": "bottom",
          "yref": "paper"
         },
         {
          "font": {
           "size": 16
          },
          "showarrow": false,
          "text": "Cluster 2",
          "x": 0.8555555555555556,
          "xanchor": "center",
          "xref": "paper",
          "y": 1,
          "yanchor": "bottom",
          "yref": "paper"
         }
        ],
        "height": 370,
        "template": {
         "data": {
          "bar": [
           {
            "error_x": {
             "color": "#2a3f5f"
            },
            "error_y": {
             "color": "#2a3f5f"
            },
            "marker": {
             "line": {
              "color": "white",
              "width": 0.5
             },
             "pattern": {
              "fillmode": "overlay",
              "size": 10,
              "solidity": 0.2
             }
            },
            "type": "bar"
           }
          ],
          "barpolar": [
           {
            "marker": {
             "line": {
              "color": "white",
              "width": 0.5
             },
             "pattern": {
              "fillmode": "overlay",
              "size": 10,
              "solidity": 0.2
             }
            },
            "type": "barpolar"
           }
          ],
          "carpet": [
           {
            "aaxis": {
             "endlinecolor": "#2a3f5f",
             "gridcolor": "#C8D4E3",
             "linecolor": "#C8D4E3",
             "minorgridcolor": "#C8D4E3",
             "startlinecolor": "#2a3f5f"
            },
            "baxis": {
             "endlinecolor": "#2a3f5f",
             "gridcolor": "#C8D4E3",
             "linecolor": "#C8D4E3",
             "minorgridcolor": "#C8D4E3",
             "startlinecolor": "#2a3f5f"
            },
            "type": "carpet"
           }
          ],
          "choropleth": [
           {
            "colorbar": {
             "outlinewidth": 0,
             "ticks": ""
            },
            "type": "choropleth"
           }
          ],
          "contour": [
           {
            "colorbar": {
             "outlinewidth": 0,
             "ticks": ""
            },
            "colorscale": [
             [
              0,
              "#0d0887"
             ],
             [
              0.1111111111111111,
              "#46039f"
             ],
             [
              0.2222222222222222,
              "#7201a8"
             ],
             [
              0.3333333333333333,
              "#9c179e"
             ],
             [
              0.4444444444444444,
              "#bd3786"
             ],
             [
              0.5555555555555556,
              "#d8576b"
             ],
             [
              0.6666666666666666,
              "#ed7953"
             ],
             [
              0.7777777777777778,
              "#fb9f3a"
             ],
             [
              0.8888888888888888,
              "#fdca26"
             ],
             [
              1,
              "#f0f921"
             ]
            ],
            "type": "contour"
           }
          ],
          "contourcarpet": [
           {
            "colorbar": {
             "outlinewidth": 0,
             "ticks": ""
            },
            "type": "contourcarpet"
           }
          ],
          "heatmap": [
           {
            "colorbar": {
             "outlinewidth": 0,
             "ticks": ""
            },
            "colorscale": [
             [
              0,
              "#0d0887"
             ],
             [
              0.1111111111111111,
              "#46039f"
             ],
             [
              0.2222222222222222,
              "#7201a8"
             ],
             [
              0.3333333333333333,
              "#9c179e"
             ],
             [
              0.4444444444444444,
              "#bd3786"
             ],
             [
              0.5555555555555556,
              "#d8576b"
             ],
             [
              0.6666666666666666,
              "#ed7953"
             ],
             [
              0.7777777777777778,
              "#fb9f3a"
             ],
             [
              0.8888888888888888,
              "#fdca26"
             ],
             [
              1,
              "#f0f921"
             ]
            ],
            "type": "heatmap"
           }
          ],
          "heatmapgl": [
           {
            "colorbar": {
             "outlinewidth": 0,
             "ticks": ""
            },
            "colorscale": [
             [
              0,
              "#0d0887"
             ],
             [
              0.1111111111111111,
              "#46039f"
             ],
             [
              0.2222222222222222,
              "#7201a8"
             ],
             [
              0.3333333333333333,
              "#9c179e"
             ],
             [
              0.4444444444444444,
              "#bd3786"
             ],
             [
              0.5555555555555556,
              "#d8576b"
             ],
             [
              0.6666666666666666,
              "#ed7953"
             ],
             [
              0.7777777777777778,
              "#fb9f3a"
             ],
             [
              0.8888888888888888,
              "#fdca26"
             ],
             [
              1,
              "#f0f921"
             ]
            ],
            "type": "heatmapgl"
           }
          ],
          "histogram": [
           {
            "marker": {
             "pattern": {
              "fillmode": "overlay",
              "size": 10,
              "solidity": 0.2
             }
            },
            "type": "histogram"
           }
          ],
          "histogram2d": [
           {
            "colorbar": {
             "outlinewidth": 0,
             "ticks": ""
            },
            "colorscale": [
             [
              0,
              "#0d0887"
             ],
             [
              0.1111111111111111,
              "#46039f"
             ],
             [
              0.2222222222222222,
              "#7201a8"
             ],
             [
              0.3333333333333333,
              "#9c179e"
             ],
             [
              0.4444444444444444,
              "#bd3786"
             ],
             [
              0.5555555555555556,
              "#d8576b"
             ],
             [
              0.6666666666666666,
              "#ed7953"
             ],
             [
              0.7777777777777778,
              "#fb9f3a"
             ],
             [
              0.8888888888888888,
              "#fdca26"
             ],
             [
              1,
              "#f0f921"
             ]
            ],
            "type": "histogram2d"
           }
          ],
          "histogram2dcontour": [
           {
            "colorbar": {
             "outlinewidth": 0,
             "ticks": ""
            },
            "colorscale": [
             [
              0,
              "#0d0887"
             ],
             [
              0.1111111111111111,
              "#46039f"
             ],
             [
              0.2222222222222222,
              "#7201a8"
             ],
             [
              0.3333333333333333,
              "#9c179e"
             ],
             [
              0.4444444444444444,
              "#bd3786"
             ],
             [
              0.5555555555555556,
              "#d8576b"
             ],
             [
              0.6666666666666666,
              "#ed7953"
             ],
             [
              0.7777777777777778,
              "#fb9f3a"
             ],
             [
              0.8888888888888888,
              "#fdca26"
             ],
             [
              1,
              "#f0f921"
             ]
            ],
            "type": "histogram2dcontour"
           }
          ],
          "mesh3d": [
           {
            "colorbar": {
             "outlinewidth": 0,
             "ticks": ""
            },
            "type": "mesh3d"
           }
          ],
          "parcoords": [
           {
            "line": {
             "colorbar": {
              "outlinewidth": 0,
              "ticks": ""
             }
            },
            "type": "parcoords"
           }
          ],
          "pie": [
           {
            "automargin": true,
            "type": "pie"
           }
          ],
          "scatter": [
           {
            "fillpattern": {
             "fillmode": "overlay",
             "size": 10,
             "solidity": 0.2
            },
            "type": "scatter"
           }
          ],
          "scatter3d": [
           {
            "line": {
             "colorbar": {
              "outlinewidth": 0,
              "ticks": ""
             }
            },
            "marker": {
             "colorbar": {
              "outlinewidth": 0,
              "ticks": ""
             }
            },
            "type": "scatter3d"
           }
          ],
          "scattercarpet": [
           {
            "marker": {
             "colorbar": {
              "outlinewidth": 0,
              "ticks": ""
             }
            },
            "type": "scattercarpet"
           }
          ],
          "scattergeo": [
           {
            "marker": {
             "colorbar": {
              "outlinewidth": 0,
              "ticks": ""
             }
            },
            "type": "scattergeo"
           }
          ],
          "scattergl": [
           {
            "marker": {
             "colorbar": {
              "outlinewidth": 0,
              "ticks": ""
             }
            },
            "type": "scattergl"
           }
          ],
          "scattermapbox": [
           {
            "marker": {
             "colorbar": {
              "outlinewidth": 0,
              "ticks": ""
             }
            },
            "type": "scattermapbox"
           }
          ],
          "scatterpolar": [
           {
            "marker": {
             "colorbar": {
              "outlinewidth": 0,
              "ticks": ""
             }
            },
            "type": "scatterpolar"
           }
          ],
          "scatterpolargl": [
           {
            "marker": {
             "colorbar": {
              "outlinewidth": 0,
              "ticks": ""
             }
            },
            "type": "scatterpolargl"
           }
          ],
          "scatterternary": [
           {
            "marker": {
             "colorbar": {
              "outlinewidth": 0,
              "ticks": ""
             }
            },
            "type": "scatterternary"
           }
          ],
          "surface": [
           {
            "colorbar": {
             "outlinewidth": 0,
             "ticks": ""
            },
            "colorscale": [
             [
              0,
              "#0d0887"
             ],
             [
              0.1111111111111111,
              "#46039f"
             ],
             [
              0.2222222222222222,
              "#7201a8"
             ],
             [
              0.3333333333333333,
              "#9c179e"
             ],
             [
              0.4444444444444444,
              "#bd3786"
             ],
             [
              0.5555555555555556,
              "#d8576b"
             ],
             [
              0.6666666666666666,
              "#ed7953"
             ],
             [
              0.7777777777777778,
              "#fb9f3a"
             ],
             [
              0.8888888888888888,
              "#fdca26"
             ],
             [
              1,
              "#f0f921"
             ]
            ],
            "type": "surface"
           }
          ],
          "table": [
           {
            "cells": {
             "fill": {
              "color": "#EBF0F8"
             },
             "line": {
              "color": "white"
             }
            },
            "header": {
             "fill": {
              "color": "#C8D4E3"
             },
             "line": {
              "color": "white"
             }
            },
            "type": "table"
           }
          ]
         },
         "layout": {
          "annotationdefaults": {
           "arrowcolor": "#2a3f5f",
           "arrowhead": 0,
           "arrowwidth": 1
          },
          "autotypenumbers": "strict",
          "coloraxis": {
           "colorbar": {
            "outlinewidth": 0,
            "ticks": ""
           }
          },
          "colorscale": {
           "diverging": [
            [
             0,
             "#8e0152"
            ],
            [
             0.1,
             "#c51b7d"
            ],
            [
             0.2,
             "#de77ae"
            ],
            [
             0.3,
             "#f1b6da"
            ],
            [
             0.4,
             "#fde0ef"
            ],
            [
             0.5,
             "#f7f7f7"
            ],
            [
             0.6,
             "#e6f5d0"
            ],
            [
             0.7,
             "#b8e186"
            ],
            [
             0.8,
             "#7fbc41"
            ],
            [
             0.9,
             "#4d9221"
            ],
            [
             1,
             "#276419"
            ]
           ],
           "sequential": [
            [
             0,
             "#0d0887"
            ],
            [
             0.1111111111111111,
             "#46039f"
            ],
            [
             0.2222222222222222,
             "#7201a8"
            ],
            [
             0.3333333333333333,
             "#9c179e"
            ],
            [
             0.4444444444444444,
             "#bd3786"
            ],
            [
             0.5555555555555556,
             "#d8576b"
            ],
            [
             0.6666666666666666,
             "#ed7953"
            ],
            [
             0.7777777777777778,
             "#fb9f3a"
            ],
            [
             0.8888888888888888,
             "#fdca26"
            ],
            [
             1,
             "#f0f921"
            ]
           ],
           "sequentialminus": [
            [
             0,
             "#0d0887"
            ],
            [
             0.1111111111111111,
             "#46039f"
            ],
            [
             0.2222222222222222,
             "#7201a8"
            ],
            [
             0.3333333333333333,
             "#9c179e"
            ],
            [
             0.4444444444444444,
             "#bd3786"
            ],
            [
             0.5555555555555556,
             "#d8576b"
            ],
            [
             0.6666666666666666,
             "#ed7953"
            ],
            [
             0.7777777777777778,
             "#fb9f3a"
            ],
            [
             0.8888888888888888,
             "#fdca26"
            ],
            [
             1,
             "#f0f921"
            ]
           ]
          },
          "colorway": [
           "#636efa",
           "#EF553B",
           "#00cc96",
           "#ab63fa",
           "#FFA15A",
           "#19d3f3",
           "#FF6692",
           "#B6E880",
           "#FF97FF",
           "#FECB52"
          ],
          "font": {
           "color": "#2a3f5f"
          },
          "geo": {
           "bgcolor": "white",
           "lakecolor": "white",
           "landcolor": "white",
           "showlakes": true,
           "showland": true,
           "subunitcolor": "#C8D4E3"
          },
          "hoverlabel": {
           "align": "left"
          },
          "hovermode": "closest",
          "mapbox": {
           "style": "light"
          },
          "paper_bgcolor": "white",
          "plot_bgcolor": "white",
          "polar": {
           "angularaxis": {
            "gridcolor": "#EBF0F8",
            "linecolor": "#EBF0F8",
            "ticks": ""
           },
           "bgcolor": "white",
           "radialaxis": {
            "gridcolor": "#EBF0F8",
            "linecolor": "#EBF0F8",
            "ticks": ""
           }
          },
          "scene": {
           "xaxis": {
            "backgroundcolor": "white",
            "gridcolor": "#DFE8F3",
            "gridwidth": 2,
            "linecolor": "#EBF0F8",
            "showbackground": true,
            "ticks": "",
            "zerolinecolor": "#EBF0F8"
           },
           "yaxis": {
            "backgroundcolor": "white",
            "gridcolor": "#DFE8F3",
            "gridwidth": 2,
            "linecolor": "#EBF0F8",
            "showbackground": true,
            "ticks": "",
            "zerolinecolor": "#EBF0F8"
           },
           "zaxis": {
            "backgroundcolor": "white",
            "gridcolor": "#DFE8F3",
            "gridwidth": 2,
            "linecolor": "#EBF0F8",
            "showbackground": true,
            "ticks": "",
            "zerolinecolor": "#EBF0F8"
           }
          },
          "shapedefaults": {
           "line": {
            "color": "#2a3f5f"
           }
          },
          "ternary": {
           "aaxis": {
            "gridcolor": "#DFE8F3",
            "linecolor": "#A2B1C6",
            "ticks": ""
           },
           "baxis": {
            "gridcolor": "#DFE8F3",
            "linecolor": "#A2B1C6",
            "ticks": ""
           },
           "bgcolor": "white",
           "caxis": {
            "gridcolor": "#DFE8F3",
            "linecolor": "#A2B1C6",
            "ticks": ""
           }
          },
          "title": {
           "x": 0.05
          },
          "xaxis": {
           "automargin": true,
           "gridcolor": "#EBF0F8",
           "linecolor": "#EBF0F8",
           "ticks": "",
           "title": {
            "standoff": 15
           },
           "zerolinecolor": "#EBF0F8",
           "zerolinewidth": 2
          },
          "yaxis": {
           "automargin": true,
           "gridcolor": "#EBF0F8",
           "linecolor": "#EBF0F8",
           "ticks": "",
           "title": {
            "standoff": 15
           },
           "zerolinecolor": "#EBF0F8",
           "zerolinewidth": 2
          }
         }
        },
        "title": {
         "text": "Top 5 respostas mais representativas por Cluster",
         "x": 0.5
        },
        "width": 1200
       }
      }
     },
     "metadata": {},
     "output_type": "display_data"
    }
   ],
   "source": [
    "# Calculando a média de respostas por cluster -- as 5 primeiras\n",
    "df_encoded = pd.get_dummies(df_clusters.drop('Cluster', axis=1), prefix_sep='_', drop_first=False)\n",
    "df_encoded['Cluster'] = df_clusters['Cluster']\n",
    "centroids = df_encoded.groupby('Cluster').mean()\n",
    "fig = make_subplots(\n",
    "    rows=1, \n",
    "    cols=3, \n",
    "    subplot_titles=[f\"Cluster {i}\" for i in centroids.index],\n",
    "    specs=[[{\"type\": \"table\"}]*3]\n",
    ")\n",
    "for i, cluster in enumerate(centroids.index):\n",
    "    top5 = centroids.loc[cluster].sort_values(ascending=False).head(5)\n",
    "\n",
    "    fig.add_trace(\n",
    "        go.Table(\n",
    "            header=dict(\n",
    "                values=[\"Resposta\", \"Proporção\"],\n",
    "                fill_color=\"lightgrey\",\n",
    "                align=\"left\",\n",
    "                font=dict(color=\"black\", size=12)\n",
    "            ),\n",
    "            cells=dict(\n",
    "                values=[top5.index, top5.values.round(3)],\n",
    "                align=\"left\",\n",
    "                height=30\n",
    "            )\n",
    "        ),\n",
    "        row=1, col=i+1\n",
    "    )\n",
    "fig.update_layout(\n",
    "    height=370, \n",
    "    width=1200,\n",
    "    title_text=\"Top 5 respostas mais representativas por Cluster\",\n",
    "    title_x=0.5,\n",
    "    template=\"plotly_white\"\n",
    ")\n",
    "fig.show()\n"
   ]
  },
  {
   "cell_type": "markdown",
   "id": "18661aff",
   "metadata": {},
   "source": [
    "Com base na análise dos centroides, que representam os valores médios (proporções de escolha) de cada resposta dentro de cada cluster, podemos interpretar que:\n",
    "\n",
    "- Quanto mais próximo de 1, mais predominante é essa característica no grupo.\n",
    "\n",
    "- Cada valor varia de 0 a 1 e representa a frequência relativa com que aquela opção foi escolhida dentro do cluster.\n",
    "\n",
    "Esse método nos permite entender o perfil médio e as prioridades de cada segmento."
   ]
  },
  {
   "cell_type": "markdown",
   "id": "5b65a3d5",
   "metadata": {},
   "source": [
    "##  **Interpretação dos Clusters**\n",
    "\n",
    "### Segmento 1: 206 leads (Cluster 0 - 42%)\n",
    "\n",
    "##### Perfil Detalhado:\n",
    "* Estilo de Casamento (Pergunta 6): Desejam \"Uma cerimônia encantadora, com tudo bem feito\", mas não necessariamente o mais luxuoso (🔸 pergunta_6_C – 62.6%).\n",
    "* Apoio do Parceiro (Pergunta 3): O parceiro(a) \"Está completamente envolvido(a), sonha junto comigo\" (🔸 pergunta_3_A – 53.4%).\n",
    "* Planejamento da Lua de Mel (Pergunta 7): A grande maioria \"Nem pensamos nisso ainda\" (🔸 pergunta_7_A – 49.0%).\n",
    "* Possibilidade de Investimento (Pergunta 5): Sentem que \"Não conseguiríamos bancar nada ainda\" se o casamento fosse hoje (🔸 pergunta_5_A – 46.1%).\n",
    "* Nível de Organização (Pergunta 4): Ainda \"Não começamos ainda\" o planejamento (🔸 pergunta_4_A – 44.7%).\n",
    "\n",
    "##### Resumo do Comportamento:\n",
    "* Este grupo, um dos maiores, está em um estágio muito inicial. Têm sonhos e desejos claros sobre o estilo da cerimônia e contam com forte apoio mútuo no casal.\n",
    "* No entanto, enfrentam uma paralisia prática devido à falta de organização e, crucialmente, à percepção de incapacidade financeira no momento.\n",
    "* Estão sonhando alto, mas se sentem perdidas sobre por onde começar, com o orçamento e a organização sendo os principais gargalos.\n",
    "\n",
    "##### Necessidades:\n",
    "* Guias práticos e passo a passo: \"Do zero ao casamento dos sonhos: um guia para iniciantes\".\n",
    "* Ferramentas básicas de organização: checklists simples, cronogramas iniciais, modelos de planilhas de orçamento para iniciantes.\n",
    "* Soluções e ideias para casamentos acessíveis: Conteúdo sobre como realizar uma cerimônia encantadora com orçamento limitado.\n",
    "* Conteúdo emocional e motivacional: Que reforce que é normal sentir-se perdido no início e que é possível transformar o sonho em realidade com planejamento, mesmo com recursos limitados.\n",
    "\n",
    "---\n",
    "\n",
    "### Segmento 2: 234 leads (Cluster 1 — 47%)\n",
    "\n",
    "##### Perfil Detalhado:\n",
    "\n",
    "* Estilo de Casamento (Pergunta 6): Predominantemente, desejam \"Algo íntimo e simples, só com pessoas próximas\" (🔸 pergunta_6_B – 99.6%). Este é o traço mais marcante deste grupo.\n",
    "* Possibilidade de Investimento (Pergunta 5): A maioria acredita que \"Conseguiríamos fazer algo simples\" se fossem realizar o casamento hoje (🔸 pergunta_5_B – 62.4%).\n",
    "* Nível de Organização (Pergunta 4): Uma parcela significativa \"Não começamos ainda\" o planejamento (🔸 pergunta_4_A – 57.3%).\n",
    "* Planejamento da Lua de Mel (Pergunta 7): A maioria \"Nem pensamos nisso ainda\" (🔸 pergunta_7_A – 56.8%).\n",
    "* Apoio do Parceiro (Pergunta 3): O parceiro(a) \"Está completamente envolvido(a), sonha junto comigo\" (🔸 pergunta_3_A – 51.7%).\n",
    "\n",
    "##### Resumo do Comportamento:\n",
    "\n",
    "* Este é o maior grupo e caracteriza-se por um desejo claro por um casamento mais simples e intimista.\n",
    "* Financeiramente, sentem-se capazes de realizar um evento modesto, mas ainda não iniciaram a organização prática nem o planejamento da lua de mel.\n",
    "* O envolvimento do parceiro é alto, indicando um sonho compartilhado.\n",
    "*Apesar da simplicidade desejada, a falta de início no planejamento sugere uma necessidade de orientação para dar os primeiros passos, mesmo para um evento menor.\n",
    "\n",
    "##### Necessidades:\n",
    "\n",
    "* Ideias e inspirações para casamentos simples, elegantes e econômicos.\n",
    "* Ferramentas de planejamento focadas em eventos menores e mais objetivos.\n",
    "* Direcionamento sobre como começar a planejar um casamento intimista sem complicação.\n",
    "* Conteúdo que valide a escolha por um casamento menor, mostrando seus benefícios e charme.\n",
    "\n",
    "---\n",
    "\n",
    "### Segmento 3: 55 leads (Cluster 2 — 11%)\n",
    "\n",
    "##### Perfil Detalhado:\n",
    "\n",
    "* Nível de Clareza (Pergunta 1): Têm um nível de clareza muito alto: \"Sabemos exatamente o que queremos e já começamos a organizar\" (🔸 pergunta_1_D – 89.1%).\n",
    "* Comprometimento (Pergunta 8): Estão altamente comprometidas: \"Estamos prontos, queremos agir e realizar de verdade\" (🔸 pergunta_8_D – 85.5%).\n",
    "* Nível de Organização (Pergunta 4): Já estão bem organizadas: \"Temos planilhas, metas e até cronograma definido\" (🔸 pergunta_4_D – 58.2%).\n",
    "* Possibilidade de Investimento (Pergunta 5): Acreditam que \"Poderíamos arcar com boa parte, mas queremos mais liberdade\" financeira (🔸 pergunta_5_D – 49.1%).\n",
    "* Apoio do Parceiro (Pergunta 3): O parceiro(a) \"Está completamente envolvido(a), sonha junto comigo\" (🔸 pergunta_3_A – 47.3%).\n",
    "\n",
    "##### Resumo do Comportamento:\n",
    "\n",
    "* Este é o menor grupo, mas representa as noivas mais decididas e proativas.\n",
    "* Possuem clareza total sobre o casamento desejado, estão altamente comprometidas e já possuem um planejamento avançado.\n",
    "* Financeiramente, estão em uma posição relativamente confortável, mas buscam otimizar seus recursos para ter \"mais liberdade\".\n",
    "* O apoio do parceiro também é forte, indicando um esforço conjunto e alinhado.\n",
    "* Provavelmente já pesquisaram bastante e podem estar buscando otimizar o que já planejaram ou encontrar fornecedores e soluções que se encaixem em sua visão clara.\n",
    "\n",
    "##### Necessidades:\n",
    "\n",
    "* Soluções para otimizar o orçamento e maximizar o valor do investimento.\n",
    "* Ferramentas avançadas de gerenciamento de fornecedores ou cronogramas detalhados.\n",
    "* Consultoria especializada para refinar detalhes ou resolver pontos específicos do planejamento.\n",
    "* Inspiração para toques finais ou elementos diferenciados que agreguem valor ao casamento já bem delineado.\n",
    "* Confirmação de que estão no caminho certo e acesso a fornecedores de confiança."
   ]
  },
  {
   "cell_type": "code",
   "execution_count": 43,
   "id": "2e3f3d32",
   "metadata": {},
   "outputs": [
    {
     "data": {
      "application/vnd.plotly.v1+json": {
       "config": {
        "plotlyServerURL": "https://plot.ly"
       },
       "data": [
        {
         "marker": {
          "color": [
           "rgb(229, 134, 6)",
           "rgb(93, 105, 177)",
           "rgb(82, 188, 163)"
          ]
         },
         "text": [
          206,
          234,
          55
         ],
         "textfont": {
          "color": "black",
          "size": 10
         },
         "textposition": "outside",
         "texttemplate": "%{y}",
         "type": "bar",
         "x": [
          "0",
          "1",
          "2"
         ],
         "y": [
          206,
          234,
          55
         ]
        }
       ],
       "layout": {
        "font": {
         "size": 12
        },
        "height": 600,
        "plot_bgcolor": "white",
        "template": {
         "data": {
          "bar": [
           {
            "error_x": {
             "color": "#2a3f5f"
            },
            "error_y": {
             "color": "#2a3f5f"
            },
            "marker": {
             "line": {
              "color": "#E5ECF6",
              "width": 0.5
             },
             "pattern": {
              "fillmode": "overlay",
              "size": 10,
              "solidity": 0.2
             }
            },
            "type": "bar"
           }
          ],
          "barpolar": [
           {
            "marker": {
             "line": {
              "color": "#E5ECF6",
              "width": 0.5
             },
             "pattern": {
              "fillmode": "overlay",
              "size": 10,
              "solidity": 0.2
             }
            },
            "type": "barpolar"
           }
          ],
          "carpet": [
           {
            "aaxis": {
             "endlinecolor": "#2a3f5f",
             "gridcolor": "white",
             "linecolor": "white",
             "minorgridcolor": "white",
             "startlinecolor": "#2a3f5f"
            },
            "baxis": {
             "endlinecolor": "#2a3f5f",
             "gridcolor": "white",
             "linecolor": "white",
             "minorgridcolor": "white",
             "startlinecolor": "#2a3f5f"
            },
            "type": "carpet"
           }
          ],
          "choropleth": [
           {
            "colorbar": {
             "outlinewidth": 0,
             "ticks": ""
            },
            "type": "choropleth"
           }
          ],
          "contour": [
           {
            "colorbar": {
             "outlinewidth": 0,
             "ticks": ""
            },
            "colorscale": [
             [
              0,
              "#0d0887"
             ],
             [
              0.1111111111111111,
              "#46039f"
             ],
             [
              0.2222222222222222,
              "#7201a8"
             ],
             [
              0.3333333333333333,
              "#9c179e"
             ],
             [
              0.4444444444444444,
              "#bd3786"
             ],
             [
              0.5555555555555556,
              "#d8576b"
             ],
             [
              0.6666666666666666,
              "#ed7953"
             ],
             [
              0.7777777777777778,
              "#fb9f3a"
             ],
             [
              0.8888888888888888,
              "#fdca26"
             ],
             [
              1,
              "#f0f921"
             ]
            ],
            "type": "contour"
           }
          ],
          "contourcarpet": [
           {
            "colorbar": {
             "outlinewidth": 0,
             "ticks": ""
            },
            "type": "contourcarpet"
           }
          ],
          "heatmap": [
           {
            "colorbar": {
             "outlinewidth": 0,
             "ticks": ""
            },
            "colorscale": [
             [
              0,
              "#0d0887"
             ],
             [
              0.1111111111111111,
              "#46039f"
             ],
             [
              0.2222222222222222,
              "#7201a8"
             ],
             [
              0.3333333333333333,
              "#9c179e"
             ],
             [
              0.4444444444444444,
              "#bd3786"
             ],
             [
              0.5555555555555556,
              "#d8576b"
             ],
             [
              0.6666666666666666,
              "#ed7953"
             ],
             [
              0.7777777777777778,
              "#fb9f3a"
             ],
             [
              0.8888888888888888,
              "#fdca26"
             ],
             [
              1,
              "#f0f921"
             ]
            ],
            "type": "heatmap"
           }
          ],
          "heatmapgl": [
           {
            "colorbar": {
             "outlinewidth": 0,
             "ticks": ""
            },
            "colorscale": [
             [
              0,
              "#0d0887"
             ],
             [
              0.1111111111111111,
              "#46039f"
             ],
             [
              0.2222222222222222,
              "#7201a8"
             ],
             [
              0.3333333333333333,
              "#9c179e"
             ],
             [
              0.4444444444444444,
              "#bd3786"
             ],
             [
              0.5555555555555556,
              "#d8576b"
             ],
             [
              0.6666666666666666,
              "#ed7953"
             ],
             [
              0.7777777777777778,
              "#fb9f3a"
             ],
             [
              0.8888888888888888,
              "#fdca26"
             ],
             [
              1,
              "#f0f921"
             ]
            ],
            "type": "heatmapgl"
           }
          ],
          "histogram": [
           {
            "marker": {
             "pattern": {
              "fillmode": "overlay",
              "size": 10,
              "solidity": 0.2
             }
            },
            "type": "histogram"
           }
          ],
          "histogram2d": [
           {
            "colorbar": {
             "outlinewidth": 0,
             "ticks": ""
            },
            "colorscale": [
             [
              0,
              "#0d0887"
             ],
             [
              0.1111111111111111,
              "#46039f"
             ],
             [
              0.2222222222222222,
              "#7201a8"
             ],
             [
              0.3333333333333333,
              "#9c179e"
             ],
             [
              0.4444444444444444,
              "#bd3786"
             ],
             [
              0.5555555555555556,
              "#d8576b"
             ],
             [
              0.6666666666666666,
              "#ed7953"
             ],
             [
              0.7777777777777778,
              "#fb9f3a"
             ],
             [
              0.8888888888888888,
              "#fdca26"
             ],
             [
              1,
              "#f0f921"
             ]
            ],
            "type": "histogram2d"
           }
          ],
          "histogram2dcontour": [
           {
            "colorbar": {
             "outlinewidth": 0,
             "ticks": ""
            },
            "colorscale": [
             [
              0,
              "#0d0887"
             ],
             [
              0.1111111111111111,
              "#46039f"
             ],
             [
              0.2222222222222222,
              "#7201a8"
             ],
             [
              0.3333333333333333,
              "#9c179e"
             ],
             [
              0.4444444444444444,
              "#bd3786"
             ],
             [
              0.5555555555555556,
              "#d8576b"
             ],
             [
              0.6666666666666666,
              "#ed7953"
             ],
             [
              0.7777777777777778,
              "#fb9f3a"
             ],
             [
              0.8888888888888888,
              "#fdca26"
             ],
             [
              1,
              "#f0f921"
             ]
            ],
            "type": "histogram2dcontour"
           }
          ],
          "mesh3d": [
           {
            "colorbar": {
             "outlinewidth": 0,
             "ticks": ""
            },
            "type": "mesh3d"
           }
          ],
          "parcoords": [
           {
            "line": {
             "colorbar": {
              "outlinewidth": 0,
              "ticks": ""
             }
            },
            "type": "parcoords"
           }
          ],
          "pie": [
           {
            "automargin": true,
            "type": "pie"
           }
          ],
          "scatter": [
           {
            "fillpattern": {
             "fillmode": "overlay",
             "size": 10,
             "solidity": 0.2
            },
            "type": "scatter"
           }
          ],
          "scatter3d": [
           {
            "line": {
             "colorbar": {
              "outlinewidth": 0,
              "ticks": ""
             }
            },
            "marker": {
             "colorbar": {
              "outlinewidth": 0,
              "ticks": ""
             }
            },
            "type": "scatter3d"
           }
          ],
          "scattercarpet": [
           {
            "marker": {
             "colorbar": {
              "outlinewidth": 0,
              "ticks": ""
             }
            },
            "type": "scattercarpet"
           }
          ],
          "scattergeo": [
           {
            "marker": {
             "colorbar": {
              "outlinewidth": 0,
              "ticks": ""
             }
            },
            "type": "scattergeo"
           }
          ],
          "scattergl": [
           {
            "marker": {
             "colorbar": {
              "outlinewidth": 0,
              "ticks": ""
             }
            },
            "type": "scattergl"
           }
          ],
          "scattermapbox": [
           {
            "marker": {
             "colorbar": {
              "outlinewidth": 0,
              "ticks": ""
             }
            },
            "type": "scattermapbox"
           }
          ],
          "scatterpolar": [
           {
            "marker": {
             "colorbar": {
              "outlinewidth": 0,
              "ticks": ""
             }
            },
            "type": "scatterpolar"
           }
          ],
          "scatterpolargl": [
           {
            "marker": {
             "colorbar": {
              "outlinewidth": 0,
              "ticks": ""
             }
            },
            "type": "scatterpolargl"
           }
          ],
          "scatterternary": [
           {
            "marker": {
             "colorbar": {
              "outlinewidth": 0,
              "ticks": ""
             }
            },
            "type": "scatterternary"
           }
          ],
          "surface": [
           {
            "colorbar": {
             "outlinewidth": 0,
             "ticks": ""
            },
            "colorscale": [
             [
              0,
              "#0d0887"
             ],
             [
              0.1111111111111111,
              "#46039f"
             ],
             [
              0.2222222222222222,
              "#7201a8"
             ],
             [
              0.3333333333333333,
              "#9c179e"
             ],
             [
              0.4444444444444444,
              "#bd3786"
             ],
             [
              0.5555555555555556,
              "#d8576b"
             ],
             [
              0.6666666666666666,
              "#ed7953"
             ],
             [
              0.7777777777777778,
              "#fb9f3a"
             ],
             [
              0.8888888888888888,
              "#fdca26"
             ],
             [
              1,
              "#f0f921"
             ]
            ],
            "type": "surface"
           }
          ],
          "table": [
           {
            "cells": {
             "fill": {
              "color": "#EBF0F8"
             },
             "line": {
              "color": "white"
             }
            },
            "header": {
             "fill": {
              "color": "#C8D4E3"
             },
             "line": {
              "color": "white"
             }
            },
            "type": "table"
           }
          ]
         },
         "layout": {
          "annotationdefaults": {
           "arrowcolor": "#2a3f5f",
           "arrowhead": 0,
           "arrowwidth": 1
          },
          "autotypenumbers": "strict",
          "coloraxis": {
           "colorbar": {
            "outlinewidth": 0,
            "ticks": ""
           }
          },
          "colorscale": {
           "diverging": [
            [
             0,
             "#8e0152"
            ],
            [
             0.1,
             "#c51b7d"
            ],
            [
             0.2,
             "#de77ae"
            ],
            [
             0.3,
             "#f1b6da"
            ],
            [
             0.4,
             "#fde0ef"
            ],
            [
             0.5,
             "#f7f7f7"
            ],
            [
             0.6,
             "#e6f5d0"
            ],
            [
             0.7,
             "#b8e186"
            ],
            [
             0.8,
             "#7fbc41"
            ],
            [
             0.9,
             "#4d9221"
            ],
            [
             1,
             "#276419"
            ]
           ],
           "sequential": [
            [
             0,
             "#0d0887"
            ],
            [
             0.1111111111111111,
             "#46039f"
            ],
            [
             0.2222222222222222,
             "#7201a8"
            ],
            [
             0.3333333333333333,
             "#9c179e"
            ],
            [
             0.4444444444444444,
             "#bd3786"
            ],
            [
             0.5555555555555556,
             "#d8576b"
            ],
            [
             0.6666666666666666,
             "#ed7953"
            ],
            [
             0.7777777777777778,
             "#fb9f3a"
            ],
            [
             0.8888888888888888,
             "#fdca26"
            ],
            [
             1,
             "#f0f921"
            ]
           ],
           "sequentialminus": [
            [
             0,
             "#0d0887"
            ],
            [
             0.1111111111111111,
             "#46039f"
            ],
            [
             0.2222222222222222,
             "#7201a8"
            ],
            [
             0.3333333333333333,
             "#9c179e"
            ],
            [
             0.4444444444444444,
             "#bd3786"
            ],
            [
             0.5555555555555556,
             "#d8576b"
            ],
            [
             0.6666666666666666,
             "#ed7953"
            ],
            [
             0.7777777777777778,
             "#fb9f3a"
            ],
            [
             0.8888888888888888,
             "#fdca26"
            ],
            [
             1,
             "#f0f921"
            ]
           ]
          },
          "colorway": [
           "#636efa",
           "#EF553B",
           "#00cc96",
           "#ab63fa",
           "#FFA15A",
           "#19d3f3",
           "#FF6692",
           "#B6E880",
           "#FF97FF",
           "#FECB52"
          ],
          "font": {
           "color": "#2a3f5f"
          },
          "geo": {
           "bgcolor": "white",
           "lakecolor": "white",
           "landcolor": "#E5ECF6",
           "showlakes": true,
           "showland": true,
           "subunitcolor": "white"
          },
          "hoverlabel": {
           "align": "left"
          },
          "hovermode": "closest",
          "mapbox": {
           "style": "light"
          },
          "paper_bgcolor": "white",
          "plot_bgcolor": "#E5ECF6",
          "polar": {
           "angularaxis": {
            "gridcolor": "white",
            "linecolor": "white",
            "ticks": ""
           },
           "bgcolor": "#E5ECF6",
           "radialaxis": {
            "gridcolor": "white",
            "linecolor": "white",
            "ticks": ""
           }
          },
          "scene": {
           "xaxis": {
            "backgroundcolor": "#E5ECF6",
            "gridcolor": "white",
            "gridwidth": 2,
            "linecolor": "white",
            "showbackground": true,
            "ticks": "",
            "zerolinecolor": "white"
           },
           "yaxis": {
            "backgroundcolor": "#E5ECF6",
            "gridcolor": "white",
            "gridwidth": 2,
            "linecolor": "white",
            "showbackground": true,
            "ticks": "",
            "zerolinecolor": "white"
           },
           "zaxis": {
            "backgroundcolor": "#E5ECF6",
            "gridcolor": "white",
            "gridwidth": 2,
            "linecolor": "white",
            "showbackground": true,
            "ticks": "",
            "zerolinecolor": "white"
           }
          },
          "shapedefaults": {
           "line": {
            "color": "#2a3f5f"
           }
          },
          "ternary": {
           "aaxis": {
            "gridcolor": "white",
            "linecolor": "white",
            "ticks": ""
           },
           "baxis": {
            "gridcolor": "white",
            "linecolor": "white",
            "ticks": ""
           },
           "bgcolor": "#E5ECF6",
           "caxis": {
            "gridcolor": "white",
            "linecolor": "white",
            "ticks": ""
           }
          },
          "title": {
           "x": 0.05
          },
          "xaxis": {
           "automargin": true,
           "gridcolor": "white",
           "linecolor": "white",
           "ticks": "",
           "title": {
            "standoff": 15
           },
           "zerolinecolor": "white",
           "zerolinewidth": 2
          },
          "yaxis": {
           "automargin": true,
           "gridcolor": "white",
           "linecolor": "white",
           "ticks": "",
           "title": {
            "standoff": 15
           },
           "zerolinecolor": "white",
           "zerolinewidth": 2
          }
         }
        },
        "title": {
         "font": {
          "size": 16
         },
         "text": "Número de Leads por Cluster",
         "x": 0.5,
         "xanchor": "center"
        },
        "width": 800,
        "xaxis": {
         "tickangle": 0,
         "title": {
          "text": "Cluster"
         },
         "type": "category"
        },
        "yaxis": {
         "gridcolor": "rgba(211, 211, 211, 0.7)",
         "griddash": "dash",
         "gridwidth": 1,
         "range": [
          0,
          269.09999999999997
         ],
         "showgrid": true,
         "title": {
          "text": "Número de Leads"
         }
        }
       }
      }
     },
     "metadata": {},
     "output_type": "display_data"
    }
   ],
   "source": [
    "# 1. Calcula as contagens de leads em cada cluster e plota no gráfico\n",
    "cluster_counts = df_clusters['Cluster'].value_counts().sort_index()\n",
    "vivid_palette_px = px.colors.qualitative.Vivid\n",
    "bar_colors = [vivid_palette_px[i % len(vivid_palette_px)] for i in range(len(cluster_counts.index))]\n",
    "fig = go.Figure()\n",
    "fig.add_trace(go.Bar(\n",
    "    x=cluster_counts.index.astype(str),\n",
    "    y=cluster_counts.values,\n",
    "    marker_color=bar_colors,\n",
    "    text=cluster_counts.values,\n",
    "    texttemplate='%{y}',\n",
    "    textposition='outside',\n",
    "    textfont=dict(size=10, color='black')\n",
    "))\n",
    "fig.update_layout(\n",
    "    title=dict(\n",
    "        text='Número de Leads por Cluster',\n",
    "        font=dict(size=16),\n",
    "        x=0.5,\n",
    "        xanchor='center'\n",
    "    ),\n",
    "    xaxis_title='Cluster',\n",
    "    yaxis_title='Número de Leads',\n",
    "    xaxis=dict(\n",
    "        tickangle=0,\n",
    "        type='category'\n",
    "    ),\n",
    "    yaxis=dict(\n",
    "        showgrid=True,\n",
    "        gridcolor='rgba(211, 211, 211, 0.7)',\n",
    "        griddash='dash',\n",
    "        gridwidth=1,\n",
    "        range=[0, cluster_counts.values.max() * 1.15]\n",
    "    ),\n",
    "    width=800,\n",
    "    height=600,\n",
    "    plot_bgcolor='white',\n",
    "    font=dict(size=12)\n",
    ")\n",
    "fig.show()"
   ]
  },
  {
   "cell_type": "markdown",
   "id": "e8b6f3cc",
   "metadata": {},
   "source": [
    "###  **Resumo dos Segmentos**\n",
    "\n",
    "| Cluster | Quantidade de leads      | Estilo                  | Organização       | Investimento         | Emoção/Comprometimento    |\n",
    "| ------- | ------------------------ | ----------------------- | ----------------- | -------------------- | ------------------------- |\n",
    "| 0       |       206                | Encantador, mas perdido | Não começaram     | Não conseguem bancar | Sonham, mas perdidas      |\n",
    "| 1       |       234                | Simples e íntimo        | Ideias soltas     | Algo simples         | Sonham juntos, cautelosos |\n",
    "| 2       |       55                 | Encantador a grandioso  | Extremamente alto | Conseguem bancar bem | Altíssimo compromisso     |"
   ]
  },
  {
   "cell_type": "markdown",
   "id": "875880de",
   "metadata": {},
   "source": [
    "✅ A proposta de segmentação mostra claramente três perfis muito distintos, com necessidades, desejos e condições diferentes.\n",
    "\n",
    "✅ A utilização do KMeans com K=3 foi a mais adequada, pois capturou:\n",
    "\n",
    "Dois grandes grupos com foco em simplicidade, porém com diferenças sutis no grau de organização e insegurança.\n",
    "\n",
    "Um grupo menor, mas muito valioso, de clientes de alta conversão e maior ticket médio.\n",
    "\n",
    "✅ Esta segmentação permite construir jornadas de marketing personalizadas, aumentando tanto as taxas de conversão quanto a satisfação dos clientes."
   ]
  }
 ],
 "metadata": {
  "kernelspec": {
   "display_name": "base",
   "language": "python",
   "name": "python3"
  },
  "language_info": {
   "codemirror_mode": {
    "name": "ipython",
    "version": 3
   },
   "file_extension": ".py",
   "mimetype": "text/x-python",
   "name": "python",
   "nbconvert_exporter": "python",
   "pygments_lexer": "ipython3",
   "version": "3.11.5"
  }
 },
 "nbformat": 4,
 "nbformat_minor": 5
}
